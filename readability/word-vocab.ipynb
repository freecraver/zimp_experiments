{
 "cells": [
  {
   "cell_type": "markdown",
   "id": "8bf9a2d8-56e7-4308-9a60-6801fd23c426",
   "metadata": {},
   "source": [
    "# Zimp Vocabulary Size Evaluation\n",
    "How many different words? How frequent are they?"
   ]
  },
  {
   "cell_type": "code",
   "execution_count": 1,
   "id": "d67784af-f9f9-454a-beca-3da3495b9dcd",
   "metadata": {},
   "outputs": [
    {
     "name": "stderr",
     "output_type": "stream",
     "text": [
      "[nltk_data] Downloading package wordnet to\n",
      "[nltk_data]     C:\\Users\\Martin\\AppData\\Roaming\\nltk_data...\n",
      "[nltk_data]   Package wordnet is already up-to-date!\n",
      "[nltk_data] Downloading package punkt to\n",
      "[nltk_data]     C:\\Users\\Martin\\AppData\\Roaming\\nltk_data...\n",
      "[nltk_data]   Package punkt is already up-to-date!\n",
      "[nltk_data] Downloading package perluniprops to\n",
      "[nltk_data]     C:\\Users\\Martin\\AppData\\Roaming\\nltk_data...\n",
      "[nltk_data]   Package perluniprops is already up-to-date!\n"
     ]
    }
   ],
   "source": [
    "import pandas as pd\n",
    "import numpy as np\n",
    "import os\n",
    "import logging\n",
    "import matplotlib.pyplot as plt\n",
    "import time\n",
    "from zimp.pos.countvectorizer_analyzer import CountVectorizerAnalyzer\n",
    "from glob import glob\n",
    "\n",
    "plt.style.use('seaborn-whitegrid')"
   ]
  },
  {
   "cell_type": "code",
   "execution_count": 2,
   "id": "133d7d45-fde3-4020-a90d-610970cd12b0",
   "metadata": {},
   "outputs": [],
   "source": [
    "source_dir = '../../zimp_orchestrator/orch/resources'\n",
    "files = {}"
   ]
  },
  {
   "cell_type": "code",
   "execution_count": 3,
   "id": "458e4731-0524-4524-8ba6-9d78ba7372e2",
   "metadata": {},
   "outputs": [],
   "source": [
    "for ds_path in glob(source_dir + '/*'):\n",
    "    if not os.path.isdir(ds_path):\n",
    "        continue\n",
    "    ds_name = os.path.basename(ds_path)\n",
    "    files[ds_name] = [os.path.join(ds_path, 'train.csv'), os.path.join(ds_path, 'test.csv')]"
   ]
  },
  {
   "cell_type": "code",
   "execution_count": 4,
   "id": "219c096b-81ce-4951-838d-2ca65e0fea51",
   "metadata": {},
   "outputs": [],
   "source": [
    "def get_ds_stats(paths, cva_builder, track_name):\n",
    "    texts = pd.read_csv(paths[0]).text.append(pd.read_csv(paths[1]).text)\n",
    "    return cva_builder(texts).extract_dataset_metric().rename(columns={'count': track_name})\n",
    "\n",
    "def get_ds_language(track):\n",
    "    if track in ['10K-GNAD', 'GERMEVAL-2018', 'GERMEVAL-2020']:\n",
    "        return 'german'\n",
    "    return 'english'"
   ]
  },
  {
   "cell_type": "code",
   "execution_count": 5,
   "id": "00743a15-4c9f-4e3a-9eb7-a5a52fedb03d",
   "metadata": {},
   "outputs": [
    {
     "name": "stdout",
     "output_type": "stream",
     "text": [
      "Loaded existing stats for 10K-GNAD\n",
      "Loaded existing stats for DBP-14\n",
      "Loaded existing stats for GERMEVAL-2018\n",
      "Loaded existing stats for GERMEVAL-2020\n",
      "Loaded existing stats for TREC-6\n",
      "Loaded existing stats for YELP-5\n"
     ]
    },
    {
     "data": {
      "text/html": [
       "<div>\n",
       "<style scoped>\n",
       "    .dataframe tbody tr th:only-of-type {\n",
       "        vertical-align: middle;\n",
       "    }\n",
       "\n",
       "    .dataframe tbody tr th {\n",
       "        vertical-align: top;\n",
       "    }\n",
       "\n",
       "    .dataframe thead th {\n",
       "        text-align: right;\n",
       "    }\n",
       "</style>\n",
       "<table border=\"1\" class=\"dataframe\">\n",
       "  <thead>\n",
       "    <tr style=\"text-align: right;\">\n",
       "      <th></th>\n",
       "      <th>count</th>\n",
       "    </tr>\n",
       "  </thead>\n",
       "  <tbody>\n",
       "    <tr>\n",
       "      <th>?</th>\n",
       "      <td>5850</td>\n",
       "    </tr>\n",
       "    <tr>\n",
       "      <th>the</th>\n",
       "      <td>4066</td>\n",
       "    </tr>\n",
       "    <tr>\n",
       "      <th>what</th>\n",
       "      <td>3726</td>\n",
       "    </tr>\n",
       "    <tr>\n",
       "      <th>is</th>\n",
       "      <td>1970</td>\n",
       "    </tr>\n",
       "    <tr>\n",
       "      <th>of</th>\n",
       "      <td>1641</td>\n",
       "    </tr>\n",
       "  </tbody>\n",
       "</table>\n",
       "</div>"
      ],
      "text/plain": [
       "      count\n",
       "?      5850\n",
       "the    4066\n",
       "what   3726\n",
       "is     1970\n",
       "of     1641"
      ]
     },
     "execution_count": 5,
     "metadata": {},
     "output_type": "execute_result"
    }
   ],
   "source": [
    "file_path = 'measures/vocab_size_<DS>.csv'\n",
    "results_dfs = {}\n",
    "for dataset in files:\n",
    "    dataset_path = file_path.replace('<DS>', dataset)\n",
    "    if os.path.exists(dataset_path):\n",
    "        df_dataset = pd.read_csv(dataset_path, index_col=0)\n",
    "        print('Loaded existing stats for', dataset)\n",
    "    else:\n",
    "        df_dataset = get_ds_stats(files[dataset], lambda texts: CountVectorizerAnalyzer(texts, language=get_ds_language(dataset)), 'count')\n",
    "        df_dataset.to_csv(dataset_path)\n",
    "        print('Calculated stats for', dataset)\n",
    "        \n",
    "    results_dfs[dataset] = df_dataset\n",
    "\n",
    "results_dfs['TREC-6'].head(n=5)"
   ]
  },
  {
   "cell_type": "code",
   "execution_count": 6,
   "id": "dd62a4ce-9352-4662-a5c6-b90034c3facb",
   "metadata": {},
   "outputs": [],
   "source": [
    "def get_vocab_stats(df_vocab):\n",
    "    df_cumrat = df_vocab.cumsum()/df_vocab.sum()\n",
    "    return {\n",
    "        'vocab_size': df_vocab.index.size,\n",
    "        'min_2_occ': (df_vocab > 1).sum().get('count'),\n",
    "        'min_3_occ': (df_vocab > 2).sum().get('count'),\n",
    "        'min_5_occ': (df_vocab > 4).sum().get('count'),\n",
    "        'vocab_5_percent': (df_cumrat < 0.05).sum().get('count') + 1,\n",
    "        'vocab_10_percent': (df_cumrat < 0.1).sum().get('count') + 1,\n",
    "        'vocab_25_percent': (df_cumrat < 0.25).sum().get('count') + 1,\n",
    "        'vocab_50_percent': (df_cumrat < 0.5).sum().get('count') + 1,\n",
    "        'vocab_top10': df_cumrat.iloc[9, 0],\n",
    "        'vocab_top100': df_cumrat.iloc[99, 0],\n",
    "        'vocab_top300': df_cumrat.iloc[299, 0],\n",
    "        'vocab_top500': df_cumrat.iloc[499, 0],\n",
    "    }"
   ]
  },
  {
   "cell_type": "code",
   "execution_count": 7,
   "id": "a262a336-5ab6-40ec-9f76-3d05d3bef684",
   "metadata": {},
   "outputs": [
    {
     "data": {
      "text/html": [
       "<div>\n",
       "<style scoped>\n",
       "    .dataframe tbody tr th:only-of-type {\n",
       "        vertical-align: middle;\n",
       "    }\n",
       "\n",
       "    .dataframe tbody tr th {\n",
       "        vertical-align: top;\n",
       "    }\n",
       "\n",
       "    .dataframe thead th {\n",
       "        text-align: right;\n",
       "    }\n",
       "</style>\n",
       "<table border=\"1\" class=\"dataframe\">\n",
       "  <thead>\n",
       "    <tr style=\"text-align: right;\">\n",
       "      <th></th>\n",
       "      <th>vocab_size</th>\n",
       "      <th>min_2_occ</th>\n",
       "      <th>min_3_occ</th>\n",
       "      <th>min_5_occ</th>\n",
       "      <th>vocab_5_percent</th>\n",
       "      <th>vocab_10_percent</th>\n",
       "      <th>vocab_25_percent</th>\n",
       "      <th>vocab_50_percent</th>\n",
       "      <th>vocab_top10</th>\n",
       "      <th>vocab_top100</th>\n",
       "      <th>vocab_top300</th>\n",
       "      <th>vocab_top500</th>\n",
       "    </tr>\n",
       "  </thead>\n",
       "  <tbody>\n",
       "    <tr>\n",
       "      <th>10K-GNAD</th>\n",
       "      <td>227275.0</td>\n",
       "      <td>99285.0</td>\n",
       "      <td>67546.0</td>\n",
       "      <td>43569.0</td>\n",
       "      <td>1.0</td>\n",
       "      <td>2.0</td>\n",
       "      <td>13.0</td>\n",
       "      <td>125.0</td>\n",
       "      <td>0.230348</td>\n",
       "      <td>0.480994</td>\n",
       "      <td>0.569957</td>\n",
       "      <td>0.610090</td>\n",
       "    </tr>\n",
       "    <tr>\n",
       "      <th>DBP-14</th>\n",
       "      <td>967723.0</td>\n",
       "      <td>493036.0</td>\n",
       "      <td>282784.0</td>\n",
       "      <td>166010.0</td>\n",
       "      <td>1.0</td>\n",
       "      <td>3.0</td>\n",
       "      <td>9.0</td>\n",
       "      <td>148.0</td>\n",
       "      <td>0.279432</td>\n",
       "      <td>0.469249</td>\n",
       "      <td>0.562971</td>\n",
       "      <td>0.612887</td>\n",
       "    </tr>\n",
       "    <tr>\n",
       "      <th>GERMEVAL-2018</th>\n",
       "      <td>25822.0</td>\n",
       "      <td>9643.0</td>\n",
       "      <td>6102.0</td>\n",
       "      <td>3579.0</td>\n",
       "      <td>1.0</td>\n",
       "      <td>2.0</td>\n",
       "      <td>11.0</td>\n",
       "      <td>89.0</td>\n",
       "      <td>0.243331</td>\n",
       "      <td>0.514432</td>\n",
       "      <td>0.626194</td>\n",
       "      <td>0.674467</td>\n",
       "    </tr>\n",
       "    <tr>\n",
       "      <th>GERMEVAL-2020</th>\n",
       "      <td>217703.0</td>\n",
       "      <td>54480.0</td>\n",
       "      <td>33770.0</td>\n",
       "      <td>20778.0</td>\n",
       "      <td>1.0</td>\n",
       "      <td>2.0</td>\n",
       "      <td>6.0</td>\n",
       "      <td>43.0</td>\n",
       "      <td>0.324037</td>\n",
       "      <td>0.594837</td>\n",
       "      <td>0.711502</td>\n",
       "      <td>0.759534</td>\n",
       "    </tr>\n",
       "    <tr>\n",
       "      <th>TREC-6</th>\n",
       "      <td>8965.0</td>\n",
       "      <td>3638.0</td>\n",
       "      <td>2277.0</td>\n",
       "      <td>1277.0</td>\n",
       "      <td>1.0</td>\n",
       "      <td>2.0</td>\n",
       "      <td>4.0</td>\n",
       "      <td>30.0</td>\n",
       "      <td>0.370228</td>\n",
       "      <td>0.595349</td>\n",
       "      <td>0.680120</td>\n",
       "      <td>0.722379</td>\n",
       "    </tr>\n",
       "    <tr>\n",
       "      <th>YELP-5</th>\n",
       "      <td>768397.0</td>\n",
       "      <td>236568.0</td>\n",
       "      <td>157574.0</td>\n",
       "      <td>104285.0</td>\n",
       "      <td>2.0</td>\n",
       "      <td>3.0</td>\n",
       "      <td>10.0</td>\n",
       "      <td>62.0</td>\n",
       "      <td>0.262256</td>\n",
       "      <td>0.569781</td>\n",
       "      <td>0.705211</td>\n",
       "      <td>0.765781</td>\n",
       "    </tr>\n",
       "  </tbody>\n",
       "</table>\n",
       "</div>"
      ],
      "text/plain": [
       "               vocab_size  min_2_occ  min_3_occ  min_5_occ  vocab_5_percent  \\\n",
       "10K-GNAD         227275.0    99285.0    67546.0    43569.0              1.0   \n",
       "DBP-14           967723.0   493036.0   282784.0   166010.0              1.0   \n",
       "GERMEVAL-2018     25822.0     9643.0     6102.0     3579.0              1.0   \n",
       "GERMEVAL-2020    217703.0    54480.0    33770.0    20778.0              1.0   \n",
       "TREC-6             8965.0     3638.0     2277.0     1277.0              1.0   \n",
       "YELP-5           768397.0   236568.0   157574.0   104285.0              2.0   \n",
       "\n",
       "               vocab_10_percent  vocab_25_percent  vocab_50_percent  \\\n",
       "10K-GNAD                    2.0              13.0             125.0   \n",
       "DBP-14                      3.0               9.0             148.0   \n",
       "GERMEVAL-2018               2.0              11.0              89.0   \n",
       "GERMEVAL-2020               2.0               6.0              43.0   \n",
       "TREC-6                      2.0               4.0              30.0   \n",
       "YELP-5                      3.0              10.0              62.0   \n",
       "\n",
       "               vocab_top10  vocab_top100  vocab_top300  vocab_top500  \n",
       "10K-GNAD          0.230348      0.480994      0.569957      0.610090  \n",
       "DBP-14            0.279432      0.469249      0.562971      0.612887  \n",
       "GERMEVAL-2018     0.243331      0.514432      0.626194      0.674467  \n",
       "GERMEVAL-2020     0.324037      0.594837      0.711502      0.759534  \n",
       "TREC-6            0.370228      0.595349      0.680120      0.722379  \n",
       "YELP-5            0.262256      0.569781      0.705211      0.765781  "
      ]
     },
     "execution_count": 7,
     "metadata": {},
     "output_type": "execute_result"
    }
   ],
   "source": [
    "file_path = 'measures/vocab_stats.csv'\n",
    "if os.path.exists(file_path):\n",
    "    df_vocab = pd.read_csv(file_path, index_col=0)\n",
    "else:\n",
    "    vocab_series = []\n",
    "    for dataset in results_dfs:\n",
    "        vocab_series.append(pd.Series(get_vocab_stats(results_dfs[dataset]), name=dataset))\n",
    "    df_vocab = pd.DataFrame(vocab_series)\n",
    "    df_vocab.to_csv(file_path)\n",
    "    \n",
    "df_vocab"
   ]
  },
  {
   "cell_type": "code",
   "execution_count": 8,
   "id": "eb690122-4076-4e09-9ff1-8f5e807219f5",
   "metadata": {},
   "outputs": [],
   "source": [
    "def get_latex_dataset(dataset):\n",
    "    return {\n",
    "        '10K-GNAD': '10kGNAD',\n",
    "        'DBP-14': 'DBP-14',\n",
    "        'GERMEVAL-2018': 'GermEval2018',\n",
    "        'GERMEVAL-2020': 'GermEval2020',\n",
    "        'TREC-6': 'Trec-6',\n",
    "        'YELP-5': 'Yelp-5'\n",
    "    }.get(dataset)"
   ]
  },
  {
   "cell_type": "code",
   "execution_count": 9,
   "id": "8d4eee97-70e9-424a-a988-4a8d4c446705",
   "metadata": {},
   "outputs": [
    {
     "name": "stdout",
     "output_type": "stream",
     "text": [
      "\n",
      "\\begin{table}[]\n",
      "    \\centering\n",
      "    \\begin{tabular}{l|c|c|c|c|c|c}\n",
      "        Dataset & $V$ & $V_5$ & $v(i)=0.5$ & $v(10)$ & $v(100)$ & $v(300)$ \\\\ \\hline\n",
      "\t\t \\texttt{10kGNAD} & 227275 & 43569 & 125 & 0.23 & 0.48 & 0.57 \\\\\n",
      "\t\t \\texttt{DBP-14} & 967723 & 166010 & 148 & 0.28 & 0.47 & 0.56 \\\\\n",
      "\t\t \\texttt{GermEval2018} & 25822 & 3579 & 89 & 0.24 & 0.51 & 0.63 \\\\\n",
      "\t\t \\texttt{GermEval2020} & 217703 & 20778 & 43 & 0.32 & 0.59 & 0.71 \\\\\n",
      "\t\t \\texttt{Trec-6} & 8965 & 1277 & 30 & 0.37 & 0.60 & 0.68 \\\\\n",
      "\t\t \\texttt{Yelp-5} & 768397 & 104285 & 62 & 0.26 & 0.57 & 0.71 \\\\\n",
      "    \\end{tabular}\n",
      "\\end{table}\n",
      "\n"
     ]
    }
   ],
   "source": [
    "print(\"\"\"\n",
    "\\\\begin{table}[]\n",
    "    \\centering\n",
    "    \\\\begin{tabular}{l|c|c|c|c|c|c}\n",
    "        Dataset & $V$ & $V_5$ & $v(i)=0.5$ & $v(10)$ & $v(100)$ & $v(300)$ \\\\\\\\ \\hline\"\"\")\n",
    "\n",
    "for idx, row in df_vocab.iterrows():\n",
    "    print('\\t'*2,\n",
    "          '\\\\texttt{'+get_latex_dataset(idx)+ '}',\n",
    "          f\"& {int(row.vocab_size)} & {int(row.min_5_occ)} & {int(row.vocab_50_percent)}\",\n",
    "          f\"& {row.vocab_top10:.2f} & {row.vocab_top100:.2f} & {row.vocab_top300:.2f}\",\n",
    "          \"\\\\\\\\\")\n",
    "\n",
    "print(\"\"\"    \\end{tabular}\n",
    "\\end{table}\n",
    "\"\"\")"
   ]
  },
  {
   "cell_type": "code",
   "execution_count": 10,
   "id": "d8a9eada-75ee-4d37-b934-9025d2802e26",
   "metadata": {},
   "outputs": [
    {
     "data": {
      "text/plain": [
       "10K-GNAD         0.191702\n",
       "DBP-14           0.171547\n",
       "GERMEVAL-2018    0.138603\n",
       "GERMEVAL-2020    0.095442\n",
       "TREC-6           0.142443\n",
       "YELP-5           0.135718\n",
       "dtype: float64"
      ]
     },
     "execution_count": 10,
     "metadata": {},
     "output_type": "execute_result"
    }
   ],
   "source": [
    "df_vocab.min_5_occ / df_vocab.vocab_size"
   ]
  },
  {
   "cell_type": "markdown",
   "id": "66194841-1bf6-43d2-bfc0-2a4cf780aeed",
   "metadata": {},
   "source": [
    "## Zipfs Law"
   ]
  },
  {
   "cell_type": "code",
   "execution_count": 79,
   "id": "b22e3af6-382b-4ab5-92ac-4b0859251b00",
   "metadata": {},
   "outputs": [
    {
     "data": {
      "text/plain": [
       "(1, 10000000)"
      ]
     },
     "execution_count": 79,
     "metadata": {},
     "output_type": "execute_result"
    },
    {
     "data": {
      "image/png": "[encoded data removed]",
      "text/plain": [
       "<Figure size 1080x360 with 1 Axes>"
      ]
     },
     "metadata": {},
     "output_type": "display_data"
    }
   ],
   "source": [
    "fig = plt.figure(figsize=(15,5))\n",
    "ax = ax = fig.add_subplot(1, 1, 1)\n",
    "\n",
    "def plot_zipf(df, ax):\n",
    "    df = df.reset_index(drop=True)\n",
    "    \n",
    "    (df['count']/df['count'].max()).plot(ax=ax, logx=True,logy=True, alpha=.5)\n",
    "    return df\n",
    "\n",
    "for df in results_dfs:\n",
    "    plot_zipf(results_dfs[df], ax)\n",
    "\n",
    "pd.Series([1/x for x in range(1,10**7)]).plot(ax=ax, logx=True, logy=True, color='black')\n",
    "    \n",
    "ax.set_title(\"Zipf's Law\")\n",
    "ax.set_xlabel(\"Log Rank\")\n",
    "ax.set_ylabel('Normalized Log Frequency')\n",
    "ax.legend(list(results_dfs.keys()) + ['ZIPF'])\n",
    "ax.set_xlim([1,10**7])"
   ]
  },
  {
   "cell_type": "code",
   "execution_count": 85,
   "id": "7cd55e92-e1a7-4d54-9436-008d6850cc63",
   "metadata": {},
   "outputs": [
    {
     "data": {
      "text/plain": [
       "count     8965.000000\n",
       "mean      6047.814055\n",
       "std       1307.192465\n",
       "min       3639.000000\n",
       "25%       5070.000000\n",
       "50%       5856.000000\n",
       "75%       6923.000000\n",
       "max      11178.000000\n",
       "dtype: float64"
      ]
     },
     "execution_count": 85,
     "metadata": {},
     "output_type": "execute_result"
    }
   ],
   "source": [
    "d = results_dfs['TREC-6'].reset_index(drop=True)\n",
    "((d.index+1) * d['count']).describe()"
   ]
  },
  {
   "cell_type": "code",
   "execution_count": null,
   "id": "0703dfc2-f660-4cfa-90e8-83ac32cdb4ba",
   "metadata": {},
   "outputs": [],
   "source": []
  }
 ],
 "metadata": {
  "kernelspec": {
   "display_name": "Python 3 (ipykernel)",
   "language": "python",
   "name": "python3"
  },
  "language_info": {
   "codemirror_mode": {
    "name": "ipython",
    "version": 3
   },
   "file_extension": ".py",
   "mimetype": "text/x-python",
   "name": "python",
   "nbconvert_exporter": "python",
   "pygments_lexer": "ipython3",
   "version": "3.8.12"
  }
 },
 "nbformat": 4,
 "nbformat_minor": 5
}
