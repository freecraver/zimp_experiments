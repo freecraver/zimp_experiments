{
 "cells": [
  {
   "cell_type": "markdown",
   "id": "8bf9a2d8-56e7-4308-9a60-6801fd23c426",
   "metadata": {},
   "source": [
    "# Zimp Word to Sentence Ratio Analysis\n",
    "How many sentences? How many words?"
   ]
  },
  {
   "cell_type": "code",
   "execution_count": 1,
   "id": "d67784af-f9f9-454a-beca-3da3495b9dcd",
   "metadata": {},
   "outputs": [
    {
     "name": "stderr",
     "output_type": "stream",
     "text": [
      "[nltk_data] Downloading package wordnet to\n",
      "[nltk_data]     C:\\Users\\Martin\\AppData\\Roaming\\nltk_data...\n",
      "[nltk_data]   Package wordnet is already up-to-date!\n",
      "[nltk_data] Downloading package punkt to\n",
      "[nltk_data]     C:\\Users\\Martin\\AppData\\Roaming\\nltk_data...\n",
      "[nltk_data]   Package punkt is already up-to-date!\n",
      "[nltk_data] Downloading package perluniprops to\n",
      "[nltk_data]     C:\\Users\\Martin\\AppData\\Roaming\\nltk_data...\n",
      "[nltk_data]   Package perluniprops is already up-to-date!\n"
     ]
    }
   ],
   "source": [
    "import pandas as pd\n",
    "import numpy as np\n",
    "import os\n",
    "import logging\n",
    "import matplotlib.pyplot as plt\n",
    "import time\n",
    "from zimp.pos.wordcount_analyzer import WordCountAnalyzer\n",
    "from zimp.pos.sentence_count_analyzer import SentenceCountAnalyzer\n",
    "from glob import glob\n",
    "\n",
    "plt.style.use('seaborn-whitegrid')"
   ]
  },
  {
   "cell_type": "code",
   "execution_count": 2,
   "id": "133d7d45-fde3-4020-a90d-610970cd12b0",
   "metadata": {},
   "outputs": [],
   "source": [
    "source_dir = '../../zimp_orchestrator/orch/resources'\n",
    "files = {}"
   ]
  },
  {
   "cell_type": "code",
   "execution_count": 3,
   "id": "458e4731-0524-4524-8ba6-9d78ba7372e2",
   "metadata": {},
   "outputs": [],
   "source": [
    "for ds_path in glob(source_dir + '/*'):\n",
    "    if not os.path.isdir(ds_path):\n",
    "        continue\n",
    "    ds_name = os.path.basename(ds_path)\n",
    "    files[ds_name] = [os.path.join(ds_path, 'train.csv'), os.path.join(ds_path, 'test.csv')]"
   ]
  },
  {
   "cell_type": "code",
   "execution_count": 4,
   "id": "219c096b-81ce-4951-838d-2ca65e0fea51",
   "metadata": {},
   "outputs": [],
   "source": [
    "def get_ds_stats(paths, wca_builder, track_name):\n",
    "    texts = pd.read_csv(paths[0]).text.append(pd.read_csv(paths[1]).text)\n",
    "    s = pd.Series(wca_builder(texts).extract_batch_metrics(), name=track_name)\n",
    "    return s\n",
    "\n",
    "def get_ds_language(track):\n",
    "    if track in ['10K-GNAD', 'GERMEVAL-2018', 'GERMEVAL-2020']:\n",
    "        return 'german'\n",
    "    return 'english'"
   ]
  },
  {
   "cell_type": "code",
   "execution_count": 5,
   "id": "00743a15-4c9f-4e3a-9eb7-a5a52fedb03d",
   "metadata": {},
   "outputs": [
    {
     "data": {
      "text/html": [
       "<div>\n",
       "<style scoped>\n",
       "    .dataframe tbody tr th:only-of-type {\n",
       "        vertical-align: middle;\n",
       "    }\n",
       "\n",
       "    .dataframe tbody tr th {\n",
       "        vertical-align: top;\n",
       "    }\n",
       "\n",
       "    .dataframe thead th {\n",
       "        text-align: right;\n",
       "    }\n",
       "</style>\n",
       "<table border=\"1\" class=\"dataframe\">\n",
       "  <thead>\n",
       "    <tr style=\"text-align: right;\">\n",
       "      <th></th>\n",
       "      <th>10K-GNAD</th>\n",
       "      <th>DBP-14</th>\n",
       "      <th>GERMEVAL-2018</th>\n",
       "      <th>GERMEVAL-2020</th>\n",
       "      <th>TREC-6</th>\n",
       "      <th>YELP-5</th>\n",
       "    </tr>\n",
       "  </thead>\n",
       "  <tbody>\n",
       "    <tr>\n",
       "      <th>avg_words</th>\n",
       "      <td>414.018008</td>\n",
       "      <td>54.729171</td>\n",
       "      <td>24.241346</td>\n",
       "      <td>23.307666</td>\n",
       "      <td>9.991431</td>\n",
       "      <td>154.578214</td>\n",
       "    </tr>\n",
       "    <tr>\n",
       "      <th>avg_sentences</th>\n",
       "      <td>22.597781</td>\n",
       "      <td>2.397305</td>\n",
       "      <td>1.865112</td>\n",
       "      <td>1.506239</td>\n",
       "      <td>1.010585</td>\n",
       "      <td>8.500249</td>\n",
       "    </tr>\n",
       "    <tr>\n",
       "      <th>avg_words_per_sentence</th>\n",
       "      <td>18.701749</td>\n",
       "      <td>25.016594</td>\n",
       "      <td>14.904357</td>\n",
       "      <td>17.718422</td>\n",
       "      <td>9.915295</td>\n",
       "      <td>18.666857</td>\n",
       "    </tr>\n",
       "  </tbody>\n",
       "</table>\n",
       "</div>"
      ],
      "text/plain": [
       "                          10K-GNAD     DBP-14  GERMEVAL-2018  GERMEVAL-2020  \\\n",
       "avg_words               414.018008  54.729171      24.241346      23.307666   \n",
       "avg_sentences            22.597781   2.397305       1.865112       1.506239   \n",
       "avg_words_per_sentence   18.701749  25.016594      14.904357      17.718422   \n",
       "\n",
       "                          TREC-6      YELP-5  \n",
       "avg_words               9.991431  154.578214  \n",
       "avg_sentences           1.010585    8.500249  \n",
       "avg_words_per_sentence  9.915295   18.666857  "
      ]
     },
     "execution_count": 5,
     "metadata": {},
     "output_type": "execute_result"
    }
   ],
   "source": [
    "file_path = 'measures/words_per_sentence.csv'\n",
    "if os.path.exists(file_path):\n",
    "    df_wps = pd.read_csv(file_path)\n",
    "else:\n",
    "    dfs = []\n",
    "    for dataset in files.keys():\n",
    "        s_words = get_ds_stats(files[dataset], lambda texts: WordCountAnalyzer(texts, language=get_ds_language(dataset)), 'words')\n",
    "        s_sentences = get_ds_stats(files[dataset], lambda texts: SentenceCountAnalyzer(texts, language=get_ds_language(dataset)), 'sentences')\n",
    "        s_words_per_sentence = s_words/s_sentences\n",
    "        df = pd.DataFrame([s_words.mean(), s_sentences.mean(), s_words_per_sentence.mean()], index=['avg_words', 'avg_sentences', 'avg_words_per_sentence'], columns=[dataset])\n",
    "        dfs.append(df)\n",
    "    df_wps = pd.concat(dfs, axis=1)\n",
    "    df_wps.to_csv(file_path)\n",
    "\n",
    "df_wps"
   ]
  },
  {
   "cell_type": "code",
   "execution_count": null,
   "id": "dd62a4ce-9352-4662-a5c6-b90034c3facb",
   "metadata": {},
   "outputs": [],
   "source": []
  }
 ],
 "metadata": {
  "kernelspec": {
   "display_name": "Python 3 (ipykernel)",
   "language": "python",
   "name": "python3"
  },
  "language_info": {
   "codemirror_mode": {
    "name": "ipython",
    "version": 3
   },
   "file_extension": ".py",
   "mimetype": "text/x-python",
   "name": "python",
   "nbconvert_exporter": "python",
   "pygments_lexer": "ipython3",
   "version": "3.8.12"
  }
 },
 "nbformat": 4,
 "nbformat_minor": 5
}
