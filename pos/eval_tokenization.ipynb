{
 "cells": [
  {
   "cell_type": "code",
   "execution_count": 1,
   "id": "9d168473-2d30-4d8f-970d-0cec6f9c530d",
   "metadata": {},
   "outputs": [
    {
     "name": "stderr",
     "output_type": "stream",
     "text": [
      "[nltk_data] Downloading package wordnet to\n",
      "[nltk_data]     C:\\Users\\Martin\\AppData\\Roaming\\nltk_data...\n",
      "[nltk_data]   Package wordnet is already up-to-date!\n",
      "[nltk_data] Downloading package punkt to\n",
      "[nltk_data]     C:\\Users\\Martin\\AppData\\Roaming\\nltk_data...\n",
      "[nltk_data]   Package punkt is already up-to-date!\n",
      "[nltk_data] Downloading package perluniprops to\n",
      "[nltk_data]     C:\\Users\\Martin\\AppData\\Roaming\\nltk_data...\n",
      "[nltk_data]   Package perluniprops is already up-to-date!\n"
     ]
    }
   ],
   "source": [
    "import pandas as pd\n",
    "import numpy as np\n",
    "import matplotlib.pyplot as plt\n",
    "from glob import glob\n",
    "from zimp.pos.tokenization.builder import TokenizerStrategy, build_tokenizer\n",
    "from zimp.pos.countvectorizer_analyzer import CountVectorizerAnalyzer\n",
    "\n",
    "plt.style.use('seaborn-whitegrid')"
   ]
  },
  {
   "cell_type": "code",
   "execution_count": 2,
   "id": "d0f08f8d-a1de-4829-8856-30b02f69a864",
   "metadata": {},
   "outputs": [],
   "source": [
    "def is_punctuation(pos_tag):\n",
    "    return pos_tag in ['!', '.', ',', '?', ':', ';', '-', '-LRB-', '-RRB-']\n",
    "\n",
    "# Todo: check if sentence-wise tokenization works better\n",
    "def extract_text(treebank_str):\n",
    "    text, token_count, tokens = '', 0, []\n",
    "    for line in treebank_str:\n",
    "        if line == '\\n':\n",
    "            text += ' '\n",
    "        else:\n",
    "            line_parts = line.split('\\t')\n",
    "            token = line_parts[0]\n",
    "            text = text + ' ' if text and not is_punctuation(line_parts[1]) else text\n",
    "            text += token\n",
    "            token_count += 1\n",
    "            tokens.append(token)\n",
    "    return text, tokens, token_count"
   ]
  },
  {
   "cell_type": "code",
   "execution_count": 3,
   "id": "d895f548-925d-44cc-944a-581c1a1b56f0",
   "metadata": {},
   "outputs": [],
   "source": [
    "texts = []\n",
    "token_counts = []\n",
    "tokens = []\n",
    "for file in glob('dependency_treebank/*.dp'):\n",
    "    with open(file, 'r') as f:\n",
    "        txt, ts, tc = extract_text(f.readlines())\n",
    "        texts.append(txt)\n",
    "        tokens.append(ts)\n",
    "        token_counts.append(tc)"
   ]
  },
  {
   "cell_type": "code",
   "execution_count": 4,
   "id": "e3b9a067-6368-4d9c-b7f2-040ce2a80959",
   "metadata": {},
   "outputs": [],
   "source": [
    "def get_token_stats(prediction_list, target_list):\n",
    "    remaining_target_list = target_list.copy()\n",
    "    cnt_matched, cnt_not_matched = 0, 0\n",
    "    for token in prediction_list:\n",
    "        if token in remaining_target_list:\n",
    "            remaining_target_list.remove(token)\n",
    "            cnt_matched += 1\n",
    "        else:\n",
    "            cnt_not_matched += 1\n",
    "    return pd.Series({\n",
    "        'matched': cnt_matched,\n",
    "        'not_matched': cnt_not_matched,\n",
    "        'not_found': len(remaining_target_list)\n",
    "    })      "
   ]
  },
  {
   "cell_type": "code",
   "execution_count": 5,
   "id": "728657e9-82ed-469c-aeec-a40e015e99df",
   "metadata": {},
   "outputs": [
    {
     "name": "stdout",
     "output_type": "stream",
     "text": [
      "----------REGEX----------\n",
      "matched        76746\n",
      "not_matched     8302\n",
      "not_found      17338\n",
      "dtype: int64\n",
      "----------PYTHON----------\n",
      "matched        75090\n",
      "not_matched     9443\n",
      "not_found      18994\n",
      "dtype: int64\n",
      "----------NLTK_BASE----------\n",
      "matched        92296\n",
      "not_matched     1414\n",
      "not_found       1788\n",
      "dtype: int64\n",
      "----------WORD_PUNKT----------\n",
      "matched        88473\n",
      "not_matched    14078\n",
      "not_found       5611\n",
      "dtype: int64\n",
      "----------NLTK_TWEET----------\n",
      "matched        89249\n",
      "not_matched    10454\n",
      "not_found       4835\n",
      "dtype: int64\n",
      "----------NLTK_NIST----------\n",
      "matched        90721\n",
      "not_matched     6698\n",
      "not_found       3363\n",
      "dtype: int64\n",
      "----------SPACY----------\n",
      "matched        91270\n",
      "not_matched     9593\n",
      "not_found       2814\n",
      "dtype: int64\n",
      "----------GENSIM----------\n",
      "matched        75183\n",
      "not_matched     6136\n",
      "not_found      18901\n",
      "dtype: int64\n"
     ]
    }
   ],
   "source": [
    "stat_sums = []\n",
    "for strategy in TokenizerStrategy:\n",
    "    tokenizer = build_tokenizer(strategy, 'english')\n",
    "    tokenizer_stats = []\n",
    "    for txt, target_tokens in zip(texts, tokens):\n",
    "        predicted_tokens = tokenizer.tokenize_text(txt)\n",
    "        tokenizer_stats.append(get_token_stats(predicted_tokens, target_tokens))\n",
    "    strat_stat = pd.concat(tokenizer_stats, axis=1).T.sum()\n",
    "    print('-'*10+strategy.name+'-'*10)\n",
    "    print(strat_stat)\n",
    "    stat_sums.append(strat_stat)"
   ]
  },
  {
   "cell_type": "code",
   "execution_count": 6,
   "id": "8781d906-6bd2-40df-a093-5016f3ead715",
   "metadata": {},
   "outputs": [
    {
     "data": {
      "text/html": [
       "<div>\n",
       "<style scoped>\n",
       "    .dataframe tbody tr th:only-of-type {\n",
       "        vertical-align: middle;\n",
       "    }\n",
       "\n",
       "    .dataframe tbody tr th {\n",
       "        vertical-align: top;\n",
       "    }\n",
       "\n",
       "    .dataframe thead th {\n",
       "        text-align: right;\n",
       "    }\n",
       "</style>\n",
       "<table border=\"1\" class=\"dataframe\">\n",
       "  <thead>\n",
       "    <tr style=\"text-align: right;\">\n",
       "      <th></th>\n",
       "      <th>REGEX</th>\n",
       "      <th>PYTHON</th>\n",
       "      <th>NLTK_BASE</th>\n",
       "      <th>WORD_PUNKT</th>\n",
       "      <th>NLTK_TWEET</th>\n",
       "      <th>NLTK_NIST</th>\n",
       "      <th>SPACY</th>\n",
       "      <th>GENSIM</th>\n",
       "    </tr>\n",
       "  </thead>\n",
       "  <tbody>\n",
       "    <tr>\n",
       "      <th>matched</th>\n",
       "      <td>76746</td>\n",
       "      <td>75090</td>\n",
       "      <td>92296</td>\n",
       "      <td>88473</td>\n",
       "      <td>89249</td>\n",
       "      <td>90721</td>\n",
       "      <td>91270</td>\n",
       "      <td>75183</td>\n",
       "    </tr>\n",
       "    <tr>\n",
       "      <th>not_matched</th>\n",
       "      <td>8302</td>\n",
       "      <td>9443</td>\n",
       "      <td>1414</td>\n",
       "      <td>14078</td>\n",
       "      <td>10454</td>\n",
       "      <td>6698</td>\n",
       "      <td>9593</td>\n",
       "      <td>6136</td>\n",
       "    </tr>\n",
       "    <tr>\n",
       "      <th>not_found</th>\n",
       "      <td>17338</td>\n",
       "      <td>18994</td>\n",
       "      <td>1788</td>\n",
       "      <td>5611</td>\n",
       "      <td>4835</td>\n",
       "      <td>3363</td>\n",
       "      <td>2814</td>\n",
       "      <td>18901</td>\n",
       "    </tr>\n",
       "  </tbody>\n",
       "</table>\n",
       "</div>"
      ],
      "text/plain": [
       "             REGEX  PYTHON  NLTK_BASE  WORD_PUNKT  NLTK_TWEET  NLTK_NIST  \\\n",
       "matched      76746   75090      92296       88473       89249      90721   \n",
       "not_matched   8302    9443       1414       14078       10454       6698   \n",
       "not_found    17338   18994       1788        5611        4835       3363   \n",
       "\n",
       "             SPACY  GENSIM  \n",
       "matched      91270   75183  \n",
       "not_matched   9593    6136  \n",
       "not_found     2814   18901  "
      ]
     },
     "execution_count": 6,
     "metadata": {},
     "output_type": "execute_result"
    }
   ],
   "source": [
    "df_all = pd.concat(stat_sums, axis=1, keys=[s.name for s in TokenizerStrategy])\n",
    "df_all"
   ]
  },
  {
   "cell_type": "code",
   "execution_count": 7,
   "id": "fcf04a38-ed4d-469f-9b39-82484474e4fb",
   "metadata": {},
   "outputs": [
    {
     "data": {
      "image/png": "[encoded data removed]",
      "text/plain": [
       "<Figure size 720x360 with 1 Axes>"
      ]
     },
     "metadata": {},
     "output_type": "display_data"
    }
   ],
   "source": [
    "cmap = ['cornflowerblue',\n",
    "       'indianred',\n",
    "       'lightslategrey']\n",
    "ax = df_all.T[['matched', 'not_found', 'not_matched']].plot(kind='barh', stacked=True, figsize=(10,5), color=cmap, title='Matched Tokens for Treebank-Sample')\n",
    "ax.set_xlabel('Number of Tokens')\n",
    "ax.set_ylabel('Dataset')\n",
    "ax.legend(['Correct', 'Not Found', 'Incorrect'], loc='upper right')\n",
    "ax.axvline(x=df_all.loc[['matched', 'not_found'], 'REGEX'].sum(), color='indianred', linestyle='--')\n",
    "ax.set_xlim((0, 10e4*1.3))\n",
    "plt.savefig('tokenizer_compare/004_treebank_match.pdf')\n",
    "plt.show()"
   ]
  }
 ],
 "metadata": {
  "kernelspec": {
   "display_name": "Python 3 (ipykernel)",
   "language": "python",
   "name": "python3"
  },
  "language_info": {
   "codemirror_mode": {
    "name": "ipython",
    "version": 3
   },
   "file_extension": ".py",
   "mimetype": "text/x-python",
   "name": "python",
   "nbconvert_exporter": "python",
   "pygments_lexer": "ipython3",
   "version": "3.8.12"
  }
 },
 "nbformat": 4,
 "nbformat_minor": 5
}
