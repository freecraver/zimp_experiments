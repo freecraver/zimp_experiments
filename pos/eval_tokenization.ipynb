{
 "cells": [
  {
   "cell_type": "code",
   "execution_count": 1,
   "id": "9d168473-2d30-4d8f-970d-0cec6f9c530d",
   "metadata": {},
   "outputs": [
    {
     "name": "stderr",
     "output_type": "stream",
     "text": [
      "[nltk_data] Downloading package wordnet to\n",
      "[nltk_data]     C:\\Users\\Martin\\AppData\\Roaming\\nltk_data...\n",
      "[nltk_data]   Package wordnet is already up-to-date!\n",
      "[nltk_data] Downloading package punkt to\n",
      "[nltk_data]     C:\\Users\\Martin\\AppData\\Roaming\\nltk_data...\n",
      "[nltk_data]   Package punkt is already up-to-date!\n",
      "[nltk_data] Downloading package perluniprops to\n",
      "[nltk_data]     C:\\Users\\Martin\\AppData\\Roaming\\nltk_data...\n",
      "[nltk_data]   Package perluniprops is already up-to-date!\n"
     ]
    }
   ],
   "source": [
    "import pandas as pd\n",
    "import numpy as np\n",
    "import matplotlib.pyplot as plt\n",
    "from glob import glob\n",
    "from zimp.pos.tokenization.builder import TokenizerStrategy, build_tokenizer\n",
    "from zimp.pos.countvectorizer_analyzer import CountVectorizerAnalyzer\n",
    "\n",
    "plt.style.use('seaborn-whitegrid')"
   ]
  },
  {
   "cell_type": "code",
   "execution_count": 2,
   "id": "d0f08f8d-a1de-4829-8856-30b02f69a864",
   "metadata": {},
   "outputs": [],
   "source": [
    "def is_punctuation(pos_tag):\n",
    "    return pos_tag in ['!', '.', ',', '?', ':', ';', '-', '-LRB-', '-RRB-']\n",
    "\n",
    "def extract_text(treebank_str):\n",
    "    text, token_count, tokens = '', 0, []\n",
    "    for line in treebank_str:\n",
    "        if line == '\\n':\n",
    "            text += ' '\n",
    "        else:\n",
    "            line_parts = line.split('\\t')\n",
    "            token = line_parts[0]\n",
    "            text = text + ' ' if text and not is_punctuation(line_parts[1]) else text\n",
    "            text += token\n",
    "            token_count += 1\n",
    "            tokens.append(token)\n",
    "    return text, tokens, token_count"
   ]
  },
  {
   "cell_type": "code",
   "execution_count": 3,
   "id": "d895f548-925d-44cc-944a-581c1a1b56f0",
   "metadata": {},
   "outputs": [],
   "source": [
    "texts = []\n",
    "token_counts = []\n",
    "tokens = []\n",
    "for file in glob('dependency_treebank/*.dp'):\n",
    "    with open(file, 'r') as f:\n",
    "        txt, ts, tc = extract_text(f.readlines())\n",
    "        texts.append(txt)\n",
    "        tokens.append(ts)\n",
    "        token_counts.append(tc)"
   ]
  },
  {
   "cell_type": "code",
   "execution_count": 4,
   "id": "e3b9a067-6368-4d9c-b7f2-040ce2a80959",
   "metadata": {},
   "outputs": [],
   "source": [
    "def get_token_stats(prediction_list, target_list):\n",
    "    remaining_target_list = target_list.copy()\n",
    "    cnt_matched, cnt_not_matched = 0, 0\n",
    "    for token in prediction_list:\n",
    "        if token in remaining_target_list:\n",
    "            remaining_target_list.remove(token)\n",
    "            cnt_matched += 1\n",
    "        else:\n",
    "            cnt_not_matched += 1\n",
    "    return pd.Series({\n",
    "        'matched': cnt_matched,\n",
    "        'not_matched': cnt_not_matched,\n",
    "        'not_found': len(remaining_target_list)\n",
    "    })      "
   ]
  },
  {
   "cell_type": "code",
   "execution_count": 5,
   "id": "728657e9-82ed-469c-aeec-a40e015e99df",
   "metadata": {},
   "outputs": [
    {
     "name": "stdout",
     "output_type": "stream",
     "text": [
      "----------REGEX----------\n",
      "matched        76746\n",
      "not_matched     8302\n",
      "not_found      17338\n",
      "dtype: int64\n",
      "----------PYTHON----------\n",
      "matched        75090\n",
      "not_matched     9443\n",
      "not_found      18994\n",
      "dtype: int64\n",
      "----------NLTK_BASE----------\n",
      "matched        92296\n",
      "not_matched     1414\n",
      "not_found       1788\n",
      "dtype: int64\n",
      "----------WORD_PUNKT----------\n",
      "matched        88473\n",
      "not_matched    14078\n",
      "not_found       5611\n",
      "dtype: int64\n",
      "----------NLTK_TWEET----------\n",
      "matched        89249\n",
      "not_matched    10454\n",
      "not_found       4835\n",
      "dtype: int64\n",
      "----------NLTK_NIST----------\n",
      "matched        90721\n",
      "not_matched     6698\n",
      "not_found       3363\n",
      "dtype: int64\n",
      "----------SPACY----------\n",
      "matched        91270\n",
      "not_matched     9593\n",
      "not_found       2814\n",
      "dtype: int64\n",
      "----------GENSIM----------\n",
      "matched        75183\n",
      "not_matched     6136\n",
      "not_found      18901\n",
      "dtype: int64\n"
     ]
    }
   ],
   "source": [
    "stat_sums = []\n",
    "for strategy in TokenizerStrategy:\n",
    "    tokenizer = build_tokenizer(strategy, 'english')\n",
    "    tokenizer_stats = []\n",
    "    for txt, target_tokens in zip(texts, tokens):\n",
    "        predicted_tokens = tokenizer.tokenize_text(txt)\n",
    "        tokenizer_stats.append(get_token_stats(predicted_tokens, target_tokens))\n",
    "    strat_stat = pd.concat(tokenizer_stats, axis=1).T.sum()\n",
    "    print('-'*10+strategy.name+'-'*10)\n",
    "    print(strat_stat)\n",
    "    stat_sums.append(strat_stat)"
   ]
  },
  {
   "cell_type": "code",
   "execution_count": 6,
   "id": "8781d906-6bd2-40df-a093-5016f3ead715",
   "metadata": {},
   "outputs": [
    {
     "data": {
      "text/html": [
       "<div>\n",
       "<style scoped>\n",
       "    .dataframe tbody tr th:only-of-type {\n",
       "        vertical-align: middle;\n",
       "    }\n",
       "\n",
       "    .dataframe tbody tr th {\n",
       "        vertical-align: top;\n",
       "    }\n",
       "\n",
       "    .dataframe thead th {\n",
       "        text-align: right;\n",
       "    }\n",
       "</style>\n",
       "<table border=\"1\" class=\"dataframe\">\n",
       "  <thead>\n",
       "    <tr style=\"text-align: right;\">\n",
       "      <th></th>\n",
       "      <th>REGEX</th>\n",
       "      <th>PYTHON</th>\n",
       "      <th>NLTK_BASE</th>\n",
       "      <th>WORD_PUNKT</th>\n",
       "      <th>NLTK_TWEET</th>\n",
       "      <th>NLTK_NIST</th>\n",
       "      <th>SPACY</th>\n",
       "      <th>GENSIM</th>\n",
       "    </tr>\n",
       "  </thead>\n",
       "  <tbody>\n",
       "    <tr>\n",
       "      <th>matched</th>\n",
       "      <td>76746</td>\n",
       "      <td>75090</td>\n",
       "      <td>92296</td>\n",
       "      <td>88473</td>\n",
       "      <td>89249</td>\n",
       "      <td>90721</td>\n",
       "      <td>91270</td>\n",
       "      <td>75183</td>\n",
       "    </tr>\n",
       "    <tr>\n",
       "      <th>not_matched</th>\n",
       "      <td>8302</td>\n",
       "      <td>9443</td>\n",
       "      <td>1414</td>\n",
       "      <td>14078</td>\n",
       "      <td>10454</td>\n",
       "      <td>6698</td>\n",
       "      <td>9593</td>\n",
       "      <td>6136</td>\n",
       "    </tr>\n",
       "    <tr>\n",
       "      <th>not_found</th>\n",
       "      <td>17338</td>\n",
       "      <td>18994</td>\n",
       "      <td>1788</td>\n",
       "      <td>5611</td>\n",
       "      <td>4835</td>\n",
       "      <td>3363</td>\n",
       "      <td>2814</td>\n",
       "      <td>18901</td>\n",
       "    </tr>\n",
       "  </tbody>\n",
       "</table>\n",
       "</div>"
      ],
      "text/plain": [
       "             REGEX  PYTHON  NLTK_BASE  WORD_PUNKT  NLTK_TWEET  NLTK_NIST  \\\n",
       "matched      76746   75090      92296       88473       89249      90721   \n",
       "not_matched   8302    9443       1414       14078       10454       6698   \n",
       "not_found    17338   18994       1788        5611        4835       3363   \n",
       "\n",
       "             SPACY  GENSIM  \n",
       "matched      91270   75183  \n",
       "not_matched   9593    6136  \n",
       "not_found     2814   18901  "
      ]
     },
     "execution_count": 6,
     "metadata": {},
     "output_type": "execute_result"
    }
   ],
   "source": [
    "df_all = pd.concat(stat_sums, axis=1, keys=[s.name for s in TokenizerStrategy])\n",
    "df_all"
   ]
  },
  {
   "cell_type": "code",
   "execution_count": 7,
   "id": "fcf04a38-ed4d-469f-9b39-82484474e4fb",
   "metadata": {},
   "outputs": [
    {
     "data": {
      "image/png": "[encoded data removed]",
      "text/plain": [
       "<Figure size 720x360 with 1 Axes>"
      ]
     },
     "metadata": {},
     "output_type": "display_data"
    }
   ],
   "source": [
    "cmap = ['cornflowerblue',\n",
    "       'indianred',\n",
    "       'lightslategrey']\n",
    "ax = df_all.T[['matched', 'not_found', 'not_matched']].plot(kind='barh', stacked=True, figsize=(10,5), color=cmap, title='Matched Tokens for Treebank-Sample')\n",
    "ax.set_xlabel('Number of Tokens')\n",
    "ax.set_ylabel('Dataset')\n",
    "ax.legend(['Correct', 'Not Found', 'Incorrect'], loc='upper right')\n",
    "ax.axvline(x=df_all.loc[['matched', 'not_found'], 'REGEX'].sum(), color='indianred', linestyle='--')\n",
    "ax.set_xlim((0, 10e4*1.3))\n",
    "plt.savefig('tokenizer_compare/004_treebank_match.pdf')\n",
    "plt.show()"
   ]
  },
  {
   "cell_type": "markdown",
   "id": "2b669045-2494-4e3d-bd85-4352a7b48599",
   "metadata": {},
   "source": [
    "### Sentence-based evaluation"
   ]
  },
  {
   "cell_type": "code",
   "execution_count": 8,
   "id": "d1decf3c-2dcb-4f2f-8f20-655f5ca0873b",
   "metadata": {},
   "outputs": [],
   "source": [
    "def extract_texts(treebank_str):\n",
    "    text_list, token_count_list, tokens_list = [], [], []\n",
    "    text, token_count, tokens = '', 0, []\n",
    "    for line in treebank_str:\n",
    "        if line == '\\n':\n",
    "            text_list.append(text)\n",
    "            token_count_list.append(token_count)\n",
    "            tokens_list.append(tokens)\n",
    "            text, token_count, tokens = '', 0, []\n",
    "        else:\n",
    "            line_parts = line.split('\\t')\n",
    "            token = line_parts[0]\n",
    "            text = text + ' ' if text and not is_punctuation(line_parts[1]) else text\n",
    "            text += token\n",
    "            token_count += 1\n",
    "            tokens.append(token)\n",
    "    return text_list, tokens_list, token_count_list"
   ]
  },
  {
   "cell_type": "code",
   "execution_count": 9,
   "id": "b4a863ad-7189-4d43-bb47-1b00b04d104c",
   "metadata": {},
   "outputs": [],
   "source": [
    "texts = []\n",
    "token_counts = []\n",
    "tokens = []\n",
    "for file in glob('dependency_treebank/*.dp'):\n",
    "    with open(file, 'r') as f:\n",
    "        txt, ts, tc = extract_texts(f.readlines())\n",
    "        texts.extend(txt)\n",
    "        tokens.extend(ts)\n",
    "        token_counts.extend(tc)"
   ]
  },
  {
   "cell_type": "code",
   "execution_count": 11,
   "id": "5e266503-def2-4bdb-8df4-dfe8d7ce2a07",
   "metadata": {},
   "outputs": [
    {
     "name": "stdout",
     "output_type": "stream",
     "text": [
      "----------REGEX----------\n",
      "matched        73420\n",
      "not_matched     7874\n",
      "not_found      16523\n",
      "dtype: int64\n",
      "----------PYTHON----------\n",
      "matched        71795\n",
      "not_matched     9026\n",
      "not_found      18148\n",
      "dtype: int64\n",
      "----------NLTK_BASE----------\n",
      "matched        88224\n",
      "not_matched     1379\n",
      "not_found       1719\n",
      "dtype: int64\n",
      "----------WORD_PUNKT----------\n",
      "matched        84492\n",
      "not_matched    13485\n",
      "not_found       5451\n",
      "dtype: int64\n",
      "----------NLTK_TWEET----------\n",
      "matched        85275\n",
      "not_matched    10074\n",
      "not_found       4668\n",
      "dtype: int64\n",
      "----------NLTK_NIST----------\n",
      "matched        86701\n",
      "not_matched     6423\n",
      "not_found       3242\n",
      "dtype: int64\n",
      "----------SPACY----------\n",
      "matched        87211\n",
      "not_matched     5673\n",
      "not_found       2732\n",
      "dtype: int64\n",
      "----------GENSIM----------\n",
      "matched        71952\n",
      "not_matched     5871\n",
      "not_found      17991\n",
      "dtype: int64\n"
     ]
    }
   ],
   "source": [
    "stat_sums = []\n",
    "for strategy in TokenizerStrategy:\n",
    "    tokenizer = build_tokenizer(strategy, 'english')\n",
    "    tokenizer_stats = []\n",
    "    for txt, target_tokens in zip(texts, tokens):\n",
    "        predicted_tokens = tokenizer.tokenize_text(txt)\n",
    "        tokenizer_stats.append(get_token_stats(predicted_tokens, target_tokens))\n",
    "    strat_stat = pd.concat(tokenizer_stats, axis=1).T.sum()\n",
    "    print('-'*10+strategy.name+'-'*10)\n",
    "    print(strat_stat)\n",
    "    stat_sums.append(strat_stat)"
   ]
  },
  {
   "cell_type": "code",
   "execution_count": 12,
   "id": "7a6d481d-8516-4581-b799-7d2c0878cf94",
   "metadata": {},
   "outputs": [
    {
     "data": {
      "text/html": [
       "<div>\n",
       "<style scoped>\n",
       "    .dataframe tbody tr th:only-of-type {\n",
       "        vertical-align: middle;\n",
       "    }\n",
       "\n",
       "    .dataframe tbody tr th {\n",
       "        vertical-align: top;\n",
       "    }\n",
       "\n",
       "    .dataframe thead th {\n",
       "        text-align: right;\n",
       "    }\n",
       "</style>\n",
       "<table border=\"1\" class=\"dataframe\">\n",
       "  <thead>\n",
       "    <tr style=\"text-align: right;\">\n",
       "      <th></th>\n",
       "      <th>REGEX</th>\n",
       "      <th>PYTHON</th>\n",
       "      <th>NLTK_BASE</th>\n",
       "      <th>WORD_PUNKT</th>\n",
       "      <th>NLTK_TWEET</th>\n",
       "      <th>NLTK_NIST</th>\n",
       "      <th>SPACY</th>\n",
       "      <th>GENSIM</th>\n",
       "    </tr>\n",
       "  </thead>\n",
       "  <tbody>\n",
       "    <tr>\n",
       "      <th>matched</th>\n",
       "      <td>73420</td>\n",
       "      <td>71795</td>\n",
       "      <td>88224</td>\n",
       "      <td>84492</td>\n",
       "      <td>85275</td>\n",
       "      <td>86701</td>\n",
       "      <td>87211</td>\n",
       "      <td>71952</td>\n",
       "    </tr>\n",
       "    <tr>\n",
       "      <th>not_matched</th>\n",
       "      <td>7874</td>\n",
       "      <td>9026</td>\n",
       "      <td>1379</td>\n",
       "      <td>13485</td>\n",
       "      <td>10074</td>\n",
       "      <td>6423</td>\n",
       "      <td>5673</td>\n",
       "      <td>5871</td>\n",
       "    </tr>\n",
       "    <tr>\n",
       "      <th>not_found</th>\n",
       "      <td>16523</td>\n",
       "      <td>18148</td>\n",
       "      <td>1719</td>\n",
       "      <td>5451</td>\n",
       "      <td>4668</td>\n",
       "      <td>3242</td>\n",
       "      <td>2732</td>\n",
       "      <td>17991</td>\n",
       "    </tr>\n",
       "  </tbody>\n",
       "</table>\n",
       "</div>"
      ],
      "text/plain": [
       "             REGEX  PYTHON  NLTK_BASE  WORD_PUNKT  NLTK_TWEET  NLTK_NIST  \\\n",
       "matched      73420   71795      88224       84492       85275      86701   \n",
       "not_matched   7874    9026       1379       13485       10074       6423   \n",
       "not_found    16523   18148       1719        5451        4668       3242   \n",
       "\n",
       "             SPACY  GENSIM  \n",
       "matched      87211   71952  \n",
       "not_matched   5673    5871  \n",
       "not_found     2732   17991  "
      ]
     },
     "execution_count": 12,
     "metadata": {},
     "output_type": "execute_result"
    }
   ],
   "source": [
    "df_all = pd.concat(stat_sums, axis=1, keys=[s.name for s in TokenizerStrategy])\n",
    "df_all"
   ]
  },
  {
   "cell_type": "code",
   "execution_count": 13,
   "id": "73a11652-cad4-4cd7-af27-e8f796fbbe72",
   "metadata": {},
   "outputs": [
    {
     "data": {
      "image/png": "[encoded data removed]",
      "text/plain": [
       "<Figure size 720x360 with 1 Axes>"
      ]
     },
     "metadata": {},
     "output_type": "display_data"
    }
   ],
   "source": [
    "cmap = ['cornflowerblue',\n",
    "       'indianred',\n",
    "       'lightslategrey']\n",
    "ax = df_all.T[['matched', 'not_found', 'not_matched']].plot(kind='barh', stacked=True, figsize=(10,5), color=cmap, title='Matched Tokens for Treebank-Sample (with pre-split sentences)')\n",
    "ax.set_xlabel('Number of Tokens')\n",
    "ax.set_ylabel('Dataset')\n",
    "ax.legend(['Correct', 'Not Found', 'Incorrect'], loc='upper right')\n",
    "ax.axvline(x=df_all.loc[['matched', 'not_found'], 'REGEX'].sum(), color='indianred', linestyle='--')\n",
    "ax.set_xlim((0, 10e4*1.3))\n",
    "plt.savefig('tokenizer_compare/treebank_match_per_sentence.pdf')\n",
    "plt.show()"
   ]
  },
  {
   "cell_type": "markdown",
   "id": "9de8fd91-3abd-4d0b-8e0b-26677a099579",
   "metadata": {},
   "source": [
    "### The effect of non-alphabetical symbols"
   ]
  },
  {
   "cell_type": "code",
   "execution_count": 14,
   "id": "2b8fa80e-fd40-40bc-b664-ca52d80cbe40",
   "metadata": {},
   "outputs": [],
   "source": [
    "import re\n",
    "\n",
    "def remove_nonalpha(text):\n",
    "    r = re.compile('[^a-zA-Z]')\n",
    "    return r.sub('', text)\n",
    "    \n",
    "def extract_alpha_texts(treebank_str):\n",
    "    text_list, token_count_list, tokens_list = [], [], []\n",
    "    text, token_count, tokens = '', 0, []\n",
    "    for line in treebank_str:\n",
    "        if line == '\\n':\n",
    "            text_list.append(text)\n",
    "            token_count_list.append(token_count)\n",
    "            tokens_list.append(tokens)\n",
    "            text, token_count, tokens = '', 0, []\n",
    "            continue\n",
    "\n",
    "        line_parts = line.split('\\t')\n",
    "        token = remove_nonalpha(line_parts[0])\n",
    "        if not token:\n",
    "            continue\n",
    "        \n",
    "        text = text + ' ' if text and not is_punctuation(line_parts[1]) else text\n",
    "        text += token\n",
    "        token_count += 1\n",
    "        tokens.append(token)\n",
    "    return text_list, tokens_list, token_count_list"
   ]
  },
  {
   "cell_type": "code",
   "execution_count": 15,
   "id": "1e185f50-f4e3-40dd-8b0d-e7732c1e060a",
   "metadata": {},
   "outputs": [],
   "source": [
    "texts = []\n",
    "token_counts = []\n",
    "tokens = []\n",
    "for file in glob('dependency_treebank/*.dp'):\n",
    "    with open(file, 'r') as f:\n",
    "        txt, ts, tc = extract_alpha_texts(f.readlines())\n",
    "        texts.extend(txt)\n",
    "        tokens.extend(ts)\n",
    "        token_counts.extend(tc)"
   ]
  },
  {
   "cell_type": "code",
   "execution_count": 16,
   "id": "cb3eafd0-58e0-4ac9-8b80-b87ba2b5e1ee",
   "metadata": {},
   "outputs": [
    {
     "name": "stdout",
     "output_type": "stream",
     "text": [
      "----------REGEX----------\n",
      "matched        75581\n",
      "not_matched      230\n",
      "not_found        468\n",
      "dtype: int64\n",
      "----------PYTHON----------\n",
      "matched        75581\n",
      "not_matched      230\n",
      "not_found        468\n",
      "dtype: int64\n",
      "----------NLTK_BASE----------\n",
      "matched        75579\n",
      "not_matched      234\n",
      "not_found        470\n",
      "dtype: int64\n",
      "----------WORD_PUNKT----------\n",
      "matched        75581\n",
      "not_matched      230\n",
      "not_found        468\n",
      "dtype: int64\n",
      "----------NLTK_TWEET----------\n",
      "matched        75581\n",
      "not_matched      230\n",
      "not_found        468\n",
      "dtype: int64\n",
      "----------NLTK_NIST----------\n",
      "matched        75581\n",
      "not_matched      230\n",
      "not_found        468\n",
      "dtype: int64\n",
      "----------SPACY----------\n",
      "matched        75579\n",
      "not_matched      234\n",
      "not_found        470\n",
      "dtype: int64\n",
      "----------GENSIM----------\n",
      "matched        75581\n",
      "not_matched      230\n",
      "not_found        468\n",
      "dtype: int64\n"
     ]
    }
   ],
   "source": [
    "stat_sums = []\n",
    "for strategy in TokenizerStrategy:\n",
    "    tokenizer = build_tokenizer(strategy, 'english')\n",
    "    tokenizer_stats = []\n",
    "    for txt, target_tokens in zip(texts, tokens):\n",
    "        predicted_tokens = tokenizer.tokenize_text(txt)\n",
    "        tokenizer_stats.append(get_token_stats(predicted_tokens, target_tokens))\n",
    "    strat_stat = pd.concat(tokenizer_stats, axis=1).T.sum()\n",
    "    print('-'*10+strategy.name+'-'*10)\n",
    "    print(strat_stat)\n",
    "    stat_sums.append(strat_stat)"
   ]
  },
  {
   "cell_type": "code",
   "execution_count": 17,
   "id": "68b3040b-608f-4ba4-8a6c-dcee3848804b",
   "metadata": {},
   "outputs": [
    {
     "data": {
      "text/html": [
       "<div>\n",
       "<style scoped>\n",
       "    .dataframe tbody tr th:only-of-type {\n",
       "        vertical-align: middle;\n",
       "    }\n",
       "\n",
       "    .dataframe tbody tr th {\n",
       "        vertical-align: top;\n",
       "    }\n",
       "\n",
       "    .dataframe thead th {\n",
       "        text-align: right;\n",
       "    }\n",
       "</style>\n",
       "<table border=\"1\" class=\"dataframe\">\n",
       "  <thead>\n",
       "    <tr style=\"text-align: right;\">\n",
       "      <th></th>\n",
       "      <th>REGEX</th>\n",
       "      <th>PYTHON</th>\n",
       "      <th>NLTK_BASE</th>\n",
       "      <th>WORD_PUNKT</th>\n",
       "      <th>NLTK_TWEET</th>\n",
       "      <th>NLTK_NIST</th>\n",
       "      <th>SPACY</th>\n",
       "      <th>GENSIM</th>\n",
       "    </tr>\n",
       "  </thead>\n",
       "  <tbody>\n",
       "    <tr>\n",
       "      <th>matched</th>\n",
       "      <td>75581</td>\n",
       "      <td>75581</td>\n",
       "      <td>75579</td>\n",
       "      <td>75581</td>\n",
       "      <td>75581</td>\n",
       "      <td>75581</td>\n",
       "      <td>75579</td>\n",
       "      <td>75581</td>\n",
       "    </tr>\n",
       "    <tr>\n",
       "      <th>not_matched</th>\n",
       "      <td>230</td>\n",
       "      <td>230</td>\n",
       "      <td>234</td>\n",
       "      <td>230</td>\n",
       "      <td>230</td>\n",
       "      <td>230</td>\n",
       "      <td>234</td>\n",
       "      <td>230</td>\n",
       "    </tr>\n",
       "    <tr>\n",
       "      <th>not_found</th>\n",
       "      <td>468</td>\n",
       "      <td>468</td>\n",
       "      <td>470</td>\n",
       "      <td>468</td>\n",
       "      <td>468</td>\n",
       "      <td>468</td>\n",
       "      <td>470</td>\n",
       "      <td>468</td>\n",
       "    </tr>\n",
       "  </tbody>\n",
       "</table>\n",
       "</div>"
      ],
      "text/plain": [
       "             REGEX  PYTHON  NLTK_BASE  WORD_PUNKT  NLTK_TWEET  NLTK_NIST  \\\n",
       "matched      75581   75581      75579       75581       75581      75581   \n",
       "not_matched    230     230        234         230         230        230   \n",
       "not_found      468     468        470         468         468        468   \n",
       "\n",
       "             SPACY  GENSIM  \n",
       "matched      75579   75581  \n",
       "not_matched    234     230  \n",
       "not_found      470     468  "
      ]
     },
     "execution_count": 17,
     "metadata": {},
     "output_type": "execute_result"
    }
   ],
   "source": [
    "df_all = pd.concat(stat_sums, axis=1, keys=[s.name for s in TokenizerStrategy])\n",
    "df_all"
   ]
  },
  {
   "cell_type": "code",
   "execution_count": 18,
   "id": "3e3e3e5f-0ea8-4472-bad0-06c82eba4e89",
   "metadata": {},
   "outputs": [
    {
     "data": {
      "image/png": "[encoded data removed]",
      "text/plain": [
       "<Figure size 720x360 with 1 Axes>"
      ]
     },
     "metadata": {},
     "output_type": "display_data"
    }
   ],
   "source": [
    "cmap = ['cornflowerblue',\n",
    "       'indianred',\n",
    "       'lightslategrey']\n",
    "ax = df_all.T[['matched', 'not_found', 'not_matched']].plot(kind='barh', stacked=True, figsize=(10,5), color=cmap, title='Matched Tokens for Treebank-Sample (with only alphabetic symbols)')\n",
    "ax.set_xlabel('Number of Tokens')\n",
    "ax.set_ylabel('Dataset')\n",
    "ax.legend(['Correct', 'Not Found', 'Incorrect'], loc='upper right')\n",
    "ax.axvline(x=df_all.loc[['matched', 'not_found'], 'REGEX'].sum(), color='indianred', linestyle='--')\n",
    "ax.set_xlim((0, 10e4*1.3))\n",
    "plt.savefig('tokenizer_compare/treebank_match_alpha.pdf')\n",
    "plt.show()"
   ]
  },
  {
   "cell_type": "markdown",
   "id": "caed11d0-8b0d-49b8-abf2-65c35b7657c3",
   "metadata": {},
   "source": [
    "#### Misc Comparison"
   ]
  },
  {
   "cell_type": "code",
   "execution_count": 19,
   "id": "a15d35f9-5b1d-423d-a7c8-ffb368c3b742",
   "metadata": {},
   "outputs": [],
   "source": [
    "tok_nb = build_tokenizer(TokenizerStrategy.NLTK_BASE, language='english')\n",
    "tok_tw = build_tokenizer(TokenizerStrategy.SPACY, language='english')\n",
    "\n",
    "for text in texts:\n",
    "    nb_tokens = [t for t in tok_nb.tokenize_text(text) if not is_punctuation(t)]\n",
    "    tw_tokens = [t for t in tok_tw.tokenize_text(text) if not is_punctuation(t)]\n",
    "    ts = get_token_stats(nb_tokens, tw_tokens)\n",
    "    if ts['not_found'] + ts['not_matched'] > 0:\n",
    "        print(nb_tokens, tw_tokens, text)\n",
    "        print('-'*60)"
   ]
  }
 ],
 "metadata": {
  "kernelspec": {
   "display_name": "Python 3 (ipykernel)",
   "language": "python",
   "name": "python3"
  },
  "language_info": {
   "codemirror_mode": {
    "name": "ipython",
    "version": 3
   },
   "file_extension": ".py",
   "mimetype": "text/x-python",
   "name": "python",
   "nbconvert_exporter": "python",
   "pygments_lexer": "ipython3",
   "version": "3.8.12"
  }
 },
 "nbformat": 4,
 "nbformat_minor": 5
}
