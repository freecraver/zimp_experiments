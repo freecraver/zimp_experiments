{
 "cells": [
  {
   "cell_type": "code",
   "execution_count": 1,
   "id": "e38e8065-a2ee-452c-8309-da587412c557",
   "metadata": {},
   "outputs": [
    {
     "name": "stderr",
     "output_type": "stream",
     "text": [
      "[nltk_data] Downloading package wordnet to\n",
      "[nltk_data]     C:\\Users\\Martin\\AppData\\Roaming\\nltk_data...\n",
      "[nltk_data]   Package wordnet is already up-to-date!\n",
      "[nltk_data] Downloading package punkt to\n",
      "[nltk_data]     C:\\Users\\Martin\\AppData\\Roaming\\nltk_data...\n",
      "[nltk_data]   Package punkt is already up-to-date!\n",
      "[nltk_data] Downloading package perluniprops to\n",
      "[nltk_data]     C:\\Users\\Martin\\AppData\\Roaming\\nltk_data...\n",
      "[nltk_data]   Package perluniprops is already up-to-date!\n"
     ]
    }
   ],
   "source": [
    "import pandas as pd\n",
    "import numpy as np\n",
    "import matplotlib.pyplot as plt\n",
    "import os\n",
    "from tqdm import tqdm\n",
    "from zimp.readability.winnetka import SimpleSentenceFilter\n",
    "from zimp.pos.spacy import get_or_download_model\n",
    "\n",
    "from glob import glob\n",
    "\n",
    "plt.style.use('seaborn-whitegrid')"
   ]
  },
  {
   "cell_type": "code",
   "execution_count": 2,
   "id": "cb79d66b-aa89-4166-a566-43ed9166dd32",
   "metadata": {},
   "outputs": [],
   "source": [
    "source_dir = '../../zimp_orchestrator/orch/resources'\n",
    "files = {}\n",
    "for ds_path in glob(source_dir + '/*'):\n",
    "    if not os.path.isdir(ds_path):\n",
    "        continue\n",
    "    ds_name = os.path.basename(ds_path)\n",
    "    files[ds_name] = [os.path.join(ds_path, 'train.csv'), os.path.join(ds_path, 'test.csv')]"
   ]
  },
  {
   "cell_type": "code",
   "execution_count": 3,
   "id": "89f4dbbe-5129-4906-974f-c6cbae18ec9f",
   "metadata": {},
   "outputs": [
    {
     "data": {
      "text/plain": [
       "[(Hear, 'VERB'), (,, 'PUNCT'), (hear, 'VERB')]"
      ]
     },
     "execution_count": 3,
     "metadata": {},
     "output_type": "execute_result"
    }
   ],
   "source": [
    "m = get_or_download_model('english')\n",
    "s = list(m('Hear, hear').sents)\n",
    "[(t, t.pos_) for t in s[0]]"
   ]
  },
  {
   "cell_type": "code",
   "execution_count": 4,
   "id": "2ca8fda1-bf7f-462d-86fa-cc9e2b0e2b57",
   "metadata": {},
   "outputs": [
    {
     "data": {
      "text/plain": [
       "[(Sie, 'PRON'),\n",
       " (hätte, 'AUX'),\n",
       " (Charles, 'PROPN'),\n",
       " (,, 'PUNCT'),\n",
       " (Williams, 'PROPN'),\n",
       " (Vater, 'NOUN'),\n",
       " (,, 'PUNCT'),\n",
       " (betrogen, 'VERB'),\n",
       " (., 'PUNCT')]"
      ]
     },
     "execution_count": 4,
     "metadata": {},
     "output_type": "execute_result"
    }
   ],
   "source": [
    "m = get_or_download_model('german')\n",
    "s = list(m('Sie hätte Charles, Williams Vater, betrogen.').sents)\n",
    "[(t, t.pos_) for t in s[0]]"
   ]
  },
  {
   "cell_type": "code",
   "execution_count": 5,
   "id": "afa9b339-b885-4cc0-826f-076e35f8ddf6",
   "metadata": {},
   "outputs": [],
   "source": [
    "MIN_SENTENCE_LENGTH = 25\n",
    "MAX_SENTENCE_LENGTH = 10\n",
    "\n",
    "show_simple = True # if false show non-simple below max length\n",
    "\n",
    "def get_ds_language(track):\n",
    "    if track in ['10K-GNAD', 'GERMEVAL-2018', 'GERMEVAL-2020']:\n",
    "        return 'german'\n",
    "    return 'english'\n",
    "\n",
    "\n",
    "def print_edgecase_sentences(paths, s_filter):\n",
    "    texts = pd.read_csv(paths[0]).text.append(pd.read_csv(paths[1]).text)\n",
    "    for txt in tqdm(texts):\n",
    "        simple_s, all_s = s_filter.get_simple_sentences(txt)\n",
    "        nsimple_s = [s for s in all_s if s not in simple_s]\n",
    "        if show_simple:\n",
    "            candidates = [str(s) for s in simple_s if len(s) >= MIN_SENTENCE_LENGTH]\n",
    "        else:\n",
    "            candidates = [str(s) for s in nsimple_s if len(s) <= MAX_SENTENCE_LENGTH]\n",
    "        if len(candidates) < 1:\n",
    "            continue\n",
    "        print(\"\\n\".join(candidates))   \n",
    "        "
   ]
  },
  {
   "cell_type": "code",
   "execution_count": 6,
   "id": "56301dea-1e6e-460c-a75e-5551c24c786e",
   "metadata": {},
   "outputs": [
    {
     "name": "stdout",
     "output_type": "stream",
     "text": [
      "Analyzing 10K-GNAD...\n"
     ]
    },
    {
     "name": "stderr",
     "output_type": "stream",
     "text": [
      "  0%|                                                                                | 8/10273 [00:00<10:54, 15.68it/s]"
     ]
    },
    {
     "name": "stdout",
     "output_type": "stream",
     "text": [
      "Nach der bürgerlichen Februarrevolution von 1917 war dieser Vertreter eines russischen Liberalismus zum Kommissar der Übergangsregierung für das Gouvernement Pskow und somit zum lokalen Regierungschef ernannt worden.\n",
      "Van der Bellens Vater hatte zu diesem Zeitpunkt aufgrund seiner Herkunft und insbesondere als international tätiger Banker Repressionen des sowjetischen Geheimdiensts NKWD zu befürchten.\n",
      "MMC in Chicago setzte zuletzt mit 50 Mitarbeitern rund 10 Mio. US-Dollar (9,14 Mio. Euro) um, ILC mit Standort in North Carolina mit 40 Leuten etwa 13 Mio. US-Dollar (11,88 Mio. Euro).\n",
      "Am Sitz der Holding in Wels befindet sich auch der wichtigste Produktionsstandort der Stempelerzeugung mit Forschung und Entwicklung, Produktions- und Vertriebsstandort von Trotec ist im nahe gelegenen Marchtrenk.\n",
      "Dank eines 2:0-Auswärtssiegs (Hinspiel 1:1) beim FC Utrecht im entscheidenden Playoff-Duell am Sonntag nimmt Heracles an der Qualifikation für die Europa League teil.\n"
     ]
    },
    {
     "name": "stderr",
     "output_type": "stream",
     "text": [
      "  0%|                                                                               | 12/10273 [00:00<11:19, 15.09it/s]"
     ]
    },
    {
     "name": "stdout",
     "output_type": "stream",
     "text": [
      "Samstag (15.30 Uhr): 1. FC Köln – VfB StuttgartHannover 96 – SV DarmstadtHertha BSC – FC Augsburg1899 Hoffenheim – Bayer LeverkusenFC Ingolstadt – FSV Mainz Samstag (18.30 Uhr): Borussia Mönchengladbach – Borussia Dortmund Sonntag (15.30 Uhr):\n",
      "Für Napoli (41 Punkte) trafen Raul Albiol (20.), der Liga-Toptorschütze Gonzalo Higuain (30./Elfmeter, 60.), Marek Hamsik (59.) und Manolo Gabbiadini (72.).\n",
      "Die OMV hat am Donnerstag den bereits Anfang Dezember bekannt gegebenen Kauf von 66 Hofer-Tankstellen der FE-Trading bei der Bundeswettbewerbsbehörde (BWB) angemeldet.\n"
     ]
    },
    {
     "name": "stderr",
     "output_type": "stream",
     "text": [
      "  0%|▏                                                                              | 17/10273 [00:01<14:44, 11.59it/s]"
     ]
    },
    {
     "name": "stdout",
     "output_type": "stream",
     "text": [
      "Nach ersten Erkenntnissen der Polizei hatten Unbekannte am Montagabend den Sprengsatz entweder aus einem fahrenden Auto oder einem Wohnhaus auf die Haltestelle in einem Ausgehviertel der russischen Hauptstadt geschleudert.\n",
      "Moskau, Otkrytije Arena, 35.000, SR Milorad Mazic (SRB) Tor: 0:1 (33.) Janko Russland: Akinfejew - Smolnikow, Nowoselzew, Beresuzki (12. Tschernow), Kombarow (72. Kerschakow) - Gluschakow, Iwanow (46. Mirantschuk) - Schatow, Schirokow, Schirkow - Kokorin Österreich: Almer - Klein, Dragovic, Hinteregger, Fuchs - Baumgartlinger, Ilsanker - Harnik (65. Sabitzer), Junuzovic (87. Prödl), Arnautovic - Janko (76. Okotie)\n"
     ]
    },
    {
     "name": "stderr",
     "output_type": "stream",
     "text": [
      "  0%|▏                                                                              | 22/10273 [00:01<12:33, 13.61it/s]"
     ]
    },
    {
     "name": "stdout",
     "output_type": "stream",
     "text": [
      "Der weniger deutliche Anstieg bei den gemeldeten Arbeitslosen sei insbesondere auf einen gegenüber dem Vorjahr starken Rückgang der Bauarbeitslosigkeit um mehr als 7000 Personen sowie eine konjunkturelle Verbesserung in der Industrie zurückzuführen.\n",
      "In allen Bundesländern außer Wien (plus acht Prozent), Niederösterreich (plus 0,4 Prozent) und der Steiermark (stagnierend) ist die Zahl der Arbeitslosen im vergangenen Monat gesunken.\n",
      "Verleger-Präsident Thomas Kralinger Donnerstagabend beim traditionellen Heurigen  des Verbands Österreichischer Zeitungen (VÖZ) – wohl in Anlehnung an Nicolas Clasen, dem Autor des Fachbuchs Der digitale Tsunami.\n"
     ]
    },
    {
     "name": "stderr",
     "output_type": "stream",
     "text": [
      "  0%|▏                                                                              | 26/10273 [00:02<16:12, 10.54it/s]"
     ]
    },
    {
     "name": "stdout",
     "output_type": "stream",
     "text": [
      "Arbeiterkammer (AK) und Interessenverbände hingegen wollten anders als die Wirtschaftskammer den Schwerverkehr nach dem Verursacherprinzip für seine Straßenschäden zur Kassa zu bitten.\n",
      "Diese tropfenden Tracks produzierte Tesfaye teilweise mit Max Martin, dem schwedischen Pop-vom-Reißbrett-Produzenten, dem Mann hinter den Backstreet Boys, Katy Perry, Spears, Dion – dem vollen Gruselkabinett.\n"
     ]
    },
    {
     "name": "stderr",
     "output_type": "stream",
     "text": [
      "  0%|▏                                                                              | 30/10273 [00:02<15:04, 11.33it/s]"
     ]
    },
    {
     "name": "stdout",
     "output_type": "stream",
     "text": [
      "Der Grund laut Landesparteichef Gernot Blümel: Oxonitsch – in seiner vormaligen Funktion als Stadtrat – und Wehsely seien für das Desaster rund um die Islam-Kindergärten verantwortlich.\n"
     ]
    },
    {
     "name": "stderr",
     "output_type": "stream",
     "text": [
      "  0%|▎                                                                              | 42/10273 [00:03<14:59, 11.38it/s]"
     ]
    },
    {
     "name": "stdout",
     "output_type": "stream",
     "text": [
      "In der Nacht auf Samstag wurden laut Polizei etwa 300 Fluchtversuche registriert, in der Nacht auf Sonntag 400. Alleine in der Nacht auf Freitag waren es noch etwa 1.000 gewesen.\n"
     ]
    },
    {
     "name": "stderr",
     "output_type": "stream",
     "text": [
      "  0%|▎                                                                              | 46/10273 [00:04<20:37,  8.27it/s]"
     ]
    },
    {
     "name": "stdout",
     "output_type": "stream",
     "text": [
      "In mehr als dreißig Sprachen – darunter Arabisch, Deutsch, Chinesisch und Hindi – will die Website dem Publikum im Ausland einen russischen Blick auf das Weltgeschehen ermöglichen.\n",
      "Zu Beginn der Überwachungsreformen an der Spitze des FSB: der heutige Präsident Wladimir Putin, der im vergangenen Jahr die Überwachungsmaschine noch einmal verschärfte.\n",
      "Historiker Rathkolb rät allerdings zur Vorsicht beim Herstellen einer Kausalität zwischen russischer Propaganda und der Konjunktur des rechtspopulistischen bis rechtsextremen Gedankenguts, etwa in Form der Pegida-Bewegung.\n",
      "Doch dabei handelte es sich ausnahmslos um Fälschungen – genauso wie bei Berichten über Polizeigewalt gegen eine schwarze Frau in Atlanta sowie einen Ebola-Ausbruch an der US-Ostküste.\n",
      "Bei gleichem Stromverbrauch die doppelte Performance, eine vollständig neue Kernarchitektur und vieles mehr: Bei den Versprechungen für den Snapdragon 820 hat sich Prozessorhersteller Qualcomm nicht gerade zurückgehalten.\n",
      "Die Wahl Kjærsgaards zur Parlamentspräsidentin gilt als großer symbolischer Sieg für die Rechtspopulisten, auf deren Unterstützung der neue Premier, Lars Løkke Rasmussen, mit seiner Minderheitsregierung angewiesen ist.\n"
     ]
    },
    {
     "name": "stderr",
     "output_type": "stream",
     "text": [
      "  1%|▍                                                                              | 53/10273 [00:05<25:20,  6.72it/s]"
     ]
    },
    {
     "name": "stdout",
     "output_type": "stream",
     "text": [
      "Weizen ist eines der wichtigsten und am meisten produzierten Lebensmittel weltweit, und Getreide wird von allen relevanten und seriösen Organisationen als eine der Grundlagen einer ausgewogenen Ernährung empfohlen.\n",
      "Wien – Zu Aufregung bei der FPÖ hat die Überlassung von 350 Wiener Plakatflächen durch die SPÖ für den Stichwahlkampf Alexander Van der Bellens geführt.\n"
     ]
    },
    {
     "name": "stderr",
     "output_type": "stream",
     "text": [
      "  1%|▍                                                                              | 56/10273 [00:05<22:22,  7.61it/s]"
     ]
    },
    {
     "name": "stdout",
     "output_type": "stream",
     "text": [
      "Es wies bei der Untersuchung eine HCB-Belastungen von 17 beziehungsweise 18 Mikrogramm pro Kilo im Faschierten beziehungsweise Schlögel sowie 107 Mikrogramm pro Kilo im Nierenfett auf.\n"
     ]
    },
    {
     "name": "stderr",
     "output_type": "stream",
     "text": [
      "  1%|▍                                                                              | 61/10273 [00:06<16:59, 10.02it/s]"
     ]
    },
    {
     "name": "stdout",
     "output_type": "stream",
     "text": [
      "Darunter befindet sich der Hauptsitz von Crytek (Crysis 3), Deck 13 (Lords of the Fallen) und Keen Games (Anno – Erschaffe eine neue Welt).\n"
     ]
    },
    {
     "name": "stderr",
     "output_type": "stream",
     "text": [
      "  1%|▍                                                                              | 65/10273 [00:06<15:08, 11.24it/s]"
     ]
    },
    {
     "name": "stdout",
     "output_type": "stream",
     "text": [
      "Der vereinbarte Abbau von internationalen Wettbewerbsverzerrungen im Landwirtschaftsbereich werde sich für österreichische Exporteure positiv auswirken, so Wirtschaftsminister Reinhold Mitterlehner (ÖVP) am Sonntag in einer Aussendung.\n",
      "Nach der Vereinbarung der Ziele zur nachhaltigen Entwicklung bei den Vereinten Nationen und dem Klima-Abkommen in Paris sei auch in der Handelspolitik ein wichtiger Erfolg gelungen.\n",
      "Das Nairobi-Paket muss daher der Startschuss sein für eine Wiederbelebung der WTO als zentrales Forum für Handelsregeln und nicht das Resultat, mit dem man seine Schuldigkeit für die nächsten Jahre getan hat.\n"
     ]
    },
    {
     "name": "stderr",
     "output_type": "stream",
     "text": [
      "  1%|▌                                                                              | 71/10273 [00:06<14:55, 11.39it/s]"
     ]
    },
    {
     "name": "stdout",
     "output_type": "stream",
     "text": [
      "Wien – FPÖ-Generalsekretär Herbert Kickl sieht im Ausgang der ersten Runde der Präsidentenwahl ein sensationelles Ergebnis für Norbert Hofer und ein historisches Ergebnis für die FPÖ.\n",
      "Adam Plachetka ist ein kraftstrotzender Dottore (vulgo Masseur) Malatesta, Michele Pertusi ein polternder, leidender, jedoch vor allem (groß-)väterlich gutmütiger Titel-Antiheld.\n"
     ]
    },
    {
     "name": "stderr",
     "output_type": "stream",
     "text": [
      "  1%|▌                                                                              | 73/10273 [00:07<14:19, 11.87it/s]"
     ]
    },
    {
     "name": "stdout",
     "output_type": "stream",
     "text": [
      "Moser und Christiana Jankovis werden wieder für die linke Liste Unabhängige in den Stiftungsrat einziehen, Berti und Stefan Jung wieder für die SP-nahe Liste Miteinander.\n"
     ]
    },
    {
     "name": "stderr",
     "output_type": "stream",
     "text": [
      "  1%|▌                                                                              | 75/10273 [00:07<30:16,  5.61it/s]"
     ]
    },
    {
     "name": "stdout",
     "output_type": "stream",
     "text": [
      "Zuvor sprach Pirker mit dem STANDARD über den Sanierungskurs, die Zukunft von News, Erfolgschancen für digitale Bezahlmodelle und seinen Ausstieg aus Datum.\n",
      "Das ist eine normale Mechanik, die es in jedem Unternehmen gibt, bei uns in der jetzigen Restrukturierungsphase eben in einer größeren Dimension.\n",
      "Pirker: Ich wäre gerne schon einen Schritt weiter, aber die Chance, diese Umkehr innerhalb von drei Jahren zu schaffen, ist intakt.\n"
     ]
    },
    {
     "name": "stderr",
     "output_type": "stream",
     "text": [
      "  1%|▋                                                                              | 84/10273 [00:08<17:03,  9.96it/s]"
     ]
    },
    {
     "name": "stdout",
     "output_type": "stream",
     "text": [
      "Der am 7. August 2011 auf dem Youtube-Channel DarkZeroTV hochgeladene Clip von Dominic Sheard wurde bis heute nicht weniger als 120 Millionen Mal angesehen.\n",
      "Das Video des 30-jährigen Software-Programmierers aus West Yorkshire ist im Zuge eines Reviews des Tie-In-Spiels zum gleichnamigen Kinofilm Cars 2 für die Videospielseite Dark Zero entstanden.\n",
      "Den geringsten Schutz gibt es für diese Berufe in Schweden – auch nicht gerade ein Land, das für niedrige Standards bei Qualifikation und Konsumentenschutz bekannt ist.\n"
     ]
    },
    {
     "name": "stderr",
     "output_type": "stream",
     "text": [
      "  1%|▋                                                                              | 88/10273 [00:08<15:30, 10.95it/s]"
     ]
    },
    {
     "name": "stdout",
     "output_type": "stream",
     "text": [
      "Einzig Borussia Dortmund (26) könnte am Sonntag mit einem Sieg im Revierderby gegen Schalke 04 (15.30 Uhr) zumindest ansatzweise Kontakt halten.\n",
      "Philipp Hosiner stand erneut in der Startformation der Kölner und war bis zur 71. Minute an der Seite von Sturmpartner Anthony Modeste im Einsatz.\n",
      "Arjen Robben (11.), Douglas Costa (17.), Robert Lewandowski (37.) und Thomas Müller (40.) verliehen der drückenden Überlegenheit mit ihren Treffern Ausdruck.\n",
      "Dementsprechend waren nicht nur Innenministerin Johanna Mikl-Leitner, Außenminister Sebastian Kurz, Justizminister Wolfgang Brandstetter (alle ÖVP) und Verteidigungsminister Hans Peter Doskozil (SPÖ) in die Präsidentschaftskanzlei gekommen, sondern auch der Wiener Landeshauptmann Michael Häupl (SPÖ) und sein Salzburger Kollege Wilfried Haslauer (ÖVP), derzeit Vorsitzender der Landeshauptleutekonferenz.\n"
     ]
    },
    {
     "name": "stderr",
     "output_type": "stream",
     "text": [
      "  1%|▋                                                                              | 90/10273 [00:09<13:56, 12.17it/s]"
     ]
    },
    {
     "name": "stdout",
     "output_type": "stream",
     "text": [
      "Bernd Dolle-Weinkauff vom Institut für Jugendbuchforschung an der Frankfurter Goethe-Universität organisiert die international besetzte Tagung an diesem Wochenende (4. bis 6. September) unter dem Titel Geschichte im Comic – Geschichte des Comic.\n",
      "Ansonsten nutzt Twitter allerdings vor allem die zweite oder dritte Reihe für wenig beachtete Grabenkämpfe mit anderen Parteien oder Journalisten – oder für skurrile Aussagen.\n"
     ]
    },
    {
     "name": "stderr",
     "output_type": "stream",
     "text": [
      "  1%|▋                                                                              | 94/10273 [00:09<14:47, 11.47it/s]"
     ]
    },
    {
     "name": "stdout",
     "output_type": "stream",
     "text": [
      "unter anderem Doris Dörrie, Corinna Belz, Regina Schilling, Franz Xaver Bogner, Andres Veiel, Thomas Riedelsheimer, Jörg Adolph und Marcus H. Rosenmüller.\n",
      "Ein Jahr später, Anfang Juni 2017, hält der Sender einen kompletten Tag für die Ausstrahlung dieses filmischen Zeitdokuments im BR Fernsehen frei.\n"
     ]
    },
    {
     "name": "stderr",
     "output_type": "stream",
     "text": [
      "  1%|▊                                                                             | 101/10273 [00:09<10:16, 16.49it/s]"
     ]
    },
    {
     "name": "stdout",
     "output_type": "stream",
     "text": [
      "Ebenfalls unter den Top-10-Erzeugerländern rangierten Indien (4,1 Prozent), Honduras (3,3 Prozent), Mexiko und Uganda (mit je 2,8 Prozent) sowie Guatemala (2,5 Prozent).\n",
      "Für 2014/15 wird ein weltweit rückläufiger Ernteertrag von rund 141,7 Millionen 60-Kilo-Säcken erwartet – ein Minus von 3,7 Prozent gegenüber dem Jahr davor.\n",
      "Zu den aufstrebenden Kaffeeherstellerländern gehörten 2014 neben Indien mit einem Produktionsplus von 8,7 Prozent auf 5,5 Millionen Sack, Guatemala, Honduras und auch Tansania mit Zuwachsraten im jeweils zweistelligen Prozentbereich.\n",
      "Tschertschessow sammelte seine ersten Trainererfahrungen in Österreich und war in der Folge in seiner russischen Heimat auch für die Moskau-Clubs Spartak und Dynamo tätig.\n"
     ]
    },
    {
     "name": "stderr",
     "output_type": "stream",
     "text": [
      "  1%|▊                                                                             | 107/10273 [00:10<12:56, 13.09it/s]"
     ]
    },
    {
     "name": "stdout",
     "output_type": "stream",
     "text": [
      "Varoufakis, der selbsterklärte Marxist und Motorrad fahrende  Minister, hat nun Muße für das eine oder andere Buch über seine fünf  Monate mit den anderen Finanzministern der Eurogruppe.\n",
      "Sieben Stunden  dauerte am Ende eine Sitzung des Regierungschefs mit den Führern aller  im Parlament vertretenen Parteien bei Staatspräsident Prokopis  Pavlopoulos;\n",
      "Ebenso plausibel ist es, so wie in zahlreichen anderen europäischen Ländern (zuletzt Anne Will in Deutschland), eine spezielle Ausgabe eines bestehenden Informationsformates zu wählen.\n"
     ]
    },
    {
     "name": "stderr",
     "output_type": "stream",
     "text": [
      "  1%|▊                                                                             | 111/10273 [00:10<13:49, 12.24it/s]"
     ]
    },
    {
     "name": "stdout",
     "output_type": "stream",
     "text": [
      "Peter Zeidler (Deutschland/52 Jahre): Geboren: 8. August 1962 in Schwäbisch-Gmünd Vertrag bis: 30. Juni 2017 Stationen als Trainer: * Nachwuchs VfB Stuttgart (1984-1993) *\n",
      "1. FC Nürnberg II (2005-2007) * Stuttgarter Kickers (2007) * 1899 Hoffenheim (Co-Trainer unter Ralf Rangnick/2008-2011)\n",
      "Größte Erfolge als Cheftrainer: * Meistertitel Regionalliga West 2012/13 und Aufstieg* Plätze drei (2013/14) und zwei (2014/15) in der Erste Liga mit FC Liefering * Platz sechs in der französischen Ligue 2 (2. Spielklasse) 2011/12 mit Tours FC * Platz sechs in der deutschen Regionalliga\n",
      "Der Korruptionsuntersuchungsausschuss beispielsweise hat sich schon vor vier Jahren intensiv mit Anzeigen des damaligen Ministers Nikolaus Berlakovich (ÖVP) in Agrarzeitschriften wie Blick ins Land und Bauernzeitung beschäftigt.\n",
      "Hinter dem Italiener Peter Fill (0,47) und dem Schweizer Beat Feuz (0,49) landete Otmar Striedinger als bester ÖSV-Läufer auf Platz sechs.\n",
      "Im Abfahrtsweltcup führt immer noch der wegen eines Kreuzbandrisses mittlerweile zum Zuschauen verdammte Norweger Aksel Lund Svindal mit 436 Punkten vor Fill (365) und Jansrud (327).\n"
     ]
    },
    {
     "name": "stderr",
     "output_type": "stream",
     "text": [
      "  1%|▊                                                                             | 114/10273 [00:10<11:22, 14.89it/s]"
     ]
    },
    {
     "name": "stdout",
     "output_type": "stream",
     "text": [
      "Die von der Regierung als Terrororganisation gebrandmarkte Arbeiterpartei Kurdistans (PKK) hatte im August mehrheitlich kurdischen Südosten des Landes Anschläge auf Soldaten und Polizisten verübt.\n",
      "Das Studio verspricht für den zweiten Teil die bisher größte Auswahl an Rennstrecken mit 50 unterschiedlichen Locations und mehr als 200 Kursen inklusive lockeren Bodenbelegen wie Schotter, Schlamm und Schnee.\n"
     ]
    },
    {
     "name": "stderr",
     "output_type": "stream",
     "text": [
      "  1%|▉                                                                             | 118/10273 [00:11<14:01, 12.07it/s]"
     ]
    },
    {
     "name": "stdout",
     "output_type": "stream",
     "text": [
      "Als Ziel für die Wien-Wahl am 11. Oktober gab Häupl – zahlreichen anderslautenden Umfragen zum Trotz – bisher die Wiedererlangung der absoluten Mehrheit an.\n",
      "Weder Erstangeklagter Rene Swete, Tormann beim Bundesligisten Grödig, noch Richter Marc Farkas, Mittelstürmer in Oberwart, noch Staatsanwalt Bernhard Löw, Goalie bei einem kleinen Wiener Verein.\n"
     ]
    },
    {
     "name": "stderr",
     "output_type": "stream",
     "text": [
      "  1%|▉                                                                             | 128/10273 [00:12<15:12, 11.12it/s]"
     ]
    },
    {
     "name": "stdout",
     "output_type": "stream",
     "text": [
      "Vater Giacomo (solide der für den an einer Bronchitis erkrankten Carlos Álvarez eingesprungene Devid Cecconi) ist somit der tragische Zeuge einer die Bühne immer wieder flutenden, historischen Fantasiewelt (Bühnenbild Christian Fenouillat).\n",
      "Und das Orchester unter Riccardo Chailly, dem neuen Musikdirektor der Scala, findet nach etwas bombastischem Beginn zu respektabler Klangkultur und sängerfreundlichem Pathos.\n",
      "Auf der ISS wurden die neuen Crewmitglieder von ihren Kollegen Scott Kelly aus den USA sowie Sergej Wolkow und Michail Kornienko aus Russland erwartet.\n",
      "Portugal wurde drei Tage nach dem spektakulären 5:0 im Halbfinale gegen Deutschland am Ende seiner Favoritenrolle nicht gerecht, ging erstmals nach zuvor 14 Pflichtspielen ohne Niederlage wieder als Verlierer vom Platz.\n",
      "(sid/red – 30.6. 2015) U21-EM in Tschechien, Finale in Prag:Portugal – Schweden 0:0 n.V., 3:4 i.E.\n"
     ]
    },
    {
     "name": "stderr",
     "output_type": "stream",
     "text": [
      "  1%|▉                                                                             | 130/10273 [00:12<16:50, 10.04it/s]"
     ]
    },
    {
     "name": "stdout",
     "output_type": "stream",
     "text": [
      "Bukarest/Wein – Mitten in der Bieterschlacht um die Casinos Austria muss sich Europas führender Glücksspielkonzern, die niederösterreichische Novomatic-Gruppe, mit einer mutmaßlichen Korruptionsaffäre in Rumänien herumschlagen.\n",
      "Danach folgen Kosmetik- und Friseurdienstleistungen (15 Prozent), die Inanspruchnahme von Hausarbeit (13 Prozent) und von Nachhilfestunden und Gartenarbeiten mit je acht Prozent sowie der Kinderbetreuung mit fünf Prozent.\n",
      "Größter Verlierer beim Pfusch sei der Staat, betont Schneider, dem durch die Schattenwirtschaft hauptsächlich Sozialversicherungsbeiträge entgegen – nämlich Steuer- und Sozialversicherungsbeitrags-Ausfälle von 2,0 bis 3,5 Milliarden Euro pro Jahr.\n",
      "16 Prozent der Wertschöpfung des Pfuschs gehen seinen Angaben zufolge auf organisierte Kriminalität zurück (Prostitution, Bau) und 17 Prozent auf Arbeitslose und Frühpensionisten.\n"
     ]
    },
    {
     "name": "stderr",
     "output_type": "stream",
     "text": [
      "  1%|█                                                                             | 134/10273 [00:12<13:48, 12.24it/s]"
     ]
    },
    {
     "name": "stdout",
     "output_type": "stream",
     "text": [
      "Das Innovation Systems Department des AIT hat im Rahmen der Studie Internationalisation of business investments in R&D and analysis of their economic impact einen Länderbericht zu Forschungsinvestitionen multinationaler Unternehmen am Standort Österreich erstellt.\n",
      "Italiens Altstar Fabrizio Miccoli, mittlerweile mit bemerkenswertem Kampfgewicht, hatte die schwerfälligen Hammers mit dem frühen 1:0 für die Gastgeber in eine heikle Lage manövriert.\n",
      "Bereits am Dienstag: IF Elfsborg (SWE) – FC Randers (DEN) 1:0 n.V. Hinspiel 0:0. Elfsborg mit Gesamtscore von 1:0 weiter.\n"
     ]
    },
    {
     "name": "stderr",
     "output_type": "stream",
     "text": [
      "  1%|█                                                                             | 138/10273 [00:13<14:54, 11.33it/s]"
     ]
    },
    {
     "name": "stdout",
     "output_type": "stream",
     "text": [
      "Der 55 Jahre alte Tim Remington wurde den Angaben zufolge mit lebensbedrohlichen Schusswunden an Kopf, Schulter, Rücken und Hüfte in ein Krankenhaus gebracht.\n"
     ]
    },
    {
     "name": "stderr",
     "output_type": "stream",
     "text": [
      "  1%|█                                                                             | 140/10273 [00:13<15:38, 10.79it/s]"
     ]
    },
    {
     "name": "stdout",
     "output_type": "stream",
     "text": [
      "Wissenschafter analysierten seine Temperatur, den offenbar sehr homogen aufgebauten Kopf des entenförmigen Kometen und dessen hohe Porosität sowie mögliche Erosionsprozese an der Oberfläche.\n",
      "Laut einem weiteren Ko-Autor einer der neuen Publikationen, dem Planetologen Karsten Seiferlin von der Universität Bern, könnte die harte Oberfläche erst vor kurzem, etwa durch die starke Strahlung in Sonnennähe, entstanden sein.\n"
     ]
    },
    {
     "name": "stderr",
     "output_type": "stream",
     "text": [
      "  1%|█                                                                             | 146/10273 [00:13<14:39, 11.52it/s]"
     ]
    },
    {
     "name": "stdout",
     "output_type": "stream",
     "text": [
      "Konkret sind am Standort Ruhstorf nahe Passau rund 700 Arbeitsplätze betroffen, in Bad Neustadt/Saale rund 350, in Nürnberg rund 750 und in Erlangen gut 150 Stellen.\n",
      "Angesichts der Ausweitung der Investitionen unter anderem in Forschung und Entwicklung rechne man in den kommenden Jahren mit mindestens 25.000 Neueinstellungen jährlich, davon rund 3.000 in Deutschland.\n",
      "Elsneg Ried: Gebauer – Hart, Reifeltshammer, Filipovic – Bergmann, Ziegl, Trauner (70. Honsak), Prada – Möschl (58. Fröschl), Elsneg – Kreuzer (82. Walch)\n",
      "Admira: Kuttin – Ebner, Maranda, Wostry, Wessely – Toth, Malicsek (46. Zwierschitz) – Bajrami (85. Sax), Spiridonovic (38. Knasmüllner), Ayyildiz – Monschein Gelbe Karten:\n"
     ]
    },
    {
     "name": "stderr",
     "output_type": "stream",
     "text": [
      "  1%|█▏                                                                            | 150/10273 [00:14<14:02, 12.02it/s]"
     ]
    },
    {
     "name": "stdout",
     "output_type": "stream",
     "text": [
      "Dabei wuchs die Division Brief, Werbepost und Filialen um 0,9 Prozent auf 1,5 Milliarden Euro, die Paketsparte um 2,9 Prozent auf 900 Millionen Euro.\n"
     ]
    },
    {
     "name": "stderr",
     "output_type": "stream",
     "text": [
      "  1%|█▏                                                                            | 152/10273 [00:14<15:21, 10.98it/s]"
     ]
    },
    {
     "name": "stdout",
     "output_type": "stream",
     "text": [
      "Wien/Cardiff/Twickenham – Paul OConnell und Jonathan Sexton waren am Sonntagnachmittag auf der Tribüne des Millennium Stadium von Cardiff zu finden.\n"
     ]
    },
    {
     "name": "stderr",
     "output_type": "stream",
     "text": [
      "  2%|█▏                                                                            | 156/10273 [00:14<14:39, 11.50it/s]"
     ]
    },
    {
     "name": "stdout",
     "output_type": "stream",
     "text": [
      "Die wichtigsten Haushaltsposten sind Subventionen von Grundnahrungsmitteln und Energie (23 Prozent des BIP), sozialer Wohnungsbau und die Löhne der Bediensteten in öffentlichen und staatlichen Unternehmen sowie Beamten.\n",
      "Bei wichtigen Projekten, wie dem Ausbau der Straßenbahn in Algier und anderen Großstädten oder der tausend Kilometer langen Ost-West-Autobahn ist die Finanzierung nicht mehr gesichert.\n",
      "Konkret sollen laut einem regierungsinternen Papier die EZA-Gelder von 77 Millionen Euro im Jahr 2015 schrittweise auf 154 Millionen Euro im Jahr 2021 gesteigert werden.\n"
     ]
    },
    {
     "name": "stderr",
     "output_type": "stream",
     "text": [
      "  2%|█▏                                                                            | 163/10273 [00:15<15:55, 10.58it/s]"
     ]
    },
    {
     "name": "stdout",
     "output_type": "stream",
     "text": [
      "WAC: Kofler – Standfest, Sollbauer, Rnic, Palla – Bingöl (83. Schmerböck), Tschernegg, Hüttenbrenner, Jacobo (75. Wernitznig) – Silvio (72. Hellquist), Ouedraogo Sturm: Esser – Kayhan, Avlonitis, Kamavuaka, Lykogiannis – Lovric (74. Kienast), Offenbacher – Schick, M. Stankovic (61. Horvath), Klem – Edomwonyi (87. Gruber)\n"
     ]
    },
    {
     "name": "stderr",
     "output_type": "stream",
     "text": [
      "  2%|█▎                                                                            | 165/10273 [00:15<16:18, 10.33it/s]"
     ]
    },
    {
     "name": "stdout",
     "output_type": "stream",
     "text": [
      "Der Mobile-Gaming-Trend wirke sich laut NPD Group auch auf die Konsolennutzung aus und speziell negativ auf dedizierte portable Konsolen wie Nintendo 3DS und PS Vita.\n"
     ]
    },
    {
     "name": "stderr",
     "output_type": "stream",
     "text": [
      "  2%|█▎                                                                            | 169/10273 [00:15<14:53, 11.31it/s]"
     ]
    },
    {
     "name": "stdout",
     "output_type": "stream",
     "text": [
      "Weitere Kundgebungen sind am Samstag und Sonntag unter anderem in Berlin, London, Neu Delhi, Kampala, Kyoto, New York, Kairo und São Paulo vorgesehen.\n",
      "Das kleinere Modell 5X verfügt über ein 5,2 Zoll großes Display mit einer Auflösung von 1.080 x 1.920 Pixel, einen Snapdragon-808-Prozessor, 2 GB RAM und eine 12,3-MP-Kamera.\n"
     ]
    },
    {
     "name": "stderr",
     "output_type": "stream",
     "text": [
      "  2%|█▎                                                                            | 173/10273 [00:16<15:25, 10.91it/s]"
     ]
    },
    {
     "name": "stdout",
     "output_type": "stream",
     "text": [
      "Nach dem ersten Viertelfinale auf der ATP-Tour und dem ersten Endspiel auf der Tour ist Thiem nun in Kitzbühel auch erstmals bei einem Tour-Turnier topgesetzt.\n",
      "Ein Erstrunden-Schlager ist das Duell zwischen dem als Nummer fünf gesetzten Juan Monaco (ARG) und dem zweifachen Kitz-Sieger Robin Haase (NED).\n",
      "Forschungsinstitute auf der ganzen Welt, darunter auch die TU Wien, werten die Orientierung der Erde und somit die präzise Tageslänge laufend aus.\n"
     ]
    },
    {
     "name": "stderr",
     "output_type": "stream",
     "text": [
      "  2%|█▎                                                                            | 177/10273 [00:16<15:28, 10.88it/s]"
     ]
    },
    {
     "name": "stdout",
     "output_type": "stream",
     "text": [
      "Für die beiden Aktuellen Stunden zu Beginn des Mittwoch-Plenums haben die ÖVP Maßnahmen zum Erhalt der inneren Sicherheit und die Grünen die von ihnen bekämpften transatlantischen Freihandelsabkommen\n",
      "Ziel der scharfen Kritik: das Vorgehen des Wächterrats, der zuvor mehr als 80 Prozent der liberalen Kandidaten von der für Februar geplanten Parlamentswahl ausgeschlossen hatte.\n",
      "Eine breite Front von Reformern, Liberalen, gemäßigten Konservativen und sogar konservative und linientreue Künstler und Schriftsteller stellen sich ebenfalls hinter die Forderung Rohanis nach mehr Flexibilität des Wächterrats.\n"
     ]
    },
    {
     "name": "stderr",
     "output_type": "stream",
     "text": [
      "  2%|█▎                                                                            | 181/10273 [00:16<15:48, 10.64it/s]"
     ]
    },
    {
     "name": "stdout",
     "output_type": "stream",
     "text": [
      "Die ausländischen Verdächtigen setzten sich zum größten Teil aus Staatsbürgern Rumänens (9.624), Deutschlands (9.161), Serbiens (8.568), der Türkei (6.398) und Bosniens (5.232) zusammen.\n",
      "Lausanne  – Das Internationale Olympische Komitee (IOC) hat am Freitag nach Nachtests der Dopingproben der Olympischen Sommerspiele 2012 in London die Zahl 23 positiver Fälle bekanntgegeben.\n"
     ]
    },
    {
     "name": "stderr",
     "output_type": "stream",
     "text": [
      "  2%|█▍                                                                            | 188/10273 [00:17<17:03,  9.86it/s]"
     ]
    },
    {
     "name": "stdout",
     "output_type": "stream",
     "text": [
      "In einer in dieser Woche durchgeführte Umfrage des Meinungsforschungsinstituts Unique research (500 Befragte) im Auftrag von profil bewerten 83 Prozent das Krisenmanagement der Regierung negativ.\n"
     ]
    },
    {
     "name": "stderr",
     "output_type": "stream",
     "text": [
      "  2%|█▍                                                                            | 194/10273 [00:18<16:41, 10.06it/s]"
     ]
    },
    {
     "name": "stdout",
     "output_type": "stream",
     "text": [
      "Daten über die Bruttowerbevolumina der Marken und Branchen in  ORF 1 und ORF 1, ATV und ATV 2 und Puls 4 – die rund die Hälfte des Markts repräsentieren dürften.\n",
      "Wer war in Kalenderwoche 26 nicht mehr in ORF 1 und 2, ATV und ATV 2 sowie Puls 4 präsent – gereiht nach den Werbebudgets in der Woche zuvor?\n",
      "Bei Frank Plasberg diskutieren: Frauke Petry (AfD), Boris Pistorius (SPD), Dunja Hayali (Journalistin), Joachim Lenders (Polizeigewerkschafter) und Georg Mascolo (Journalist).\n",
      "Bis 23.00, ORF 2 22.30 TALKPro und Contra: Krieg der Supermächte in Syrien – welche Interessen verfolgen Putin, Obama und Co.?\n",
      "Bei Corinna Milborn diskutieren: Berivan Aslan (Nationalratsabgeordnete, Die Grünen), Herbert Scheibner (ehem. Verteidigungsminister, FPÖ/BZÖ), Don F. Jordan (ehem. Deutschland-Korrespondent des Guardian), Anna Rose (Deutschland-Korrespondentin der russischen Zeitung Rossijskaja gaseta).\n"
     ]
    },
    {
     "name": "stderr",
     "output_type": "stream",
     "text": [
      "  2%|█▌                                                                            | 202/10273 [00:18<11:35, 14.48it/s]"
     ]
    },
    {
     "name": "stdout",
     "output_type": "stream",
     "text": [
      "Die Südamerikaner sind in ihrem letzten Spiel in der Gruppe C am kommenden Sonntag in Leicester gegen den noch punktlosen Außenseiter Namibia klarer Favorit.\n"
     ]
    },
    {
     "name": "stderr",
     "output_type": "stream",
     "text": [
      "  2%|█▌                                                                            | 207/10273 [00:19<15:40, 10.70it/s]"
     ]
    },
    {
     "name": "stdout",
     "output_type": "stream",
     "text": [
      "Berlin – Nach Einschätzung von Zeit-Chefredakteur Giovanni di Lorenzo ist es ein relativ kleiner, aber meinungsstarker Teil der Bevölkerung, der Medien als Lügenpresse kritisiert.\n",
      "Sanaa – Bei zwei Selbstmordanschlägen auf eine Moschee sind in der jemenitischen Hauptstadt Sanaa am Mittwoch nach Angaben von Rettungskräften mindestens 28 Menschen getötet worden.\n",
      "Seit der Eskalation des Konflikts zwischen den Houthi-Rebellen und ihren Verbündeten in der Armee sowie den Regierungstruppen und ihren ausländischen Unterstützern Ende März wurden bereits mehr als 4.400 Menschen getötet.\n"
     ]
    },
    {
     "name": "stderr",
     "output_type": "stream",
     "text": [
      "  2%|█▌                                                                            | 210/10273 [00:19<14:57, 11.21it/s]"
     ]
    },
    {
     "name": "stdout",
     "output_type": "stream",
     "text": [
      "Hier ging es etwa um die – laut FPÖ-Parteiprogramm und dem Handbuch freiheitlicher Politik – von der FPÖ gewünschte  Aufwertung des Deutschtums als Grundlage von Kultur und Kunst.\n",
      "Kainz Grödig: Swete – T. Kainz, Maak, D. Baumgartner, Denner – Brauer, Rasner (85. Kerschbaum) – Schütz (55. Ofosu), Derflinger, Goiginger (58. Wallner) – Sulimani Ried: Gebauer – Janeczek, Reifeltshammer, Filipovic – Hart, Brandner, Trauner, Streker – Walch (63. Bergmann), Fröschl (91. Gavilan), Elsneg (81. Honsak)\n"
     ]
    },
    {
     "name": "stderr",
     "output_type": "stream",
     "text": [
      "  2%|█▋                                                                            | 215/10273 [00:20<13:23, 12.52it/s]"
     ]
    },
    {
     "name": "stdout",
     "output_type": "stream",
     "text": [
      "In der ostukrainischen Hafenstadt Mariupol, der letzten größeren Stadt in der Konfliktregion unter Kontrolle der ukrainischen Armee, wurde die Wahl kurzfristig abgesagt.\n",
      "Für die Regierung ist eines der größten Risiken bei den Wahlen zudem ein Erstarken der prorussischen Opposition in Kommunen im Süden und Südosten des Landes.\n",
      "In einigen Städten wie Charkow an der Grenze zum Separatisten-Gebiet oder Odessa am Schwarzen Meer könnten Anhänger des Anfang 2014 entmachteten Kreml-treuen Präsidenten Viktor Janukowitsch den Sieg davon tragen.\n",
      "Anstelle der bislang genutzten Braswell-Architektur und einer Grafikeinheit der achten Generation soll Apollo Lake CPU-Kerne auf Basis von Goldmont und auch neuere GPUs (Gen 9) erhalten.\n"
     ]
    },
    {
     "name": "stderr",
     "output_type": "stream",
     "text": [
      "  2%|█▋                                                                            | 217/10273 [00:20<14:24, 11.63it/s]"
     ]
    },
    {
     "name": "stdout",
     "output_type": "stream",
     "text": [
      "Die besseren Läufer Klapfer (7. nach dem Springen) und Gruber (17.) hatten bald nach dem Start in eine zehnköpfige Spitzengruppe gefunden.\n",
      "(APA, 6.12.2015) Ergebnisse des Weltcup-Auftakts der Nordischen Kombinierer in Lillehammer am Sonntag – Endstand nach einem Sprung (Normalschanze) und dem 10-Kilometer-Lauf: 1. Magnus Krog (NOR) 25:41,8 Min.\n",
      "3. Lukas Klapfer (AUT) 1,9 (7./12.) – 4. Bernhard Gruber (AUT) (17./9.) 8,5 – 5. Eric Frenzel (GER) 17,1 (6./21.) – 6. Akito Watabe (JPN) 21,6 (8./19.).\n",
      "1:21,8 (29./22.) – 27. Paul Gerstgraser 1:28,3 (49./5.) – 35. Fabian Steindl (alle AUT) 1:53,5 (12./42.) Weltcupstand (2 von 20 Bewerbe):\n",
      "1. Rießle 180 Punkte – 2. Krog 132 – 3. Watabe 120 – 4. Gruber 100 – 5. Klapfer 82 – 6. Ilkka Herola (FIN)\n",
      "Wien bezeichnete sie als internationalen Top-Forschungsstandort ihres Fachs und angesichts der Tradition und der Vielzahl an ausgewiesenen Forschern auf diesem Gebiet als Schlaraffenland der Byzantinistik.\n",
      "Dabei solle nicht nur kulturelle Mobilität, also Kulturkontakte und Kulturaustausch von Byzanz mit Europa und Asien erforscht werden, sondern auch die Mobilität im Sinne von sozialer Durchlässigkeit innerhalb der byzantinischen Gesellschaft.\n"
     ]
    },
    {
     "name": "stderr",
     "output_type": "stream",
     "text": [
      "  2%|█▋                                                                            | 229/10273 [00:20<08:55, 18.75it/s]"
     ]
    },
    {
     "name": "stdout",
     "output_type": "stream",
     "text": [
      "Dahinter konnten sich mit dem Bibel-Film Auferstanden (11,8 Millionen Dollar) und dem Horrorschocker The Witch (8,7 Millionen Dollar) zwei Neueinsteiger platzieren.\n",
      "Nach Schätzungen speichern sie mindestens 32 Prozent des weltweit vorhandenen Kohlenstoffes, und zwar nicht nur in den Bäumen, sondern auch im Permafrostboden.\n"
     ]
    },
    {
     "name": "stderr",
     "output_type": "stream",
     "text": [
      "  2%|█▊                                                                            | 231/10273 [00:20<09:17, 18.01it/s]"
     ]
    },
    {
     "name": "stdout",
     "output_type": "stream",
     "text": [
      "motor und sport in ihrer am Donnerstag erscheinenden Ausgabe unter Berufung auf das neue Reglement, auf das sich der Internationale Automobilverband (FIA) und die Teams weitgehend geeinigt haben.\n",
      "Die Gesamtbreite der Autos soll von 180 auf 200 Zentimeter steigen, die Lauffläche der Reifen vorne von 24,5 auf 30 und hinten von 32,5 auf 40 Zentimeter.\n",
      "Bei der Karosserie haben die Teams künftig größere Freiheiten, etwa bei der Gestaltung des auf 95 Zentimeter Breite wachsenden Heckflügels, der Seitenkästen und des Unterbodens.\n",
      "Seebohm fing auf der letzten Länge noch Missy Franklin um 53/100 ab, die trumpfte dafür mit der US-Mixed-Staffel über 4 x 100 m Kraul auf.\n",
      "Am Sonntag (ab 16.30 Uhr MESZ) stehen in der Kazan Arena noch acht Finalentscheidungen auf dem Programm, darunter die über 400 m Lagen der Herren und Damen.\n"
     ]
    },
    {
     "name": "stderr",
     "output_type": "stream",
     "text": [
      "  2%|█▊                                                                            | 235/10273 [00:21<13:01, 12.84it/s]"
     ]
    },
    {
     "name": "stdout",
     "output_type": "stream",
     "text": [
      "Wien – Ein deutlicher Anstieg bei den Anzeigen wegen rechtsextremistischer Taten, ein ebenso deutlicher Rückgang bei den Anzeigen wegen linksextremistischer Taten, die Identifizierung von 259 mutmaßlichen Jihadisten und Cyberkriminalität – das ist das Kurzfazit des Verfassungsschutzberichts\n",
      "Den größten Teil der strafrechtlich relevanten Anzeigen bildeten Sachbeschädigung (262 Anzeigen gegenüber 182 Anzeigen 2014) und Verhetzung (282 Anzeigen gegenüber 182 Anzeigen 2014).\n",
      "In der überwiegenden Mehrheit der Fälle fokussierten sie sich auf Aktionismus und Agitationen in den Bereichen Antifaschismus, Antirepression, Flüchtlings- und Asylthemen, Kapitalismus-, Wirtschafts- und Sozialkritik.\n"
     ]
    },
    {
     "name": "stderr",
     "output_type": "stream",
     "text": [
      "  2%|█▊                                                                            | 237/10273 [00:21<12:45, 13.11it/s]"
     ]
    },
    {
     "name": "stdout",
     "output_type": "stream",
     "text": [
      "Mit einer emotionalen Retrospektive auf die Geschichte des Agenten Snake und mit einem Ausblick auf dessen zumindest vorerst letzten Einsatz nimmt das Video aber auch Abschied Metal Gear-Erfinder Hideo Kojima.\n"
     ]
    },
    {
     "name": "stderr",
     "output_type": "stream",
     "text": [
      "  2%|█▊                                                                            | 246/10273 [00:22<10:06, 16.53it/s]"
     ]
    },
    {
     "name": "stdout",
     "output_type": "stream",
     "text": [
      "Demnach gehe es dabei hauptsächlich um die verstärkte Zusammenarbeit an den Grenzen beziehungsweise den Einsatz von österreichischen und deutschen Polizisten an der slowenischen und kroatischen Grenze.\n",
      "Vom Einsatz erwarte sich die Regierung nicht nur ein effizienteres Grenzmanagement, sondern auch ein deutliches Signal an illegal Einreisende, so der Spiegel.\n"
     ]
    },
    {
     "name": "stderr",
     "output_type": "stream",
     "text": [
      "  2%|█▉                                                                            | 248/10273 [00:22<15:45, 10.61it/s]"
     ]
    },
    {
     "name": "stdout",
     "output_type": "stream",
     "text": [
      "Christoph Knasmüllner mit seinem ersten Liga-Doppelpack (7., 25.), Lukas Grozurek (53./Elfmeter) und Srdjan Spiridonovic (63.) sorgten für die höchste Liganiederlage Rapids seit einem 1:5 gegen Sturm Graz am 15. September\n",
      "Die zuvor im Frühjahr mit fünf Siegen und einem Remis noch ungeschlagenen Wiener präsentierten sich so schlecht wie noch nie in der Liga in der laufenden Saison.\n",
      "Spiridonovic Rapid: Strebinger – Pavelic, Sonnleitner, Dibon, Schrammel – Petsos, Schwab (46. Grahovac) – Schobesberger (61. Schaub), S. Hofmann (55. Prosenik), Murg – Jelic Admira: Siebenhandl – Zwierschitz, Lackner, Wostry, Pavic – Ebner, Toth – Bajrami (78. Ayyildiz), Knasmüllner (70. Starkl), Spiridonovic – Grozurek (83. Malicsek)\n",
      "Lange herrschte in der Forschung Unklarheit über Siedlungstätigkeit im nubischen Niltal nach den Ägyptern bis zum Beginn des nächsten großen nubischen Reiches, des napatanischen Reichs im 8. Jahrhundert.\n",
      "Der Friedhof in Qwekka, bestehend aus etwa 40 bis 50 großen Grabhügeln, ist wegen seiner Lage direkt neben dem Khartoum-Wadi-Halfa-Highway besonders gefährdet.\n"
     ]
    },
    {
     "name": "stderr",
     "output_type": "stream",
     "text": [
      "  3%|█▉                                                                            | 258/10273 [00:22<09:39, 17.28it/s]"
     ]
    },
    {
     "name": "stdout",
     "output_type": "stream",
     "text": [
      "Mit dem Baseband gibt es auf so einem aktuellen Smartphone noch ein zweites, vollständig unabhängiges Betriebssystem, das für Kernaufgaben wie die Kommunikation mit dem Mobilfunknetzwerk zuständig ist.\n",
      "Podemos ist zwar nicht das politische Sprachrohr der auch als Bewegung des 15. Mai bekannten, parteiübergreifenden Protestaktion, fand aber dort hier ihren Ursprung.\n",
      "Die Sozialisten von Oppositionsführer Pedro Sanchez (PSOE) könnten mit 22 Prozent nur noch drittstärkste Partei werden, dicht gefolgt von den konservativen Liberalen Ciudadanos (Bürger).\n"
     ]
    },
    {
     "name": "stderr",
     "output_type": "stream",
     "text": [
      "  3%|█▉                                                                            | 262/10273 [00:23<10:05, 16.54it/s]"
     ]
    },
    {
     "name": "stdout",
     "output_type": "stream",
     "text": [
      "Nach einem zunächst friedlichen Jubiläumsmarsch zum 50. Vereinsgeburtstag von der Köpenicker Altstadt in Richtung Stadion mit rund 1.000 Union-Fans hatten Polizeibeamte den Anhängern den Weg vor der Haupttribüne versperrt.\n",
      "Wien – Die Klimaschutzbewegung System Change, not Climate Change! sieht in dem in Paris beschlossenen Weltklimavertrag kein wirksames Instrument gegen die zunehmende Umweltverschmutzung.\n",
      "was a 6 year old,picked him up,hes a MAN🙈 pic.twitter.com/VqNR86dsUi Statt des üblichen Shitstorms liegen ihr dank des selbstironischen Umgangs mit dem Faux-Pas zahlreiche Nutzer zu Füßen.\n"
     ]
    },
    {
     "name": "stderr",
     "output_type": "stream",
     "text": [
      "  3%|██                                                                            | 266/10273 [00:23<10:25, 16.01it/s]"
     ]
    },
    {
     "name": "stdout",
     "output_type": "stream",
     "text": [
      "Panorama, Darknet, Erlebnis Bühne mit Barbara Rett, Sleepers, Warschau '44, Mein Klagenfurt, Spiegel TV Magazin, Donnie Darko – mit Videos.\n",
      "Bis 20.00, RTL 2 20.00 THEMENABENDOktoskop: Werkschau Ascan Breuer Zu Gast bei Amina Handke ist der Filmemacher, Sozial- und Kulturwissenschafter Ascan Breuer.\n",
      "Er hat eine Auswahl seiner Filme aus dem Dokumentarischen Labor mit dabei: Riding my Tiger, Teheran – Lost and Found, Paradise Later und Jakarta Disorder.\n",
      "Bis 23.05, RTL 2 22.00 KRIEGWarschau ’44 (POL 2014, Jan Komasa) 1944: Stefan (Józef Pawlowski) lebt noch bei seiner Mutter.\n"
     ]
    },
    {
     "name": "stderr",
     "output_type": "stream",
     "text": [
      "  3%|██                                                                            | 272/10273 [00:24<12:03, 13.83it/s]"
     ]
    },
    {
     "name": "stdout",
     "output_type": "stream",
     "text": [
      "Die Hauptbruchlinie verläuft vom Semmering am Leithagebirge vorbei in die Gegend von Marchegg und dann entlang der Kleinen Karpaten nach Dobra Voda in der Slowakei, so Decker.\n",
      "Von ihr würden andere Bruchlinien abzweigen, und zwar der besagte Markgrafneusiedler Bruch, der Aderklaaer Bruch, der Leopoldsdorfer Bruch und der Bisamberg-Nussdorf Bruch.\n",
      "Ein Beben in historischer Zeit ist für die Hauptbruchlinie wahrscheinlich sogar rekonstruierbar, nämlich im vierten Jahrhunderts unserer Zeitrechnung im römischen Carnuntum, so Decker.\n",
      "Außerdem wurden seine Arbeiten im Februar in der HO Gallery in Wien unter dem Titel I Like to Write my Name on your Property ausgestellt.\n"
     ]
    },
    {
     "name": "stderr",
     "output_type": "stream",
     "text": [
      "  3%|██                                                                            | 274/10273 [00:24<14:53, 11.19it/s]"
     ]
    },
    {
     "name": "stdout",
     "output_type": "stream",
     "text": [
      "Er war in diesem Winter als Dritter im Super-G von Gröden hinter Svindal und Jansrud bereits einmal in seiner Karriere auf dem Podest gewesen.\n",
      "Um 137 Millionen Euro werden bestehende Trassen und Infrastruktur modernisiert, mit der U4-Sanierung als größten Posten und 30 Gleisbauprojekten am Tramwaynetz in der ganzen Stadt.\n"
     ]
    },
    {
     "name": "stderr",
     "output_type": "stream",
     "text": [
      "  3%|██▏                                                                           | 282/10273 [00:24<10:24, 15.99it/s]"
     ]
    },
    {
     "name": "stdout",
     "output_type": "stream",
     "text": [
      "Gegen Betis will Rapids Europa-League-Gegner seine Negativserie von elf sieglosen Meisterschaftsspielen – acht davon seit dem Amtsantritt von Neville Anfang Dezember – endlich beenden.\n",
      "Im Gegensatz zum Karlsplatz handelt es sich laut Polizeisprecher Patrick Maierhofer dabei nicht um einen klar begrenzten Ort, sondern um ein großflächiges Areal.\n"
     ]
    },
    {
     "name": "stderr",
     "output_type": "stream",
     "text": [
      "  3%|██▏                                                                           | 286/10273 [00:25<11:46, 14.13it/s]"
     ]
    },
    {
     "name": "stdout",
     "output_type": "stream",
     "text": [
      "Für den Bereich Integration sollen die zusätzlichen Mittel dem Vernehmen nach über die bloße Verlängerung des für heuer beschlossenen Sonderbudgets (75 Millionen Euro) hinaus gehen.\n",
      "Richmond (Virginia) – Dem US-Team BMC ist am Sonntag zum Auftakt der Radstraßen-WM in Richmond (Virginia) im Teamzeitfahren für UCI-Teams die Titelverteidigung gelungen.\n",
      "Neben dem Vize-Weltmeister im Einzelzeitfahren von 2012 machte bei BMC auch der Australier Rohan Dennis mit einem Schnitt von knapp 55 km/h Tempo.\n",
      "1. BMC Racing Team (USA/Rohan Dennis, Silvan Dillier, Stefan Küng, Daniel Oss, Taylor Phinney, Manuel Quinziato)\n",
      "+0:12 Minuten – 3. Movistar Team (ESP) 0:31 – 4. Orica GreenEdge (AUS) 0:54 – 5. Team Giant-Alpecin (GER/mit Georg Preidler) 1:04 – 6. Team Lotto NL-Jumbo (NED)\n",
      "Damen (38,8 km): 1. Velocio-SRAM (GER/Alena Amialiusik, Lisa Brennauer, Karol-Ann Canuel, Barbara Guarischi, Mieke Kröger, Trixi Worrack) 47:35 Minuten –\n",
      "Liv Women Cycling Team (NED) +0:56 – 4. Wiggle Honda (GBR) 1:10 – 5. Twenty16 p/b Sho-Air (USA) 2:05 – 6. UnitedHealthcare Pro Cycling Team (USA)\n"
     ]
    },
    {
     "name": "stderr",
     "output_type": "stream",
     "text": [
      "  3%|██▏                                                                           | 293/10273 [00:25<10:04, 16.51it/s]"
     ]
    },
    {
     "name": "stdout",
     "output_type": "stream",
     "text": [
      "Außenminister Frank-Walter Steinmeier (SPD) will die Ukraine-Krise, den Kampf gegen den Terror und den Einsatz für die Menschenrechte zu Schwerpunkten der Arbeit machen.\n",
      "Mit ihrem neuen Programm Dackeln im Sturm stehen sie im Kabarett Niedermair aktuell zum ersten Mal seit 16 Jahren wieder gemeinsam auf der Bühne.\n",
      "Von Knötzls emphatischer Exegese des Cat Stevens-Hits Father and Son (Kater and Son) hantelt man sich die fellflauschige Assoziationskette Katze – Cat – Muschi entlang bis zwischen die Schenkel einer altgedienten, steilen Katz.\n",
      "Leben, leben – bis zuletzt, Terra Mater: Amur – Asiens Amazonas, Weltjournal: Indien – Das Heirats-Business, Weltjournal +:\n",
      "Bis 23.50, ORF 2 23.20 TALKMarkus Lanz Gäste: Peter Urban (Journalist), Olli Dittrich (Schauspieler), Maren Gilzer (Schauspielerin), Eberhard Figgemeier (Reporter), Thomas Ehrenberg (RLS-Erkrankter).\n"
     ]
    },
    {
     "name": "stderr",
     "output_type": "stream",
     "text": [
      "  3%|██▎                                                                           | 301/10273 [00:26<13:32, 12.27it/s]"
     ]
    },
    {
     "name": "stdout",
     "output_type": "stream",
     "text": [
      "Neuchatel – Nach einer neuen Studie im Auftrag der Europäischen Fußball-Union UEFA hat der erhöhte Spielrhythmus von Europacup-Teilnehmern keinen negativen Einfluss auf das Abschneiden in der heimischen Liga.\n",
      "Innerhalb des Sechs-Jahre-Zeitraums sei der Punktedurchschnitt von noch im Europacup vertretenen Vereinen bei 1,68 Punkten gelegen, nach dem Europa-Ausscheiden nur noch bei 1,61 Zählern.\n"
     ]
    },
    {
     "name": "stderr",
     "output_type": "stream",
     "text": [
      "  3%|██▎                                                                           | 310/10273 [00:26<12:27, 13.33it/s]"
     ]
    },
    {
     "name": "stdout",
     "output_type": "stream",
     "text": [
      "Mit seinen Kollegen arbeitet er in einem bereits als Versuchsanlage an der TU realisierten Konzept zwar auch mit Aminen, allerdings nicht in flüssiger Form.\n",
      "Ins Leben gerufen wurde das Internetradio vom Bremer Komponisten für Neue Musik Hannes Seidl in Kooperation mit dem Südwestrundfunk (SWR) sowie dem Leiter der Donaueschinger Musiktage, Björn Gottstein.\n",
      "(APA, 25.5.2016) Ergebnis NBA-Play-off – Western-Conference-Finale (Halbfinale, best of seven/4. Spiel): Oklahoma City Thunder – Golden State Warriors\n",
      "Unter dem Titel Pokémon Go soll das Spiel, ebenfalls eine Vermenung von Realität und virtuellen Inhalten, kommendes Jahr für Android und iOS erscheinen.\n"
     ]
    },
    {
     "name": "stderr",
     "output_type": "stream",
     "text": [
      "  3%|██▍                                                                           | 317/10273 [00:27<11:37, 14.27it/s]"
     ]
    },
    {
     "name": "stdout",
     "output_type": "stream",
     "text": [
      "Vor Schloss Elmau, dem etwa zehn Kilometer Luftlinie von Garmisch-Partenkirchen entfernten Schauplatz des Treffens, demonstrierten zu diesem Zeitpunkt laut Polizei bereits rund 650 Menschen gegen den Gipfel.\n",
      "Neben Russland wird es beim Gipfel auch um die Konflikte in Syrien, Irak und Libyen sowie die schwierigen Atomverhandlungen mit dem Iran gehen.\n",
      "Neben aktuellen Konflikten und Kriegen wollen die Tagungsteilnehmer auch über Wirtschaftsthemen wie die Griechenland-Krise und das TTIP-Handelsabkommen, über Klimaschutz und Umweltstandards, über Gesundheitsthemen wie die Bekämpfung möglicher Epidemien und die Antibiotikaresistenz durch deren massiven Einsatz in der Lebensmittelproduktion diskutieren.\n",
      "Während es von dem in den Tropenwäldern Mexikos und Südamerikas angesiedelten Kleinen Soldatenara noch schätzungsweise 6.000 bis 13.000 Exemplare gibt, ist die Zahl an Großen Soldatenaras noch geringer.\n"
     ]
    },
    {
     "name": "stderr",
     "output_type": "stream",
     "text": [
      "  3%|██▍                                                                           | 324/10273 [00:27<11:06, 14.94it/s]"
     ]
    },
    {
     "name": "stdout",
     "output_type": "stream",
     "text": [
      "Zürich/Montevideo – Der von der Schweiz nach Uruguay ausgelieferte frühere Fifa-Vizepräsident Eugenio Figueredo ist nach kurzer Zeit in einem Gefängnis wegen Herzproblemen in ein Krankenhaus verlegt worden.\n",
      "Der 83-Jährige war Ende Mai mit sechs weiteren Spitzenfunktionären der Fifa, darunter Vize Jeffrey Webb und Ex-Vize Jack Warner, in der Schweiz festgenommen worden.\n",
      "Idomeni/Brüssel – Die Europäische Kommission will nach Angaben von EU-Migrationskommissar Dimitris Avramopoulos die Geschwindigkeit der Umsiedelung von Flüchtlingen aus Griechenland in andere EU-Staaten signifikativ erhöhen.\n",
      "Vor dem Treffen der EU-Staats- und Regierungschefs zum Flüchtlingsabkommen mit der Türkei am Donnerstag und Freitag, hat Innenministerin Johanna Mikl-Leitner (ÖVP) eine Reihe von Forderungen an die EU-Kommission gestellt.\n"
     ]
    },
    {
     "name": "stderr",
     "output_type": "stream",
     "text": [
      "  3%|██▌                                                                           | 331/10273 [00:28<12:07, 13.66it/s]"
     ]
    },
    {
     "name": "stdout",
     "output_type": "stream",
     "text": [
      "Das mit 58,9 Prozent deutliche Nein der Eidgenossen zur Durchsetzungsinitiative der rechtspopulistischen Schweizerischen Volkspartei (SVP) hatte zwar die automatische und ausnahmslose Ausweisung verhindert.\n"
     ]
    },
    {
     "name": "stderr",
     "output_type": "stream",
     "text": [
      "  3%|██▌                                                                           | 339/10273 [00:28<10:38, 15.56it/s]"
     ]
    },
    {
     "name": "stdout",
     "output_type": "stream",
     "text": [
      "Die Unterstützung des Irak-Kriegs durch den damaligen Labour-Premierminister Tony Blair hat die Partei viele Wählerstimmen gekostet und ist auch zwölf Jahre danach noch ein dunkles Kapitel der Parteigeschichte.\n"
     ]
    },
    {
     "name": "stderr",
     "output_type": "stream",
     "text": [
      "  3%|██▌                                                                           | 341/10273 [00:29<13:42, 12.07it/s]"
     ]
    },
    {
     "name": "stdout",
     "output_type": "stream",
     "text": [
      "Es diskutieren Margaretha Kopeinig (Kurier-Korrespondentin, Brüssel), Cengiz Günay (Österreichisches Institut für internationale Politik), Seyran Ateş (Anwältin, Menschenrechtsaktivistin) und Heribert Prantl (Chefredaktion Süddeutsche Zeitung).\n",
      "Bis 22.00, ORF 3 20.00 THEMENABENDOktoskop: Train Of Hope September 2015: Der Film bringt durch vielfältige Porträts der freiwilligen Helfer die facettenreiche Vielfalt von Menschlichkeit zum Ausdruck.\n",
      "Gäste: Peter Altmaier (Chef des Bundeskanzleramts, Flüchtlingskoordinator der Bundesregierung), Martin Schulz (Präsident des Europäischen Parlaments), Cem Özdemir (Parteivorsitzender), Mustafa Yeneroğlu (Abgeordneter der Großen Nationalversammlung der Türkei) und Selmin Çalışkan (Generalsekretärin von Amnesty International in Deutschland).\n",
      "Zu Gast: Peter Filzmaier (Politikwissenschafter), Eva Zeglovits (Institut für empirische Sozialforschung, Ifes), Wolfgang Bachmayer (österreichische Gesellschaft für Marketing, OGM), Heidi Glück (Strategieberaterin) und Josef Kalina (Kommunikationsexperte).\n"
     ]
    },
    {
     "name": "stderr",
     "output_type": "stream",
     "text": [
      "  3%|██▌                                                                           | 345/10273 [00:29<17:22,  9.53it/s]"
     ]
    },
    {
     "name": "stdout",
     "output_type": "stream",
     "text": [
      "Auf dem Dach des Green House befinden sich 738 Photovoltaikpaneele mit einer Gesamtfläche von mehr als 1200 Quadratmetern und einer Maximalleistung von 222 Kilowatt.\n",
      "Die Gesellschafter der ASCR sind neben der Wien Energie die Wiener Netze, Siemens, die Wien 3420 Aspern Development AG und die Wirtschaftsagentur Wien.\n",
      "Dann hinauf zur Wahlbehörde, kurzer Smalltalk mit Robert Stein, dem zuständigen Beamten, der wie Hofer nach einem Unfall am Stock geht.\n",
      "Für die Parteikandidaten Rudolf Hundstorfer (SPÖ) und Andreas Khol (ÖVP) sowie den offiziell als unabhängig antretenden Ex-Grünen-Chef Alexander Van der Bellen dürfte es aber kein Problem gewesen sein, die 6.000 Unterstützer zu finden.\n",
      "Laut dem leitenden Ingenieur Mark Cerny wurde damit die Entwicklungszeit bis zur Lauffähigkeit eines Spiels von sechs bis 12 Monaten bei der PS3 auf ein bis zwei Monate bei der PS4 gesenkt.\n"
     ]
    },
    {
     "name": "stderr",
     "output_type": "stream",
     "text": [
      "  3%|██▋                                                                           | 349/10273 [00:29<13:56, 11.86it/s]"
     ]
    },
    {
     "name": "stdout",
     "output_type": "stream",
     "text": [
      "Mit dem Saufen und Schunkeln, dem Grölen und Grapschen auf der Wiesn können auch die Kommissare Franz Leitmayr (Udo Wachtveitl) und Ivo Batic (Miroslav Nemec) nicht viel anfangen.\n"
     ]
    },
    {
     "name": "stderr",
     "output_type": "stream",
     "text": [
      "  3%|██▋                                                                           | 357/10273 [00:30<14:47, 11.17it/s]"
     ]
    },
    {
     "name": "stdout",
     "output_type": "stream",
     "text": [
      "Vier Frauen kommen aus Syrien, zwei aus dem Irak, drei aus Tschetschenien, eine aus dem Iran, drei aus Afghanistan, eine aus Uganda und eine aus Moldawien.\n",
      "Es gab auch schon bisher soziale Staffelungen und Ermäßigungen bis auf Kosten von nur einem Euro pro Kurseinheit, Bedingung dafür war aber bisher ein gültiger Aufenthaltsstatus.\n"
     ]
    },
    {
     "name": "stderr",
     "output_type": "stream",
     "text": [
      "  3%|██▋                                                                           | 359/10273 [00:30<15:16, 10.82it/s]"
     ]
    },
    {
     "name": "stdout",
     "output_type": "stream",
     "text": [
      "Es ist die vierte Auftaktpleite in fünf Jahren nach Niederlagen gegen Anderson, den Kanadier Vasek Pospisil, den Deutschen Daniel Brands und nun wieder Anderson.\n",
      "Mit 620 Millionen Basenpaaren ist das Genom der Fisole nur etwa ein Fünftel so groß wie jenes des Menschen, enthält aber 50 Prozent mehr Gene.\n",
      "Die Forscher erhoffen sich Einblicke in die biologischen Grundlagen von Prozessen wie Resistenzen gegenüber Schädlingen oder Wassermangel, Stickstofffixierung in den Wurzeln, Fruchtbildung und Fruchtqualität.\n"
     ]
    },
    {
     "name": "stderr",
     "output_type": "stream",
     "text": [
      "  4%|██▊                                                                           | 363/10273 [00:31<14:15, 11.59it/s]"
     ]
    },
    {
     "name": "stdout",
     "output_type": "stream",
     "text": [
      "Die Mehrheit der Angestellten im öffentlichen Dienst (58 Prozent) wie in der Privatwirtschaft (54 Prozent) sollen ebenfalls gegen das Kreditabkommen sein.\n",
      "Zustimmung gibt es dagegen bei den Beschäftigten in der griechischen Landwirtschaft (44 Prozent ja, 40 Prozent nein), bei den Unternehmern und Selbständigen (50 Prozent ja, 39 Prozent nein) und bei den Pensionisten.\n",
      "Noch längere Verhandlungen mit den Gläubigern, ein vollständiger Staatsbankrott und Zusammenbruch der Wirtschaft erscheint einer Mehrheit der zwei Millionen Pensionisten in Griechenland vielleicht noch riskanter:\n",
      "Denn ein russischer Schlagerstar namens Lord (Igor Mirkurbanow), eine Mischung aus Keith Richards und Roy Black, ist hier die tonangebende Figur.\n",
      "Dieser Ideale Gatte, ein lautes Echo aus der schon ein wenig verglühten Poptheaterzeit, verfügt über ungewöhnliche Drehungen und einige sehr schöne Koinzidenzen.\n"
     ]
    },
    {
     "name": "stderr",
     "output_type": "stream",
     "text": [
      "  4%|██▊                                                                           | 369/10273 [00:31<12:00, 13.75it/s]"
     ]
    },
    {
     "name": "stdout",
     "output_type": "stream",
     "text": [
      "Zuvor betreute der gebürtige Wolfsberger Wacker Innsbruck (2008 bis 2012), den DSV Leoben (2007/08) und den WAC/St. Andrä (2005/06).\n"
     ]
    },
    {
     "name": "stderr",
     "output_type": "stream",
     "text": [
      "  4%|██▊                                                                           | 373/10273 [00:31<11:57, 13.79it/s]"
     ]
    },
    {
     "name": "stdout",
     "output_type": "stream",
     "text": [
      "Alberto Moreno (8.), Daniel Sturridge (32.) und Divock Origi (50., 65.) erzielten die Treffer für die Hausherren.\n",
      "Im Vorjahr wurden an der Wiener Börse rund vier Milliarden Euro an Eigenkapital durch die Ausgabe junger Aktien und 7,2 Milliarden an Fremdkapital über Anleihenplatzierungen aufgenommen.\n"
     ]
    },
    {
     "name": "stderr",
     "output_type": "stream",
     "text": [
      "  4%|██▊                                                                           | 377/10273 [00:32<13:41, 12.05it/s]"
     ]
    },
    {
     "name": "stdout",
     "output_type": "stream",
     "text": [
      "Auch an der italienischen Küste ging die Zahl der Flüchtlinge, die meisten von ihnen aus Nigeria, nach Frontex-Angaben im ersten Monat des Jahres um 42 Prozent zurück.\n"
     ]
    },
    {
     "name": "stderr",
     "output_type": "stream",
     "text": [
      "  4%|██▉                                                                           | 389/10273 [00:32<07:54, 20.81it/s]"
     ]
    },
    {
     "name": "stdout",
     "output_type": "stream",
     "text": [
      "Die Maxi-Yacht des früheren US-Technologiemanagers George David löste nach witterungsbedingten Turbulenzen im gesamten Teilnehmerfeld die mitfavorisierte Comanche des US-Milliardärs und Netscape-Gründers Jim Clark an der Spitze ab.\n",
      "Laut Rennleitung konnten neun weitere der insgesamt 108 in See gestochenen Hightech-Boote die Regatta über 628 Seemeilen oder rund 1163 Kilometer bis zur tasmanischen Hauptstadt wegen Wetterschäden nicht fortsetzen.\n",
      "Wien/Pucking – Nach der Insolvenz der Handelskette dayli im Juli 2013 ermittelt die Wirtschafts- und Korruptionsstaatsanwaltschaft (WKStA) weiterhin gegen den früheren Chef und Eigentümer Rudolf Haberleitner.\n",
      "Bei all seinen bisherigen vier Versuchen – heuer in Stuttgart und Halle sowie 2014 in London im Queens Club und in Wimbledon – scheiterte der Schützling von Günter Bresnik jeweils in der ersten Runde.\n",
      "Im September hatten die EU-Staaten gegen den Widerstand von Ungarn, Tschechien, der Slowakei sowie Rumänien die Verteilung von insgesamt 160.000 Flüchtlingen beschlossen.\n",
      "Der Band Alma Mater Antisemitica – Akademisches Milieu, Juden und Antisemitismus an den Universitäten Europas zwischen 1918 und 1939 fasst in 15 Beiträgen auf 328 Seiten die Ergebnisse eines Workshops\n",
      "des Wiener Wiesenthal Institut für Holocaust-Studien (VWI) über die Entwicklungen in Ländern wie Österreich, Rumänien, Polen, Ungarn und Jugoslawien zusammen.\n",
      "In zahlreichen Staaten Europas kamen die Rufe nach Diskriminierung von Juden aus dem akademischen Milieu, vor allem aus radikalen Studentenverbindungen und Kameradschaftsverbänden und von antisemitischen Professoren.\n",
      "Jüdischen Studierende wurden zum Sündenbock für die gesellschaftlichen Probleme der Zeit (Wirtschaftskrise, Migrationsbewegungen, hohe Arbeitslosigkeit unter Akademikern) und immer stärker isoliert.\n",
      "Die Historikerin Michaela Raggam-Blesch nimmt in ihrem Beitrag Zwischen Antifeminismus und Antisemitismus wiederum spezifisch die Situation jüdischer Frauen an der Universität Wien bis 1938 in den Blick.\n",
      "Es sollte nur die erste von vielen Regelungen sein, die Juden nicht nur aus den Universitäten, sondern schrittweise aus dem gesellschaftlichen Leben ausschlossen.\n"
     ]
    },
    {
     "name": "stderr",
     "output_type": "stream",
     "text": [
      "  4%|██▉                                                                           | 394/10273 [00:33<13:17, 12.38it/s]"
     ]
    },
    {
     "name": "stdout",
     "output_type": "stream",
     "text": [
      "Bereits am Dienstag hat der Bürgermeister der Kärntner Gemeinde Ossiach, Johann Huber (FPÖ), einen Baustopp für die Immobilie, aus der innerhalb weniger Wochen ein Erstaufnahmezentrum für Asylwerber werden soll, verhängt.\n",
      "Für Mikl-Leitner garantiert die Halle aufgrund der mobilen Elemente im Inneren – allen voran Schlafkojen und sanitäre Anlagen – eine gewisse Privatsphäre für die Flüchtlinge.\n",
      "Im ersten Halbjahr 2015 stieg der Umsatzanteil der E-Books etwa ähnlich stark wie im Vorjahreszeitraum um rund 13 Prozent, so der Börsenverein des Deutschen Buchhandels am Dienstag.\n"
     ]
    },
    {
     "name": "stderr",
     "output_type": "stream",
     "text": [
      "  4%|███                                                                           | 400/10273 [00:33<11:59, 13.73it/s]"
     ]
    },
    {
     "name": "stdout",
     "output_type": "stream",
     "text": [
      "Denver – Drei Jahre nach dem Amoklauf in einem Kino in der US-Stadt Aurora ist der Täter James Holmes wegen zwölffachen Mordes schuldig gesprochen worden.\n",
      "Holmes hatte am 20. Juli 2012 während der Premiere eines Batman-Films in Aurora im Bundesstaat Colorado mit einer Schrotflinte, einem Sturmgewehr und schließlich einer Pistole in das Kino gefeuert.\n",
      "Zuvor hatte bereits die der Opposition nahestehende, in Großbritannien ansässige Beobachtungsstelle für Menschenrechte über heftige Gefechte zwischen Regierungstruppen und Angehörigen von Al-Kaida sowie anderen Rebellen berichtet.\n",
      "Seit einigen Wochen gilt eine von den USA und Russland mit ausgehandelte Waffenruhe zwischen den Truppen des syrischen Präsidenten Bashar al-Assad und den Rebellen.\n"
     ]
    },
    {
     "name": "stderr",
     "output_type": "stream",
     "text": [
      "  4%|███                                                                           | 410/10273 [00:34<08:45, 18.77it/s]"
     ]
    },
    {
     "name": "stdout",
     "output_type": "stream",
     "text": [
      "Ein zweiter Bußgeldbescheid des Amtsgerichts Köln gegen die Bank in Höhe von 19,1 Millionen Euro wegen Beihilfe zur Steuerhinterziehung bei Geschäften in Luxemburg steht nach Angaben der Süddeutschen Zeitung kurz bevor.\n"
     ]
    },
    {
     "name": "stderr",
     "output_type": "stream",
     "text": [
      "  4%|███▏                                                                          | 412/10273 [00:34<10:15, 16.03it/s]"
     ]
    },
    {
     "name": "stdout",
     "output_type": "stream",
     "text": [
      "Im vergangenen Quartal sprang der Gewinn um 124 Prozent auf rund 1,6 Mrd. Dollar (1,5 Mrd. Euro) und der Umsatz um gut die Hälfte auf etwa 5,8 Mrd. Dollar.\n",
      "Schwechat/Wien – Der Aufsichtsrat der Flughafen Wien AG hat am Dienstag die Vorstandverträge  mit Julian Jäger und Günther Ofner vorzeitig bis September 2021 verlängert.\n"
     ]
    },
    {
     "name": "stderr",
     "output_type": "stream",
     "text": [
      "  4%|███▏                                                                          | 421/10273 [00:35<13:08, 12.50it/s]"
     ]
    },
    {
     "name": "stdout",
     "output_type": "stream",
     "text": [
      "Neben diesem individuellen Sprachverhalten soll auch der generelle Sprachwandel von Sprachgemeinschaften untersucht werden, etwa der durch den Einfluss anderer Varietäten oder auch anderer Sprachen, wie des Slawischen auf das Deutsche in Österreich.\n",
      "Mit der Bewertung von Sprache bis hin zur Diskriminierung beschäftigt sich Stephan Elspaß, Professor für Germanistische Linguistik an der Uni Salzburg und Leiter zweier Teilprojekte des SFB.\n",
      "Auch die Präsidenten von Montenegro, Albanien, dem Kosovo, Bosnien-Herzegowina, Serbien, Mazedonien, Slowenien und Österreich fanden sich bei Gastgeberin Kolinda Grabar-Kitarovic in Zagreb ein.\n"
     ]
    },
    {
     "name": "stderr",
     "output_type": "stream",
     "text": [
      "  4%|███▏                                                                          | 426/10273 [00:35<10:58, 14.96it/s]"
     ]
    },
    {
     "name": "stdout",
     "output_type": "stream",
     "text": [
      "In München und in Frankfurt am  Main sollen nach Wiener Vorbild zu den  Christopher-Street-Day-Veranstaltungen am 11. Juli und am 17. Juli an  einigen Ampeln erste gleichgeschlechtliche Pärchen aufscheinen.\n",
      "Aufgrund ihrer Lage verfügen die zu Griechenland gehörenden Inseln, darunter etwa Korfu oder Zakynthos, trotz geringer Fläche über einen relativ hohen Pflanzenreichtum.\n"
     ]
    },
    {
     "name": "stderr",
     "output_type": "stream",
     "text": [
      "  4%|███▎                                                                          | 434/10273 [00:35<10:48, 15.17it/s]"
     ]
    },
    {
     "name": "stdout",
     "output_type": "stream",
     "text": [
      "STANDARD: In Ihren Büchern Bad Science (2008) und Bad Pharma (2012) zeigen Sie Quacksalberei, aber auch schweren Missbrauch in Medizin, Wissenschaft und der Pharmaindustrie auf.\n"
     ]
    },
    {
     "name": "stderr",
     "output_type": "stream",
     "text": [
      "  4%|███▎                                                                          | 438/10273 [00:36<11:50, 13.83it/s]"
     ]
    },
    {
     "name": "stdout",
     "output_type": "stream",
     "text": [
      "Klagenfurt/Wien – Im Untreue-Prozess rund um die Kreditvergabe an die Heli kompanija sind heute  am Landesgericht Klagenfurt die beiden Ex-Hypo-Vorstände Wolfgang Kulterer und  \n",
      "Angeklagt war die Causa Heli kompanija zunächst mit zwei weiteren  Hypo-Projekten, nämlich mit dem Kunstpark Paradiso in Wien und einem  kroatischen Hotelprojekt.\n"
     ]
    },
    {
     "name": "stderr",
     "output_type": "stream",
     "text": [
      "  4%|███▎                                                                          | 443/10273 [00:36<09:58, 16.43it/s]"
     ]
    },
    {
     "name": "stdout",
     "output_type": "stream",
     "text": [
      "St. Denis/Paris – Wegen des brutalen Mordes an einer jungen Frau ist ein Mann in Frankreich zu 30 Jahren Gefängnis verurteilt worden.\n",
      "Bregenz – Vertreter der katholischen und der evangelischen Kirche in Vorarlberg haben am Dienstag die Schändungen des jüdischen Friedhofs in Hohenems und des islamischen in Altach mit Nazi-Symbolen und ausländerfeindlichen Parolen scharf verurteilt.\n",
      "Die Fernverkehrszüge zwischen Zürich, Bregenz oder Innsbruck und Salzburg, Wien oder Budapest wurden daraufhin zwischen Salzburg und Wörgl über Zell am See umgeleitet.\n",
      "Gegenüber dem Vormonat stieg vor allem die Zahl der Flüchtlinge aus den Kriegs- und Krisengebieten Syrien (1.829 Anträge, plus 78 Prozent), Afghanistan (1.473 Anträge, plus 90 Prozent) und Irak (1.099 Anträge, plus 81 Prozent) stark an.\n"
     ]
    },
    {
     "name": "stderr",
     "output_type": "stream",
     "text": [
      "  4%|███▍                                                                          | 450/10273 [00:36<08:47, 18.61it/s]"
     ]
    },
    {
     "name": "stdout",
     "output_type": "stream",
     "text": [
      "Es war übrigens auch der erste Doppelsieg für Österreich, seit eben dieses Duo am 29. Dezember 2014 zum Vierschanzen-Tournee-Auftakt in Oberstdorf in dieser Reihenfolge triumphiert hatte.\n",
      "Mit Manuel Poppinger (19.), Philipp Aschenwald (21.) und Weltcup-Debütant Thomas Hofer (23.) kamen drei weitere Österreicher in die Punkteränge.\n",
      "Cable & Wireless machte im vergangenen Jahr mehr als die Hälfte seines Umsatzes in Höhe von 1,75 Milliarden Dollar in Panama und der Karibik.\n"
     ]
    },
    {
     "name": "stderr",
     "output_type": "stream",
     "text": [
      "  4%|███▍                                                                          | 455/10273 [00:37<09:23, 17.42it/s]"
     ]
    },
    {
     "name": "stdout",
     "output_type": "stream",
     "text": [
      "Stark ist der Auftakt über Jazz und Kunst von etwa 1920 bis 1940 mit Arbeiten von Franz Kline, Henri Matisse, Ernst Ludwig Kirchner, Raoul Dufy, Kees van Dongen, Otto Dix, Jean Dubuffet, Francis Picabia und vom Wiener Carry Hauser.\n",
      "Der Mittelteil will den Bebop Dizzy Gillespies, Charlie Parkers, Thelonious Monks und dessen Spiegelung von 1945 bis in die 1960er bei Romare Bearden, Josef Albers, Pollock, Warhol, Joe Overstreet vorführen.\n",
      "Es hat ja der kanadische Künstler doch das von 1949 bis 1982 existierende, durch dort aufgenommene Alben wie Dylans Highway 61 Revisited oder Miles Davis Kind of Blue zur Legende gewordene, auch von Glenn Gould hochgeschätzte\n"
     ]
    },
    {
     "name": "stderr",
     "output_type": "stream",
     "text": [
      "  4%|███▍                                                                          | 460/10273 [00:37<10:12, 16.01it/s]"
     ]
    },
    {
     "name": "stdout",
     "output_type": "stream",
     "text": [
      "Am Askanierring, in einem schmucklosen Bau, sind eine Außenstelle des Bundesamts für Migration und Flüchtlinge (BAMF) und der Bundesagentur für Arbeit (BA) untergebracht.\n",
      "Hier seien fast zwanzig Prozent der Arbeitnehmer mit Schlüsselqualifikationen in mathematischen, naturwissenschaftlichen, technischen oder Informatikberufen über 55 Jahre alt und gingen in absehbarer Zeit in Pension.\n",
      "London – Der britische Ölkonzern BP hat angesichts niedriger Öl- und Gaspreise sowie Entschädigungszahlungen für die Ölkatastrophe im Golf von Mexiko einen Gewinneinbruch verbucht.\n",
      "Erste Analysen der im Ausland gemessenen Erschütterungen deuten westlichen und südkoreanischen Experten zufolge aber eher auf den Test einer herkömmlichen Atombombe hin als auf die Zündung einer erheblich stärkeren H-Bombe.\n"
     ]
    },
    {
     "name": "stderr",
     "output_type": "stream",
     "text": [
      "  5%|███▌                                                                          | 463/10273 [00:37<11:10, 14.63it/s]"
     ]
    },
    {
     "name": "stdout",
     "output_type": "stream",
     "text": [
      "Der prominenteste Redner, der britische Ex-Außenminister Malcolm Rifkind, sprach auch über Wladimir Putin, die Zukunft der EU – und im Standard-Interview über das bevorstehende Referendum über einen britischen EU-Austritt am 23. Juni.\n"
     ]
    },
    {
     "name": "stderr",
     "output_type": "stream",
     "text": [
      "  5%|███▌                                                                          | 465/10273 [00:38<17:27,  9.36it/s]"
     ]
    },
    {
     "name": "stdout",
     "output_type": "stream",
     "text": [
      "Windows 10 Mobile stellt nach Windows Phone 7 und Windows Phone 8 bereits den dritten Kurswechsel von Microsofts Smartphone-Bemühungen in nur wenigen Jahren dar.\n",
      "Das neue Modell wird nur in den klassischen Ausführungen Schwarz und Weiß angeboten – vielleicht auch ein Eingeständnis an die zunehmende Ausrichtung auf den Business-Bereich.\n",
      "Von den insgesamt 92 am Gerät installierten Apps aus den verschiedensten Kategorien sind neben den meisten Microsoft-Programmen lediglich zwei Apps in Continuum verfügbar – die Betaversionen von Facebook und 1Password.\n",
      "Rom – Der italienische Baulöwe Claudio Salini, Eigentümer und CEO der italienischen Baugruppe ICS Grandi Lavori Spa, ist am Sonntagabend bei einem Autounfall in Rom tödlich verunglückt.\n",
      "Die amtierende niederländische EU-Ratspräsidentschaft leitete wegen der Schwächung des Verfassungsgerichts und anderer umstrittener Gesetze bereits ein Verfahren zur Prüfung der Rechtsstaatlichkeit in Polen ein.\n"
     ]
    },
    {
     "name": "stderr",
     "output_type": "stream",
     "text": [
      "  5%|███▌                                                                          | 470/10273 [00:38<14:42, 11.11it/s]"
     ]
    },
    {
     "name": "stdout",
     "output_type": "stream",
     "text": [
      "Weder die Verfassungsreform in der Ukraine noch die nach ukrainischem Gesetz vereinbarten Wahlen in den abtrünnigen Volksrepubliken oder die Rückführung der Grenze unter Kiewer Kontrolle sind bisher vom Fleck gekommen.\n",
      "In der russischen Ostsee-Exklave Kaliningrad kamen nun in der Ortschaft Pionerski, dem ehemaligen Neukuhren, der langjährige Kreml-Chefideologe Wladislaw Surkow und die für Europa zuständige US-Staatssekretärin Victoria Nuland zu einem Treffen zusammen.\n",
      "Berlin/Wien – Die deutsche Fluggesellschaft Air Berlin, Mutter der österreichischen Airline Niki, ist auf ihrem Sanierungskurs im zweiten Quartal erneut in die roten Zahlen geflogen.\n"
     ]
    },
    {
     "name": "stderr",
     "output_type": "stream",
     "text": [
      "  5%|███▌                                                                          | 474/10273 [00:39<15:55, 10.25it/s]"
     ]
    },
    {
     "name": "stdout",
     "output_type": "stream",
     "text": [
      "Für Brasilien tat dies auf Klugs Einladung Ute Mayerhofer, Vertreterin von Nosso Jogo, einer im Vorfeld der WM geründeten Initiative für globales Fair Play.\n",
      "Angesichts der politischen Entwicklungen nach den arabischen Aufständen und der aktuellen Flüchtlingsbewegungen wäre ein erneuter Fokus auf die Kunstschaffenden der betroffenen Länder kein Fehler.\n",
      "Die kurze, prägnante Arbeit hat bereits eine ausgiebige Tour durch Europa hinter sich und ist erst jetzt in einem Studio des TQW angekommen.\n",
      "Salzburg/Stanford – Forschern der Paracelsus Medizinischen Privatuniversität (PMU) in Salzburg haben gemeinsam mit Wissenschaftern der Stanford-Universität (USA) ein neues Verfahren zur Züchtung von menschlichem Knochengewebe inklusive Knochenmark in einem Mäusekörper entwickelt.\n",
      "Dem österreichischen Forschungsteam gehören Dirk Strunk vom Institut für Klinische und Experimentelle Zelltherapie der PMU und Katharina Schallmoser von der Salzburger Universitätsklinik für Blutgruppenserologie und Transfusionsmedizin an.\n",
      "Aufbauend auf diesem in Österreich entwickelten Verfahren berichteten nun die Experten aus Salzburg und den USA – Andreas Reinisch, Ravi Majeti und weitere Mitarbeiter der Stanford Universität – in der Fachzeitschrift Nature Medicine erstmals über die neuartige Methode zur Transplantation von menschlichem Knochenmark im Tiermodell.\n"
     ]
    },
    {
     "name": "stderr",
     "output_type": "stream",
     "text": [
      "  5%|███▌                                                                          | 476/10273 [00:39<14:26, 11.30it/s]"
     ]
    },
    {
     "name": "stdout",
     "output_type": "stream",
     "text": [
      "Nach APA-Informationen gibt es Liquidationsbeschlüsse für alle drei Gesellschaften der Tiroler Lokalradio-Gruppe: Lokalradio Innsbruck GmbH (Welle 1 Innsbruck), Radio Oberland GmbH (Welle 1 Oberland), Außerferner Medien GmbH (Welle 1 Außerfern).\n"
     ]
    },
    {
     "name": "stderr",
     "output_type": "stream",
     "text": [
      "  5%|███▋                                                                          | 482/10273 [00:39<13:44, 11.88it/s]"
     ]
    },
    {
     "name": "stdout",
     "output_type": "stream",
     "text": [
      "Am 5. Juni 2012  beschloss der Wiener Gemeinderat mit den Stimmen der SPÖ und der Grünen, den  nach dem ehemaligen Bürgermeister Karl Lueger benannten Abschnitt der Ringstraße  in Universitätsring umzubenennen.\n",
      "Der Franzensring wiederum wurde nach dem Ende der Monarchie 1919 in  Ring des 12. November, des Tages der Republikgründung 1918, umgetauft.\n",
      "Auf den spektakulären Aufstieg und  ihre Glanzzeit bis zum Ersten Weltkrieg (am Franzensring) folgte in der Ersten  Republik eine erste Phase des Niedergangs.\n",
      "In den Jahren zwischen der Eröffnung des Hauptgebäudes am Ring 1884 und  dem Ersten Weltkrieg war die Alma Mater Rudolphina eine der international  führenden Hochschulen:\n",
      "Ab Beginn der  1920er-Jahre erzeugten rechte und katholische Studierende und insbesondere  Burschenschafter an der Uni Wien eine bürgerkriegsähnliche Atmosphäre für  Studierende und Lehrende, die jüdischer Herkunft und/oder politisch links  eingestellt waren.\n",
      "Insgesamt kam es nach  1934 zu einer Kürzung von einem Viertel der Professuren - einer der tiefsten  Einschnitte in den Lehrkörper der gesamten Geschichte der Uni Wien.\n"
     ]
    },
    {
     "name": "stderr",
     "output_type": "stream",
     "text": [
      "  5%|███▋                                                                          | 486/10273 [00:39<12:30, 13.04it/s]"
     ]
    },
    {
     "name": "stdout",
     "output_type": "stream",
     "text": [
      "In einer der drei Klagen machen zwei steirische Regionalstellen des Grünen Kreuzes allein für einen fünfmonatigen Zeitraum im Jahr 2012 einen Schaden von knapp 58.000 Euro geltend.\n",
      "Valencia – Jorge Lorenzo war am Samstag beim Qualifying der MotoGP für den letzten Grand Prix der Saison am Sonntag in Valencia der Schnellste und holte sich damit die Pole Position.\n"
     ]
    },
    {
     "name": "stderr",
     "output_type": "stream",
     "text": [
      "  5%|███▋                                                                          | 491/10273 [00:40<12:47, 12.74it/s]"
     ]
    },
    {
     "name": "stdout",
     "output_type": "stream",
     "text": [
      "Admira: Siebenhandl – Ebner, Schößwendter (51. Neuhold), Zwierschitz, Wessely – Lackner – Sax, Blutsch, Malicsek (66. Schicker), Bajrami – Starkl (81. Grozurek)\n",
      "Austria: Almer – De Paula, Windbichler, Sikov, Martschinko – Vukojevic, Holzhauser – Gorgon (78. Kehat), Grünwald, Kayode (86. Serbest) – Friesenbichler (71. Zulechner)\n"
     ]
    },
    {
     "name": "stderr",
     "output_type": "stream",
     "text": [
      "  5%|███▊                                                                          | 495/10273 [00:40<12:35, 12.95it/s]"
     ]
    },
    {
     "name": "stdout",
     "output_type": "stream",
     "text": [
      "Zwei Force-Feedback-Motoren sollen Gewichtsverlagerung, Bremsfading, Durchdrehen der Räder, Kurvenfahrten und Bodenbeschaffenheiten sowie Driften bei Über- oder Untersteuern und andere Einflussfaktoren spürbar machen.\n",
      "Weitere Linux-Programme –  von ssh über Apache und MySQL bis zur GCC – sollen dabei über das Debian/Ubuntu-Paketverwaltunstool apt nachinstalliert werden können.\n"
     ]
    },
    {
     "name": "stderr",
     "output_type": "stream",
     "text": [
      "  5%|███▊                                                                          | 497/10273 [00:40<13:35, 11.98it/s]"
     ]
    },
    {
     "name": "stdout",
     "output_type": "stream",
     "text": [
      "Etwa das dramatische Abschmelzen der südpolaren Eiskappe nach der permokarbonischen Vereisung, das Verschwinden der äquatorialen Regenwälder, ein erheblicher Temperaturanstieg und lange Trockenperioden sowie das größte Massenaussterbeereignis in der Erdgeschichte an der Perm-Trias-Grenze vor etwa 252 Millionen Jahren.\n",
      "Vor etwa 270 Millionen Jahren entwickelten sie mit einem Hornschnabel und kleinen Stoßzähnen sowie Veränderungen des Unterkiefers eindeutig eine effektive, funktionale Anpassungen an die Pflanzennahrung.\n",
      "Die größten Vertreter dieser Gruppe waren am Ende deutlich artenreicher als ihre nahen Verwandten, allerdings erst nach einem Massenaussterbeereignis am Ende der Trias, fast 30 Millionen Jahre nach ihrem ersten Erscheinen.\n",
      "Nach zwei Pleiten in der Liga siegten die durch das 2:1 über Villarreal gestärkten Wiener daheim gegen die Admira mit 2:0 und übernahmen von den Niederösterreichern die Tabellenführung.\n",
      "Dibon Rapid: Novota – Pavelic, Sonnleitner, Dibon, Stangl – Schwab, Grahovac – Schobesberger, S. Hofmann (79. Schaub), Huspek (57. Kainz) – Jelic (60. Prosenik)\n",
      "Admira: Siebenhandl – Ebner, Zwierschitz, Wostry, Wessely – Lackner, D. Toth – Sax (70. P. Zulj), Blutsch, Spiridinovic (46. Grozurek) –\n",
      "Zwei Monate nach der Veröffentlichung mehrerer kritischer Sicherheitslücken im für die Wiedergabe von Medien-Dateien zuständigen Stagefright-Framework des mobilen Betriebssystems Android, könnte Google eigentlich eine positive Bilanz ziehen.\n"
     ]
    },
    {
     "name": "stderr",
     "output_type": "stream",
     "text": [
      "  5%|███▊                                                                          | 505/10273 [00:41<11:39, 13.96it/s]"
     ]
    },
    {
     "name": "stdout",
     "output_type": "stream",
     "text": [
      "Zunächst aber – 1981 – sendete Mister X in der inzwischen legendären Aktion Surveillance/Überwachung Bilder einer Überwachungskamera (CC-TV) aus der U-Bahn-Station Karlsplatz ins ORF-Abendprogramm.\n",
      "Und 1982, bei der Ars Electronica, tauschten im Projekt The World in 24 Hours Künstler in aller Welt per Fax, (Bild-)Telefon und Computernetzwerk Botschaften und Kunstwerke aus.\n"
     ]
    },
    {
     "name": "stderr",
     "output_type": "stream",
     "text": [
      "  5%|███▊                                                                          | 507/10273 [00:41<14:38, 11.11it/s]"
     ]
    },
    {
     "name": "stdout",
     "output_type": "stream",
     "text": [
      "Wien – Mit einer Festnahme noch im Gerichtssaal hat am Mittwoch die Verhandlung zur Prügelattacke von sogenannten Sittenwächtern in der Wiener Millennium City geendet.\n",
      "Elektronikhersteller Sony hat im vergangenen Weihnachtsgeschäft (22. November 2015 bis 2. Jänner 2016) eigenen Angaben zufolge 5,7 Millionen PS4-Konsolen an Konsumenten verkauft.\n",
      "Damit habe der Konzern seit dem Marktstart Ende November 2013 bis heute fast 36 Millionen PlayStation 4-Systeme abgesetzt (35,9 Mio. bis zum 3.1.2016).\n",
      "Für das Jahr 2016 verspricht der Hersteller neben zahlreichen Dritthersteller-Games auch einige exklusive Werke – darunter Uncharted 4: A Thief’s End, Horizon Zero Dawn und The Last Guardian.\n"
     ]
    },
    {
     "name": "stderr",
     "output_type": "stream",
     "text": [
      "  5%|███▉                                                                          | 513/10273 [00:42<11:36, 14.01it/s]"
     ]
    },
    {
     "name": "stdout",
     "output_type": "stream",
     "text": [
      "Nach dreijähriger Bearbeitungszeit haben deutsche Ermittler im Prozess gegen die Neonazi-Gruppe Nationalsozialistischer Untergrund (NSU) dieser Tage aus den USA Daten des Youtube-Accounts der Angeklagten Beate Zschäpe erhalten.\n",
      "Laut deutschen Medien wurde von diesem Account insgesamt 784 Beiträge angesehen, fast die Hälfte davon über die  Pornoindustrie, viel Neonazi-Content wie  \n",
      "Darüber hinaus wurden die Aktien von der Liste der Swiss Top Picks, der Most Preferred Stocks-Liste sowie der European SMID Selected List genommen.\n"
     ]
    },
    {
     "name": "stderr",
     "output_type": "stream",
     "text": [
      "  5%|███▉                                                                          | 520/10273 [00:42<17:57,  9.05it/s]"
     ]
    },
    {
     "name": "stdout",
     "output_type": "stream",
     "text": [
      "Auch heuer, bei den Spielen im August in Rio de Janeiro, hofft der OKV auf eine Medaille – durch Oblinger-Peters oder die zweimalige Weltmeisterin Corinna Kuhnle.\n",
      "Vier weitere Monate später, im September, wurde die Anlage dem Bestbieter, der Firma G. Hinteregger Söhne zum Netto Preis von 4,209.145,55 vergeben.\n",
      "Das Vorhandensein von (potentiell möglicherweise für österreichische Athleten zur Verfügung stehenden) Sportstätten im Ausland nimmt bei der Bedarfsevaluierung von Sportstätten im gesamtösterreichischen Kontext keine wesentliche Rolle ein.\n",
      "Russland hatte vor rund einem Jahr als Reaktion auf die EU-Sanktionen gegen Moskau seinerseits ein umfangreiches Embargo für Lebensmittel aus der EU und anderen westlichen Staaten verhängt.\n",
      "Wien untersucht im Rahmen zweier hoch dotierter Förderpreise – eines Advanced Grant des Europäischen Forschungsrats ERC und des österreichischen Wittgenstein-Preises – Oberflächen von Festkörpern.\n"
     ]
    },
    {
     "name": "stderr",
     "output_type": "stream",
     "text": [
      "  5%|████                                                                          | 529/10273 [00:43<12:19, 13.17it/s]"
     ]
    },
    {
     "name": "stdout",
     "output_type": "stream",
     "text": [
      "In den beiden starken Jahren 2012 und 2014 war auch der Anteil der Großbetriebe (definiert nach Mitarbeiterzahl) mit 77 Prozent (2012) bzw. 73,8 Prozent (2014) am höchsten.\n",
      "Manuel Neuer, Robert Lewandowski, Thiago und Arturo Vidal, Juan Bernat und Medhi Benatia besitzen Verträge bis 2019, Jungstar Joshua Kimmich und Douglas Costa bis 2020.\n"
     ]
    },
    {
     "name": "stderr",
     "output_type": "stream",
     "text": [
      "  5%|████                                                                          | 533/10273 [00:44<15:00, 10.82it/s]"
     ]
    },
    {
     "name": "stdout",
     "output_type": "stream",
     "text": [
      "Bundespräsident Heinz Fischer besuchte am Vormittag das Lager, ebenso Bundeskanzler Werner Faymann (SPÖ), Innenministerin Johanna Mikl-Leitner und Vizekanzler Reinhold Mitterlehner (beide ÖVP).\n",
      "Es gibt demnach mehrere Möglichkeiten, etwa mehr Geld für überproportional belastete Staaten, eine Umverteilung bereits anerkannter Flüchtlinge oder eine Totalreform des Dublin-Systems.\n"
     ]
    },
    {
     "name": "stderr",
     "output_type": "stream",
     "text": [
      "  5%|████                                                                          | 537/10273 [00:44<14:55, 10.87it/s]"
     ]
    },
    {
     "name": "stdout",
     "output_type": "stream",
     "text": [
      "Vertreter aller Parlamentsparteien, Bundespräsident Heinz Fischer, Kardinal Christoph Schönborn sowie die Islamische Glaubensgemeinschaft verurteilten die Attacken auf die belgische Hauptstadt aufs Schärfste.\n",
      "In Deutschland habe sich 2014 bereits mehr als die Hälfte der Schulabgänger (52 Prozent) für ein Studium anstelle einer dualen Berufsausbildung entschieden, 1997 war es nur knapp ein Drittel (31 Prozent) gewesen.\n"
     ]
    },
    {
     "name": "stderr",
     "output_type": "stream",
     "text": [
      "  5%|████▏                                                                         | 544/10273 [00:45<17:11,  9.44it/s]"
     ]
    },
    {
     "name": "stdout",
     "output_type": "stream",
     "text": [
      "Andreas Khol, ehemaliger Nationalratspräsident und nunmehriger Chef des ÖVP-Seniorenbundes, soll nach der Absage von Niederösterreichs Landeshauptmann Erwin Pröll in die Bresche springen.\n",
      "Nach jahrelangem Einsatz unterzeichnete das neuseeländische Umweltschutzministerium mit der chinesischen Forstbehörde ein Abkommen über den Schutz von zumindest zwei Rastplätzen – das Yalu-Jiang-Naturreservat in Liaoning im Nordosten Chinas und das Watt von Bohai Bay bei Luannan in der Provinz Hebei.\n"
     ]
    },
    {
     "name": "stderr",
     "output_type": "stream",
     "text": [
      "  5%|████▏                                                                         | 546/10273 [00:45<18:23,  8.81it/s]"
     ]
    },
    {
     "name": "stdout",
     "output_type": "stream",
     "text": [
      "Mit den in Wiener Neustadt ab Juli 2014 vorgenommenen Änderungen an den Thrush-Agrarflugzeugen sollen neben Überwachungsausrüstung eine Panzerung, kugelsicheres Glas und weitere Schutzvorrichtungen installiert worden sein.\n",
      "Die im Vorjahr überraschend niedrigen Zuschüsse des Staates zu den Pensionen (10,17 Milliarden, 228 Millionen weniger als 2014) relativiert der Budgetdienst des Parlaments.\n"
     ]
    },
    {
     "name": "stderr",
     "output_type": "stream",
     "text": [
      "  5%|████▏                                                                         | 552/10273 [00:45<15:08, 10.70it/s]"
     ]
    },
    {
     "name": "stdout",
     "output_type": "stream",
     "text": [
      "Neben dem Innenverteidiger-Duo stehen derzeit auch Marko Arnautovic (Stoke City) und Andreas Weimann (Aston Villa) in der englischen Topliga unter Vertrag.\n",
      "Olympiasieger Matthias Mayer, Georg Streitberger, Max Franz, Markus Dürager, Thomas Mayrpeter – sie alle verpassten einen mehr oder weniger großen Teil der Saison.\n"
     ]
    },
    {
     "name": "stderr",
     "output_type": "stream",
     "text": [
      "  5%|████▏                                                                         | 556/10273 [00:46<16:49,  9.62it/s]"
     ]
    },
    {
     "name": "stdout",
     "output_type": "stream",
     "text": [
      "So konnte die neonazistische NPD in Deutschland laut Baldauf vor einigen Jahren mit der Forderung nach einer Todesstrafe für Kinderschänder vier Millionen Unterstützer gewinnen.\n"
     ]
    },
    {
     "name": "stderr",
     "output_type": "stream",
     "text": [
      "  5%|████▏                                                                         | 558/10273 [00:46<17:01,  9.51it/s]"
     ]
    },
    {
     "name": "stdout",
     "output_type": "stream",
     "text": [
      "Zu den unrühmlichen Klassikern des Etiketts Staatsfeind zählt die Beliebtheit bei autoritären Regimen und die oft mörderische Zuschreibung an politische Gegner und missliebige Personen.\n",
      "Irgendwann ab den Leiden des jungen Werther, den Alben Depeche Modes, Nirvanas und Radioheads, dem Gesumse von Kärntner Suhrkamp-Autoren oder dem einzig möglichen, nämlich das Leid der Welt als Monstranz vor sich hertragenden Gesichtsausdruck Robert Pattisons in der Beileidsaga wurde die ganze Angelegenheit von unsereinem übernommen.\n",
      "Privilegierter und trotz aller Bemühungen in Richtung sozialwirtschaftlicher Volatilität relativ spitzenmäßig abgesicherter weißer männlicher Mittelstand der Ersten Welt legitimiert für sich selbst das Leiden.\n",
      "Tatsächlich erweisen sich die über die Welt und ihre Gesamtsituation erbosten essayistischen Ausrutscher zwischen all der unerbittlichen, mit sich selbst gnadenlos ins Gericht gehenden Zerknirschungsliteratur als die wahren Pageturner in Karl Ove Knausgårds Werk.\n"
     ]
    },
    {
     "name": "stderr",
     "output_type": "stream",
     "text": [
      "  5%|████▎                                                                         | 560/10273 [00:46<17:05,  9.48it/s]"
     ]
    },
    {
     "name": "stdout",
     "output_type": "stream",
     "text": [
      "Dabei handelte es sich um Botschaften wie: Freedom, love, Umschwulung auf Krankenschein oder Ehe für alle statt Ampeln für alle – eine Anspielung auf die Wiener Ampelpärchen.\n"
     ]
    },
    {
     "name": "stderr",
     "output_type": "stream",
     "text": [
      "  5%|████▎                                                                         | 563/10273 [00:47<13:37, 11.88it/s]\n"
     ]
    },
    {
     "ename": "KeyboardInterrupt",
     "evalue": "",
     "output_type": "error",
     "traceback": [
      "\u001b[1;31m---------------------------------------------------------------------------\u001b[0m",
      "\u001b[1;31mKeyboardInterrupt\u001b[0m                         Traceback (most recent call last)",
      "Input \u001b[1;32mIn [6]\u001b[0m, in \u001b[0;36m<module>\u001b[1;34m\u001b[0m\n\u001b[0;32m      3\u001b[0m \u001b[38;5;28mprint\u001b[39m(\u001b[38;5;124mf\u001b[39m\u001b[38;5;124m'\u001b[39m\u001b[38;5;124mAnalyzing \u001b[39m\u001b[38;5;132;01m{\u001b[39;00mdataset\u001b[38;5;132;01m}\u001b[39;00m\u001b[38;5;124m...\u001b[39m\u001b[38;5;124m'\u001b[39m)\n\u001b[0;32m      4\u001b[0m \u001b[38;5;66;03m#if dataset in ['10K-GNAD']:\u001b[39;00m\n\u001b[0;32m      5\u001b[0m \u001b[38;5;66;03m#    continue\u001b[39;00m\n\u001b[1;32m----> 6\u001b[0m \u001b[43mprint_edgecase_sentences\u001b[49m\u001b[43m(\u001b[49m\u001b[43mfiles\u001b[49m\u001b[43m[\u001b[49m\u001b[43mdataset\u001b[49m\u001b[43m]\u001b[49m\u001b[43m,\u001b[49m\u001b[43m \u001b[49m\u001b[43mSimpleSentenceFilter\u001b[49m\u001b[43m(\u001b[49m\u001b[43mlanguage\u001b[49m\u001b[38;5;241;43m=\u001b[39;49m\u001b[43mget_ds_language\u001b[49m\u001b[43m(\u001b[49m\u001b[43mdataset\u001b[49m\u001b[43m)\u001b[49m\u001b[43m)\u001b[49m\u001b[43m)\u001b[49m\n",
      "Input \u001b[1;32mIn [5]\u001b[0m, in \u001b[0;36mprint_edgecase_sentences\u001b[1;34m(paths, s_filter)\u001b[0m\n\u001b[0;32m     13\u001b[0m texts \u001b[38;5;241m=\u001b[39m pd\u001b[38;5;241m.\u001b[39mread_csv(paths[\u001b[38;5;241m0\u001b[39m])\u001b[38;5;241m.\u001b[39mtext\u001b[38;5;241m.\u001b[39mappend(pd\u001b[38;5;241m.\u001b[39mread_csv(paths[\u001b[38;5;241m1\u001b[39m])\u001b[38;5;241m.\u001b[39mtext)\n\u001b[0;32m     14\u001b[0m \u001b[38;5;28;01mfor\u001b[39;00m txt \u001b[38;5;129;01min\u001b[39;00m tqdm(texts):\n\u001b[1;32m---> 15\u001b[0m     simple_s, all_s \u001b[38;5;241m=\u001b[39m \u001b[43ms_filter\u001b[49m\u001b[38;5;241;43m.\u001b[39;49m\u001b[43mget_simple_sentences\u001b[49m\u001b[43m(\u001b[49m\u001b[43mtxt\u001b[49m\u001b[43m)\u001b[49m\n\u001b[0;32m     16\u001b[0m     nsimple_s \u001b[38;5;241m=\u001b[39m [s \u001b[38;5;28;01mfor\u001b[39;00m s \u001b[38;5;129;01min\u001b[39;00m all_s \u001b[38;5;28;01mif\u001b[39;00m s \u001b[38;5;129;01mnot\u001b[39;00m \u001b[38;5;129;01min\u001b[39;00m simple_s]\n\u001b[0;32m     17\u001b[0m     \u001b[38;5;28;01mif\u001b[39;00m show_simple:\n",
      "File \u001b[1;32mg:\\tu\\master_thesis\\simp\\zimp\\readability\\winnetka.py:118\u001b[0m, in \u001b[0;36mSimpleSentenceFilter.get_simple_sentences\u001b[1;34m(self, text)\u001b[0m\n\u001b[0;32m    117\u001b[0m \u001b[38;5;28;01mdef\u001b[39;00m \u001b[38;5;21mget_simple_sentences\u001b[39m(\u001b[38;5;28mself\u001b[39m, text):\n\u001b[1;32m--> 118\u001b[0m     sentences \u001b[38;5;241m=\u001b[39m \u001b[38;5;28mlist\u001b[39m(\u001b[38;5;28;43mself\u001b[39;49m\u001b[38;5;241;43m.\u001b[39;49m\u001b[43mbase_model\u001b[49m\u001b[43m(\u001b[49m\u001b[43mtext\u001b[49m\u001b[43m)\u001b[49m\u001b[38;5;241m.\u001b[39msents)\n\u001b[0;32m    119\u001b[0m     simple_sentences \u001b[38;5;241m=\u001b[39m [s \u001b[38;5;28;01mfor\u001b[39;00m s \u001b[38;5;129;01min\u001b[39;00m sentences \u001b[38;5;28;01mif\u001b[39;00m \u001b[38;5;28mself\u001b[39m\u001b[38;5;241m.\u001b[39mis_simple_sentence(s)]\n\u001b[0;32m    120\u001b[0m     \u001b[38;5;28;01mreturn\u001b[39;00m simple_sentences, sentences\n",
      "File \u001b[1;32mE:\\Python\\miniconda3\\envs\\zimp\\lib\\site-packages\\spacy\\language.py:1014\u001b[0m, in \u001b[0;36mLanguage.__call__\u001b[1;34m(self, text, disable, component_cfg)\u001b[0m\n\u001b[0;32m   1012\u001b[0m     error_handler \u001b[38;5;241m=\u001b[39m proc\u001b[38;5;241m.\u001b[39mget_error_handler()\n\u001b[0;32m   1013\u001b[0m \u001b[38;5;28;01mtry\u001b[39;00m:\n\u001b[1;32m-> 1014\u001b[0m     doc \u001b[38;5;241m=\u001b[39m \u001b[43mproc\u001b[49m\u001b[43m(\u001b[49m\u001b[43mdoc\u001b[49m\u001b[43m,\u001b[49m\u001b[43m \u001b[49m\u001b[38;5;241;43m*\u001b[39;49m\u001b[38;5;241;43m*\u001b[39;49m\u001b[43mcomponent_cfg\u001b[49m\u001b[38;5;241;43m.\u001b[39;49m\u001b[43mget\u001b[49m\u001b[43m(\u001b[49m\u001b[43mname\u001b[49m\u001b[43m,\u001b[49m\u001b[43m \u001b[49m\u001b[43m{\u001b[49m\u001b[43m}\u001b[49m\u001b[43m)\u001b[49m\u001b[43m)\u001b[49m  \u001b[38;5;66;03m# type: ignore[call-arg]\u001b[39;00m\n\u001b[0;32m   1015\u001b[0m \u001b[38;5;28;01mexcept\u001b[39;00m \u001b[38;5;167;01mKeyError\u001b[39;00m \u001b[38;5;28;01mas\u001b[39;00m e:\n\u001b[0;32m   1016\u001b[0m     \u001b[38;5;66;03m# This typically happens if a component is not initialized\u001b[39;00m\n\u001b[0;32m   1017\u001b[0m     \u001b[38;5;28;01mraise\u001b[39;00m \u001b[38;5;167;01mValueError\u001b[39;00m(Errors\u001b[38;5;241m.\u001b[39mE109\u001b[38;5;241m.\u001b[39mformat(name\u001b[38;5;241m=\u001b[39mname)) \u001b[38;5;28;01mfrom\u001b[39;00m \u001b[38;5;21;01me\u001b[39;00m\n",
      "\u001b[1;31mKeyboardInterrupt\u001b[0m: "
     ]
    }
   ],
   "source": [
    "dfs = []\n",
    "for dataset in files.keys():\n",
    "    print(f'Analyzing {dataset}...')\n",
    "    #if dataset in ['10K-GNAD']:\n",
    "    #    continue\n",
    "    print_edgecase_sentences(files[dataset], SimpleSentenceFilter(language=get_ds_language(dataset)))"
   ]
  },
  {
   "cell_type": "code",
   "execution_count": null,
   "id": "8e434506-550d-4d2a-b592-19afba5d5365",
   "metadata": {},
   "outputs": [],
   "source": []
  }
 ],
 "metadata": {
  "kernelspec": {
   "display_name": "Python 3 (ipykernel)",
   "language": "python",
   "name": "python3"
  },
  "language_info": {
   "codemirror_mode": {
    "name": "ipython",
    "version": 3
   },
   "file_extension": ".py",
   "mimetype": "text/x-python",
   "name": "python",
   "nbconvert_exporter": "python",
   "pygments_lexer": "ipython3",
   "version": "3.8.12"
  }
 },
 "nbformat": 4,
 "nbformat_minor": 5
}
