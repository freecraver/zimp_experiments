{
 "cells": [
  {
   "cell_type": "code",
   "execution_count": 1,
   "id": "1e246d2d-7efd-4962-b090-a0ae5b979f7e",
   "metadata": {},
   "outputs": [
    {
     "name": "stderr",
     "output_type": "stream",
     "text": [
      "[nltk_data] Downloading package wordnet to\n",
      "[nltk_data]     C:\\Users\\Martin\\AppData\\Roaming\\nltk_data...\n",
      "[nltk_data]   Package wordnet is already up-to-date!\n",
      "[nltk_data] Downloading package punkt to\n",
      "[nltk_data]     C:\\Users\\Martin\\AppData\\Roaming\\nltk_data...\n",
      "[nltk_data]   Package punkt is already up-to-date!\n",
      "[nltk_data] Downloading package perluniprops to\n",
      "[nltk_data]     C:\\Users\\Martin\\AppData\\Roaming\\nltk_data...\n",
      "[nltk_data]   Package perluniprops is already up-to-date!\n"
     ]
    }
   ],
   "source": [
    "import pandas as pd\n",
    "import numpy as np\n",
    "import matplotlib.pyplot as plt\n",
    "import os\n",
    "from zimp.readability.winnetka import PrepositionFrequencyScore, PosMethod\n",
    "from glob import glob\n",
    "\n",
    "plt.style.use('seaborn-whitegrid')"
   ]
  },
  {
   "cell_type": "code",
   "execution_count": 2,
   "id": "859a8cdf-923a-4220-825d-18fe3e2ee18a",
   "metadata": {},
   "outputs": [],
   "source": [
    "source_dir = '../../zimp_orchestrator/orch/resources'\n",
    "files = {}\n",
    "for ds_path in glob(source_dir + '/*'):\n",
    "    if not os.path.isdir(ds_path):\n",
    "        continue\n",
    "    ds_name = os.path.basename(ds_path)\n",
    "    files[ds_name] = [os.path.join(ds_path, 'train.csv'), os.path.join(ds_path, 'test.csv')]"
   ]
  },
  {
   "cell_type": "code",
   "execution_count": 3,
   "id": "bd075181-2875-4b01-8e33-1fd256cea811",
   "metadata": {},
   "outputs": [],
   "source": [
    "def get_scores(paths, r_metric, track_name):\n",
    "    texts = pd.read_csv(paths[0]).text.append(pd.read_csv(paths[1]).text)\n",
    "    s = pd.Series(r_metric.get_scores(texts), name=track_name)\n",
    "    return s\n",
    "\n",
    "def get_ds_language(track):\n",
    "    if track in ['10K-GNAD', 'GERMEVAL-2018', 'GERMEVAL-2020']:\n",
    "        return 'german'\n",
    "    return 'english'"
   ]
  },
  {
   "cell_type": "code",
   "execution_count": 52,
   "id": "b31d0613-abcb-44bd-a8f7-92b05748f0e2",
   "metadata": {},
   "outputs": [
    {
     "name": "stdout",
     "output_type": "stream",
     "text": [
      "Analyzing 10K-GNAD...\n"
     ]
    },
    {
     "data": {
      "application/vnd.jupyter.widget-view+json": {
       "model_id": "7c073808502a480bbdb0adb6e75bd7bb",
       "version_major": 2,
       "version_minor": 0
      },
      "text/plain": [
       "Downloading https://raw.githubusercontent.com/stanfordnlp/stanza-resources/main/resources_1.4.0.json:   0%|   …"
      ]
     },
     "metadata": {},
     "output_type": "display_data"
    },
    {
     "name": "stderr",
     "output_type": "stream",
     "text": [
      "2022-06-26 19:58:32 INFO: Downloading default packages for language: de (German)...\n",
      "2022-06-26 19:58:35 INFO: File exists: C:\\Users\\Martin\\stanza_resources\\de\\default.zip\n",
      "2022-06-26 19:58:40 INFO: Finished downloading models and saved to C:\\Users\\Martin\\stanza_resources.\n"
     ]
    },
    {
     "data": {
      "application/vnd.jupyter.widget-view+json": {
       "model_id": "05efde0f687042029b154ab2ed4be7c8",
       "version_major": 2,
       "version_minor": 0
      },
      "text/plain": [
       "Downloading https://raw.githubusercontent.com/stanfordnlp/stanza-resources/main/resources_1.4.0.json:   0%|   …"
      ]
     },
     "metadata": {},
     "output_type": "display_data"
    },
    {
     "name": "stderr",
     "output_type": "stream",
     "text": [
      "2022-06-26 19:58:40 WARNING: Language de package default expects mwt, which has been added\n",
      "2022-06-26 19:58:41 INFO: Loading these models for language: de (German):\n",
      "=======================\n",
      "| Processor | Package |\n",
      "-----------------------\n",
      "| tokenize  | gsd     |\n",
      "| mwt       | gsd     |\n",
      "| pos       | gsd     |\n",
      "=======================\n",
      "\n",
      "2022-06-26 19:58:41 INFO: Use device: cpu\n",
      "2022-06-26 19:58:41 INFO: Loading: tokenize\n",
      "2022-06-26 19:58:41 INFO: Loading: mwt\n",
      "2022-06-26 19:58:41 INFO: Loading: pos\n",
      "2022-06-26 19:58:41 INFO: Done loading processors!\n",
      "\n",
      "KeyboardInterrupt\n",
      "\n"
     ]
    }
   ],
   "source": [
    "dfs = []\n",
    "for dataset in files.keys():\n",
    "    print(f'Analyzing {dataset}...')\n",
    "    path = f'pf_score/{dataset}_spacy.csv'\n",
    "    if os.path.exists(path):\n",
    "        s = pd.read_csv(path)[dataset+'_spacy']\n",
    "    else:\n",
    "        s = get_scores(files[dataset], PrepositionFrequencyScore(language=get_ds_language(dataset), pos_method=PosMethod.SPACY), f'{dataset}_spacy')\n",
    "        s.to_csv(path, index=False)\n",
    "    dfs.append(s)\n",
    "    \n",
    "    path = f'pf_score/{dataset}_stanza.csv'\n",
    "    if os.path.exists(path):\n",
    "        s = pd.read_csv(path)[dataset+'_stanza']\n",
    "    else:\n",
    "        s = get_scores(files[dataset], PrepositionFrequencyScore(language=get_ds_language(dataset), pos_method=PosMethod.STANZA), f'{dataset}_stanza')\n",
    "        s.to_csv(path, index=False)\n",
    "    dfs.append(s)\n",
    "\n",
    "df = pd.concat(dfs, axis=1)\n",
    "df_rel = df/df.sum(axis=0)\n",
    "df_rel"
   ]
  },
  {
   "cell_type": "code",
   "execution_count": 5,
   "id": "a65bc106-a1f3-4656-b903-2e49b87dc043",
   "metadata": {},
   "outputs": [
    {
     "data": {
      "text/plain": [
       "Index(['TREC-6_spacy', 'TREC-6_stanza'], dtype='object')"
      ]
     },
     "execution_count": 5,
     "metadata": {},
     "output_type": "execute_result"
    }
   ],
   "source": [
    "df.columns"
   ]
  },
  {
   "cell_type": "code",
   "execution_count": 51,
   "id": "e6a4c99f-c6ec-4ae2-bcae-b10a1d40ca24",
   "metadata": {},
   "outputs": [
    {
     "data": {
      "text/plain": [
       "<AxesSubplot:xlabel='TREC-6_spacy', ylabel='TREC-6_stanza'>"
      ]
     },
     "execution_count": 51,
     "metadata": {},
     "output_type": "execute_result"
    },
    {
     "data": {
      "image/png": "[encoded data removed]",
      "text/plain": [
       "<Figure size 432x288 with 1 Axes>"
      ]
     },
     "metadata": {},
     "output_type": "display_data"
    }
   ],
   "source": [
    "df.plot(kind='scatter', x='TREC-6_spacy', y='TREC-6_stanza')"
   ]
  },
  {
   "cell_type": "code",
   "execution_count": 7,
   "id": "f21eeff9-11eb-4261-ae71-6a4b15a654ee",
   "metadata": {},
   "outputs": [
    {
     "data": {
      "text/plain": [
       "0.974554534016028"
      ]
     },
     "execution_count": 7,
     "metadata": {},
     "output_type": "execute_result"
    }
   ],
   "source": [
    "df['TREC-6_spacy'].corr(df['TREC-6_stanza'])"
   ]
  },
  {
   "cell_type": "code",
   "execution_count": 21,
   "id": "761a7c7c-8209-47b6-91a1-2c618deddf62",
   "metadata": {},
   "outputs": [
    {
     "data": {
      "text/plain": [
       "1089   -166.666667\n",
       "100    -166.666667\n",
       "4912   -142.857143\n",
       "3171   -142.857143\n",
       "4856   -125.000000\n",
       "           ...    \n",
       "4082    142.857143\n",
       "4854    142.857143\n",
       "2997    142.857143\n",
       "2237    142.857143\n",
       "3848    181.818182\n",
       "Length: 5000, dtype: float64"
      ]
     },
     "execution_count": 21,
     "metadata": {},
     "output_type": "execute_result"
    }
   ],
   "source": [
    "idxs = (df['TREC-6_spacy'] - df['TREC-6_stanza']).sort_values()\n",
    "idxs[idxs.index < 5000]"
   ]
  },
  {
   "cell_type": "code",
   "execution_count": 10,
   "id": "279449ed-8feb-4e9b-af42-9cdeaa758710",
   "metadata": {},
   "outputs": [],
   "source": [
    "txts = pd.read_csv(files['TREC-6'][0]).text"
   ]
  },
  {
   "cell_type": "code",
   "execution_count": 29,
   "id": "d987002d-4f03-4e22-a6f8-dd0cf166e69e",
   "metadata": {},
   "outputs": [
    {
     "data": {
      "text/plain": [
       "'What river is Pocahontas buried along ?'"
      ]
     },
     "execution_count": 29,
     "metadata": {},
     "output_type": "execute_result"
    }
   ],
   "source": [
    "txts.loc[2237]"
   ]
  },
  {
   "cell_type": "markdown",
   "id": "8b37d55e-7a39-4327-82d6-39c529d5cbe9",
   "metadata": {},
   "source": [
    "### English qualitative analysis"
   ]
  },
  {
   "cell_type": "code",
   "execution_count": 9,
   "id": "c262c0c9-1e34-4584-94a8-91a858c741cd",
   "metadata": {},
   "outputs": [
    {
     "data": {
      "application/vnd.jupyter.widget-view+json": {
       "model_id": "f74850c173834cb58e927d82eab1982c",
       "version_major": 2,
       "version_minor": 0
      },
      "text/plain": [
       "Downloading https://raw.githubusercontent.com/stanfordnlp/stanza-resources/main/resources_1.4.0.json:   0%|   …"
      ]
     },
     "metadata": {},
     "output_type": "display_data"
    },
    {
     "name": "stderr",
     "output_type": "stream",
     "text": [
      "2022-06-26 18:28:25 INFO: Downloading default packages for language: en (English)...\n",
      "2022-06-26 18:28:26 INFO: File exists: C:\\Users\\Martin\\stanza_resources\\en\\default.zip\n",
      "2022-06-26 18:28:31 INFO: Finished downloading models and saved to C:\\Users\\Martin\\stanza_resources.\n"
     ]
    },
    {
     "data": {
      "application/vnd.jupyter.widget-view+json": {
       "model_id": "99f2c66bc17743328089c961798acbcf",
       "version_major": 2,
       "version_minor": 0
      },
      "text/plain": [
       "Downloading https://raw.githubusercontent.com/stanfordnlp/stanza-resources/main/resources_1.4.0.json:   0%|   …"
      ]
     },
     "metadata": {},
     "output_type": "display_data"
    },
    {
     "name": "stderr",
     "output_type": "stream",
     "text": [
      "2022-06-26 18:28:31 INFO: Loading these models for language: en (English):\n",
      "========================\n",
      "| Processor | Package  |\n",
      "------------------------\n",
      "| tokenize  | combined |\n",
      "| pos       | combined |\n",
      "========================\n",
      "\n",
      "2022-06-26 18:28:31 INFO: Use device: cpu\n",
      "2022-06-26 18:28:31 INFO: Loading: tokenize\n",
      "2022-06-26 18:28:31 INFO: Loading: pos\n",
      "2022-06-26 18:28:31 INFO: Done loading processors!\n"
     ]
    }
   ],
   "source": [
    "spacy_model = PrepositionFrequencyScore(language='english', pos_method=PosMethod.SPACY).prep_extractor.base_model\n",
    "stanza_model = PrepositionFrequencyScore(language='english', pos_method=PosMethod.STANZA).prep_extractor.base_model\n",
    "\n",
    "def qual_analysis(txt):\n",
    "    sp_toks = spacy_model(txt)\n",
    "    st_toks = [w for s in stanza_model(txt).sentences for w in s.words]\n",
    "    print('SPACY:', [t.text + '--' + t.pos_ for t in sp_toks])\n",
    "    print('STANZA:', [t.text + '--' + t.upos for t in st_toks])"
   ]
  },
  {
   "cell_type": "code",
   "execution_count": 33,
   "id": "4436d094-bc1f-41e9-9cc3-20049149fa91",
   "metadata": {},
   "outputs": [
    {
     "name": "stdout",
     "output_type": "stream",
     "text": [
      "SPACY: ['What--DET', 'generation--NOUN', 'am--AUX', 'I--PRON', 'in--ADV', '?--PUNCT']\n",
      "STANZA: ['What--DET', 'generation--NOUN', 'am--AUX', 'I--PRON', 'in--ADP', '?--PUNCT']\n"
     ]
    }
   ],
   "source": [
    "qual_analysis('What generation am I in ?')\n",
    "# stanza right"
   ]
  },
  {
   "cell_type": "code",
   "execution_count": 14,
   "id": "23898fee-9cd0-43ff-b0c9-4634fdd2f9f7",
   "metadata": {},
   "outputs": [
    {
     "name": "stdout",
     "output_type": "stream",
     "text": [
      "SPACY: ['Who--PRON', 'invented--VERB', 'Make--PROPN', '---PUNCT', 'up--NOUN', '?--PUNCT']\n",
      "STANZA: ['Who--PRON', 'invented--VERB', 'Make--VERB', '---PUNCT', 'up--ADP', '?--PUNCT']\n"
     ]
    }
   ],
   "source": [
    "qual_analysis('Who invented Make-up ?')\n",
    "# spacy right"
   ]
  },
  {
   "cell_type": "code",
   "execution_count": 35,
   "id": "570dc515-82d9-4358-ba4f-e5ab2eb3399d",
   "metadata": {},
   "outputs": [
    {
     "name": "stdout",
     "output_type": "stream",
     "text": [
      "SPACY: ['Who--PRON', 'loved--VERB', 'Flash--PROPN', 'Gordon--PROPN', 'besides--SCONJ', 'Dale--PROPN', '?--PUNCT']\n",
      "STANZA: ['Who--PRON', 'loved--VERB', 'Flash--PROPN', 'Gordon--PROPN', 'besides--ADP', 'Dale--PROPN', '?--PUNCT']\n"
     ]
    }
   ],
   "source": [
    "qual_analysis('Who loved Flash Gordon besides Dale?')\n",
    "# stanza right?"
   ]
  },
  {
   "cell_type": "code",
   "execution_count": 36,
   "id": "bfbef54e-4d24-4139-beb3-c026529dcf75",
   "metadata": {},
   "outputs": [
    {
     "name": "stdout",
     "output_type": "stream",
     "text": [
      "SPACY: ['What--PRON', 'happens--VERB', 'to--PART', 'used--VERB', 'motor--NOUN', 'oil--NOUN', '?--PUNCT']\n",
      "STANZA: ['What--PRON', 'happens--VERB', 'to--ADP', 'used--VERB', 'motor--NOUN', 'oil--NOUN', '?--PUNCT']\n"
     ]
    }
   ],
   "source": [
    "qual_analysis('What happens to used motor oil?')\n",
    "# spacy right? "
   ]
  },
  {
   "cell_type": "code",
   "execution_count": 39,
   "id": "ecdd503b-ecd3-4039-a4d7-35dcf59b2dc1",
   "metadata": {},
   "outputs": [
    {
     "name": "stdout",
     "output_type": "stream",
     "text": [
      "SPACY: ['Why--SCONJ', 'do--AUX', 'airliners--VERB', 'crash--VERB', 'vs.--ADP', 'gliding--VERB', 'down--ADV', '?--PUNCT']\n",
      "STANZA: ['Why--ADV', 'do--AUX', 'airliners--NOUN', 'crash--VERB', 'vs.--ADP', 'gliding--VERB', 'down--ADP', '?--PUNCT']\n"
     ]
    }
   ],
   "source": [
    "qual_analysis('Why do airliners crash vs. gliding down ?')\n",
    "# stanza right"
   ]
  },
  {
   "cell_type": "code",
   "execution_count": 41,
   "id": "03727a45-0f26-4f4f-89cc-760463e7843e",
   "metadata": {},
   "outputs": [
    {
     "name": "stdout",
     "output_type": "stream",
     "text": [
      "SPACY: ['What--PRON', 'is--AUX', 'a--DET', 'fear--NOUN', 'of--ADP', 'sinning--VERB', '?--PUNCT']\n",
      "STANZA: ['What--PRON', 'is--AUX', 'a--DET', 'fear--NOUN', 'of--SCONJ', 'sinning--VERB', '?--PUNCT']\n"
     ]
    }
   ],
   "source": [
    "qual_analysis('What is a fear of sinning?')"
   ]
  },
  {
   "cell_type": "code",
   "execution_count": 42,
   "id": "2e02d180-57c4-4876-b098-cd6dca038daf",
   "metadata": {},
   "outputs": [
    {
     "name": "stdout",
     "output_type": "stream",
     "text": [
      "SPACY: ['What--PRON', 'can--AUX', 'be--AUX', 'done--VERB', 'about--ADP', 'snoring--VERB', '?--PUNCT']\n",
      "STANZA: ['What--PRON', 'can--AUX', 'be--AUX', 'done--VERB', 'about--SCONJ', 'snoring--VERB', '?--PUNCT']\n"
     ]
    }
   ],
   "source": [
    "qual_analysis('What can be done about snoring?')"
   ]
  },
  {
   "cell_type": "code",
   "execution_count": 43,
   "id": "029836bb-3502-490e-a928-38ce2306b359",
   "metadata": {},
   "outputs": [
    {
     "name": "stdout",
     "output_type": "stream",
     "text": [
      "SPACY: ['What--DET', 'river--NOUN', 'is--AUX', 'Pocahontas--PROPN', 'buried--VERB', 'along--ADP', '?--PUNCT']\n",
      "STANZA: ['What--DET', 'river--NOUN', 'is--AUX', 'Pocahontas--PROPN', 'buried--VERB', 'along--ADV', '?--PUNCT']\n"
     ]
    }
   ],
   "source": [
    "qual_analysis('What river is Pocahontas buried along?')"
   ]
  },
  {
   "cell_type": "markdown",
   "id": "772c2aa4-81f3-4652-9b76-242e8337455d",
   "metadata": {},
   "source": [
    "### German qualitative analysis "
   ]
  },
  {
   "cell_type": "code",
   "execution_count": 45,
   "id": "a63e5904-c829-4cfd-8669-5ad40c10dc95",
   "metadata": {},
   "outputs": [
    {
     "data": {
      "application/vnd.jupyter.widget-view+json": {
       "model_id": "936d308349b749bbbd21cdda96e5d488",
       "version_major": 2,
       "version_minor": 0
      },
      "text/plain": [
       "Downloading https://raw.githubusercontent.com/stanfordnlp/stanza-resources/main/resources_1.4.0.json:   0%|   …"
      ]
     },
     "metadata": {},
     "output_type": "display_data"
    },
    {
     "name": "stderr",
     "output_type": "stream",
     "text": [
      "2022-06-26 19:40:50 INFO: Downloading default packages for language: de (German)...\n",
      "2022-06-26 19:40:53 INFO: File exists: C:\\Users\\Martin\\stanza_resources\\de\\default.zip\n",
      "2022-06-26 19:40:58 INFO: Finished downloading models and saved to C:\\Users\\Martin\\stanza_resources.\n"
     ]
    },
    {
     "data": {
      "application/vnd.jupyter.widget-view+json": {
       "model_id": "ebd0ee4544bd4bea99168b55ac527997",
       "version_major": 2,
       "version_minor": 0
      },
      "text/plain": [
       "Downloading https://raw.githubusercontent.com/stanfordnlp/stanza-resources/main/resources_1.4.0.json:   0%|   …"
      ]
     },
     "metadata": {},
     "output_type": "display_data"
    },
    {
     "name": "stderr",
     "output_type": "stream",
     "text": [
      "2022-06-26 19:40:59 WARNING: Language de package default expects mwt, which has been added\n",
      "2022-06-26 19:40:59 INFO: Loading these models for language: de (German):\n",
      "=======================\n",
      "| Processor | Package |\n",
      "-----------------------\n",
      "| tokenize  | gsd     |\n",
      "| mwt       | gsd     |\n",
      "| pos       | gsd     |\n",
      "=======================\n",
      "\n",
      "2022-06-26 19:40:59 INFO: Use device: cpu\n",
      "2022-06-26 19:40:59 INFO: Loading: tokenize\n",
      "2022-06-26 19:40:59 INFO: Loading: mwt\n",
      "2022-06-26 19:40:59 INFO: Loading: pos\n",
      "2022-06-26 19:40:59 INFO: Done loading processors!\n"
     ]
    }
   ],
   "source": [
    "spacy_model = PrepositionFrequencyScore(language='german', pos_method=PosMethod.SPACY).prep_extractor.base_model\n",
    "stanza_model = PrepositionFrequencyScore(language='german', pos_method=PosMethod.STANZA).prep_extractor.base_model\n",
    "\n",
    "def qual_analysis(txt):\n",
    "    sp_toks = spacy_model(txt)\n",
    "    st_toks = [w for s in stanza_model(txt).sentences for w in s.words]\n",
    "    print('SPACY:', [t.text + '--' + t.pos_ for t in sp_toks])\n",
    "    print('STANZA:', [t.text + '--' + t.upos for t in st_toks])"
   ]
  },
  {
   "cell_type": "code",
   "execution_count": 27,
   "id": "2d47cc85-5e9f-4f52-b7f0-fa8e4cdd8e00",
   "metadata": {},
   "outputs": [
    {
     "name": "stdout",
     "output_type": "stream",
     "text": [
      "SPACY: ['@SKoerzell--PROPN', 'Gratuliere--NOUN', 'ihm--PRON', 'herzlich--ADV', 'von--ADP', 'mit--ADV', '!--PUNCT']\n",
      "STANZA: ['@SKoerzell--PROPN', 'Gratuliere--VERB', 'ihm--PRON', 'herzlich--ADJ', 'von--ADP', 'mit--ADP', '!--PUNCT']\n"
     ]
    }
   ],
   "source": [
    "qual_analysis('@SKoerzell Gratuliere ihm herzlich von mit!')\n",
    "# stanza misclassifies 'mit' as adv"
   ]
  },
  {
   "cell_type": "code",
   "execution_count": 28,
   "id": "28dfa551-bbb0-4354-a00e-f5144bfe3341",
   "metadata": {},
   "outputs": [
    {
     "name": "stdout",
     "output_type": "stream",
     "text": [
      "SPACY: ['@Dagobert95--NOUN', 'Das--DET', 'Badnerlied--NOUN', 'ist--AUX', 'am--PART', 'besten--ADV', '!--PUNCT']\n",
      "STANZA: ['@Dagobert95--NUM', 'Das--DET', 'Badnerlied--NOUN', 'ist--AUX', 'an--ADP', 'dem--DET', 'besten--ADJ', '!--PUNCT']\n"
     ]
    }
   ],
   "source": [
    "qual_analysis('@Dagobert95 Das Badnerlied ist am besten!')\n",
    "# stanza misclassifies 'am besten'"
   ]
  },
  {
   "cell_type": "code",
   "execution_count": 46,
   "id": "565a9204-e9ef-42d8-8396-19739e504627",
   "metadata": {},
   "outputs": [
    {
     "name": "stdout",
     "output_type": "stream",
     "text": [
      "SPACY: ['US-Experte--NOUN', 'sagt--VERB', 'Deutschlands--PROPN', 'Untergang--NOUN', 'voraus--ADP']\n",
      "STANZA: ['US--PROPN', '---PUNCT', 'Experte--NOUN', 'sagt--VERB', 'Deutschlands--PROPN', 'Untergang--NOUN', 'voraus--ADV']\n"
     ]
    }
   ],
   "source": [
    "qual_analysis('US-Experte sagt Deutschlands Untergang voraus')\n",
    "# stanza correctly classifies 'voraus' as adverb"
   ]
  },
  {
   "cell_type": "code",
   "execution_count": 30,
   "id": "98aa6d27-dd78-4d4d-8a55-27e263dbfe50",
   "metadata": {},
   "outputs": [
    {
     "name": "stdout",
     "output_type": "stream",
     "text": [
      "SPACY: ['Doitsche--NOUN', 'kauft--VERB', 'nicht--PART', 'bai--ADP', 'Türken--NOUN']\n",
      "STANZA: ['Doitsche--NOUN', 'kauft--VERB', 'nicht--PART', 'bai--ADJ', 'Türken--NOUN']\n"
     ]
    }
   ],
   "source": [
    "qual_analysis('Doitsche kauft nicht bai Türken')\n",
    "# spacy correctly classifies as ADP"
   ]
  },
  {
   "cell_type": "code",
   "execution_count": 47,
   "id": "645a0a8e-165c-4062-97fc-b2c5562a7cc1",
   "metadata": {},
   "outputs": [
    {
     "name": "stdout",
     "output_type": "stream",
     "text": [
      "SPACY: ['Antisemitismus--NOUN', ',--PUNCT', 'der--PRON', 'sich--PRON', 'auf--ADP', 'auf--ADP', 'Israel--PROPN', 'bezieht--VERB', 'ist--AUX', 'nach--ADV', 'wie--CCONJ', 'vor--ADP', 'Antisemitismus--NOUN']\n",
      "STANZA: ['Antisemitismus--NOUN', ',--PUNCT', 'der--PRON', 'sich--PRON', 'auf--ADP', 'auf--ADP', 'Israel--PROPN', 'bezieht--VERB', 'ist--AUX', 'nach--ADP', 'wie--ADP', 'vor--ADP', 'Antisemitismus--NOUN']\n"
     ]
    }
   ],
   "source": [
    "qual_analysis('@lizvlx @msulzbacher Weshalb? Antisemitismus, der sich auf auf Israel bezieht ist nach wie vor Antisemitismus')\n",
    "# both wron?? adverb?"
   ]
  },
  {
   "cell_type": "code",
   "execution_count": 49,
   "id": "9c1b3e20-e2d9-4e5f-95cd-604ed2e7728f",
   "metadata": {},
   "outputs": [
    {
     "name": "stdout",
     "output_type": "stream",
     "text": [
      "SPACY: ['Wohl--ADV', 'zu--PART', 'viel--DET', 'Weihwasser--NOUN', 'gesoffen--VERB', '.--PUNCT']\n",
      "STANZA: ['Wohl--ADV', 'zu--ADP', 'viel--PRON', 'Weihwasser--NOUN', 'gesoffen--VERB', '.--PUNCT']\n"
     ]
    }
   ],
   "source": [
    "qual_analysis('Wohl zu viel Weihwasser gesoffen.')\n",
    "# spacy feels right?"
   ]
  },
  {
   "cell_type": "code",
   "execution_count": 50,
   "id": "d6c9592a-df65-420c-9d8c-fe84f4870902",
   "metadata": {},
   "outputs": [
    {
     "name": "stdout",
     "output_type": "stream",
     "text": [
      "SPACY: ['@BILD--NOUN', 'Gut--NOUN', 'gemacht--VERB', 'Mr--ADP', 'Präsident--NOUN', '👍--NOUN', '👍--NOUN']\n",
      "STANZA: ['@BILD--PROPN', 'Gut--PROPN', 'gemacht--VERB', 'Mr--PROPN', 'Präsident--NOUN', '👍👍--PUNCT']\n"
     ]
    }
   ],
   "source": [
    "qual_analysis('@BILD Gut gemacht Mr Präsident 👍👍')\n",
    "# spacy is wrong"
   ]
  },
  {
   "cell_type": "code",
   "execution_count": 52,
   "id": "8cbdff11-9adb-4337-847a-b1987f451e67",
   "metadata": {},
   "outputs": [
    {
     "name": "stdout",
     "output_type": "stream",
     "text": [
      "SPACY: ['@drumheadberlin--PROPN', '@MatthiasLE45--PROPN', '@China_Welt_News--PROPN', 'Ich--PRON', 'bin--AUX', '60--NUM', 'u.--ADP', 'solche--DET', 'Typen--NOUN', 'sind--AUX', 'f.--ADP', 'mich--PRON', 'das--DET', 'ALLERLETZTE--PROPN', ',--PUNCT', 'leider--ADV', 'aber--ADV', 'typisch--ADV', 'f.--ADP', 'unsere--DET', 'Medien--NOUN']\n",
      "STANZA: ['@drumheadberlin--ADJ', '@--X', 'MatthiasLE45--PROPN', '@China--PROPN', '_Welt--PROPN', '_News--PROPN', 'Ich--PRON', 'bin--AUX', '60--NUM', 'u--NOUN', '.--PUNCT', 'solche--PRON', 'Typen--NOUN', 'sind--AUX', 'f.--VERB', 'mich--PRON', 'das--DET', 'ALLERLETZTE--NOUN', ',--PUNCT', 'leider--ADV', 'aber--CCONJ', 'typisch--ADV', 'f.--ADV', 'unsere--DET', 'Medien--NOUN']\n"
     ]
    }
   ],
   "source": [
    "qual_analysis('@drumheadberlin @MatthiasLE45 @China_Welt_News Ich bin 60 u. solche Typen sind f. mich das ALLERLETZTE, leider aber typisch f. unsere Medien')\n",
    "# spacy correct with f. but wrong with u."
   ]
  },
  {
   "cell_type": "code",
   "execution_count": 54,
   "id": "408025c5-53e8-41c0-8248-4e7c0bd76588",
   "metadata": {},
   "outputs": [
    {
     "name": "stdout",
     "output_type": "stream",
     "text": [
      "SPACY: ['@66Freedom66--ADP', 'Stoppt--PROPN', 'denn--ADV', 'keiner--PRON', 'diese--DET', 'Dummbacke--NOUN', '!--PUNCT']\n",
      "STANZA: ['@66Freedom66--NUM', 'Stoppt--VERB', 'denn--ADV', 'keiner--PRON', 'diese--PRON', 'Dummbacke--NOUN', '!--PUNCT']\n"
     ]
    }
   ],
   "source": [
    "qual_analysis('@66Freedom66 Stoppt denn keiner diese Dummbacke!')\n",
    "# spacy wrong"
   ]
  }
 ],
 "metadata": {
  "kernelspec": {
   "display_name": "Python 3 (ipykernel)",
   "language": "python",
   "name": "python3"
  },
  "language_info": {
   "codemirror_mode": {
    "name": "ipython",
    "version": 3
   },
   "file_extension": ".py",
   "mimetype": "text/x-python",
   "name": "python",
   "nbconvert_exporter": "python",
   "pygments_lexer": "ipython3",
   "version": "3.8.12"
  }
 },
 "nbformat": 4,
 "nbformat_minor": 5
}
