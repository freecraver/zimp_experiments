{
 "cells": [
  {
   "cell_type": "code",
   "execution_count": 1,
   "id": "1e246d2d-7efd-4962-b090-a0ae5b979f7e",
   "metadata": {},
   "outputs": [
    {
     "name": "stderr",
     "output_type": "stream",
     "text": [
      "[nltk_data] Downloading package wordnet to\n",
      "[nltk_data]     C:\\Users\\Martin\\AppData\\Roaming\\nltk_data...\n",
      "[nltk_data]   Package wordnet is already up-to-date!\n",
      "[nltk_data] Downloading package punkt to\n",
      "[nltk_data]     C:\\Users\\Martin\\AppData\\Roaming\\nltk_data...\n",
      "[nltk_data]   Package punkt is already up-to-date!\n",
      "[nltk_data] Downloading package perluniprops to\n",
      "[nltk_data]     C:\\Users\\Martin\\AppData\\Roaming\\nltk_data...\n",
      "[nltk_data]   Package perluniprops is already up-to-date!\n"
     ]
    }
   ],
   "source": [
    "import pandas as pd\n",
    "import numpy as np\n",
    "import matplotlib.pyplot as plt\n",
    "import os\n",
    "from tqdm import tqdm\n",
    "from zimp.readability.winnetka import PrepositionFrequencyScore, PosMethod\n",
    "from glob import glob\n",
    "\n",
    "plt.style.use('seaborn-whitegrid')"
   ]
  },
  {
   "cell_type": "code",
   "execution_count": 2,
   "id": "859a8cdf-923a-4220-825d-18fe3e2ee18a",
   "metadata": {},
   "outputs": [],
   "source": [
    "source_dir = '../../zimp_orchestrator/orch/resources'\n",
    "files = {}\n",
    "for ds_path in glob(source_dir + '/*'):\n",
    "    if not os.path.isdir(ds_path):\n",
    "        continue\n",
    "    ds_name = os.path.basename(ds_path)\n",
    "    files[ds_name] = [os.path.join(ds_path, 'train.csv'), os.path.join(ds_path, 'test.csv')]"
   ]
  },
  {
   "cell_type": "code",
   "execution_count": 3,
   "id": "bd075181-2875-4b01-8e33-1fd256cea811",
   "metadata": {},
   "outputs": [],
   "source": [
    "def get_scores(paths, r_metric, track_name):\n",
    "    texts = pd.read_csv(paths[0]).text.append(pd.read_csv(paths[1]).text)\n",
    "    scores = []\n",
    "    for txt in tqdm(texts):\n",
    "        scores.append(r_metric.get_score(txt))\n",
    "    s = pd.Series(scores, name=track_name)\n",
    "    return s\n",
    "\n",
    "def get_ds_language(track):\n",
    "    if track in ['10K-GNAD', 'GERMEVAL-2018', 'GERMEVAL-2020']:\n",
    "        return 'german'\n",
    "    return 'english'"
   ]
  },
  {
   "cell_type": "code",
   "execution_count": 4,
   "id": "b31d0613-abcb-44bd-a8f7-92b05748f0e2",
   "metadata": {},
   "outputs": [
    {
     "name": "stdout",
     "output_type": "stream",
     "text": [
      "Analyzing 10K-GNAD...\n",
      "Analyzing DBP-14...\n",
      "Analyzing GERMEVAL-2018...\n",
      "Analyzing GERMEVAL-2020...\n",
      "Analyzing TREC-6...\n",
      "Analyzing YELP-5...\n"
     ]
    },
    {
     "data": {
      "text/html": [
       "<div>\n",
       "<style scoped>\n",
       "    .dataframe tbody tr th:only-of-type {\n",
       "        vertical-align: middle;\n",
       "    }\n",
       "\n",
       "    .dataframe tbody tr th {\n",
       "        vertical-align: top;\n",
       "    }\n",
       "\n",
       "    .dataframe thead th {\n",
       "        text-align: right;\n",
       "    }\n",
       "</style>\n",
       "<table border=\"1\" class=\"dataframe\">\n",
       "  <thead>\n",
       "    <tr style=\"text-align: right;\">\n",
       "      <th></th>\n",
       "      <th>10K-GNAD_spacy</th>\n",
       "      <th>10K-GNAD_stanza</th>\n",
       "      <th>DBP-14_spacy</th>\n",
       "      <th>DBP-14_stanza</th>\n",
       "      <th>GERMEVAL-2018_spacy</th>\n",
       "      <th>GERMEVAL-2018_stanza</th>\n",
       "      <th>GERMEVAL-2020_spacy</th>\n",
       "      <th>GERMEVAL-2020_stanza</th>\n",
       "      <th>TREC-6_spacy</th>\n",
       "      <th>TREC-6_stanza</th>\n",
       "      <th>YELP-5_spacy</th>\n",
       "      <th>YELP-5_stanza</th>\n",
       "    </tr>\n",
       "  </thead>\n",
       "  <tbody>\n",
       "    <tr>\n",
       "      <th>0</th>\n",
       "      <td>0.000134</td>\n",
       "      <td>0.000119</td>\n",
       "      <td>0.000002</td>\n",
       "      <td>0.000002</td>\n",
       "      <td>0.000190</td>\n",
       "      <td>0.000195</td>\n",
       "      <td>0.000006</td>\n",
       "      <td>0.000012</td>\n",
       "      <td>0.000000</td>\n",
       "      <td>0.000226</td>\n",
       "      <td>1.867726e-06</td>\n",
       "      <td>1.429595e-06</td>\n",
       "    </tr>\n",
       "    <tr>\n",
       "      <th>1</th>\n",
       "      <td>0.000081</td>\n",
       "      <td>0.000082</td>\n",
       "      <td>0.000002</td>\n",
       "      <td>0.000002</td>\n",
       "      <td>0.000000</td>\n",
       "      <td>0.000000</td>\n",
       "      <td>0.000000</td>\n",
       "      <td>0.000000</td>\n",
       "      <td>0.000000</td>\n",
       "      <td>0.000000</td>\n",
       "      <td>1.534204e-06</td>\n",
       "      <td>1.464529e-06</td>\n",
       "    </tr>\n",
       "    <tr>\n",
       "      <th>2</th>\n",
       "      <td>0.000086</td>\n",
       "      <td>0.000085</td>\n",
       "      <td>0.000002</td>\n",
       "      <td>0.000002</td>\n",
       "      <td>0.000142</td>\n",
       "      <td>0.000160</td>\n",
       "      <td>0.000000</td>\n",
       "      <td>0.000000</td>\n",
       "      <td>0.000187</td>\n",
       "      <td>0.000188</td>\n",
       "      <td>2.350379e-06</td>\n",
       "      <td>2.344602e-06</td>\n",
       "    </tr>\n",
       "    <tr>\n",
       "      <th>3</th>\n",
       "      <td>0.000133</td>\n",
       "      <td>0.000128</td>\n",
       "      <td>0.000002</td>\n",
       "      <td>0.000002</td>\n",
       "      <td>0.000074</td>\n",
       "      <td>0.000073</td>\n",
       "      <td>0.000005</td>\n",
       "      <td>0.000005</td>\n",
       "      <td>0.000346</td>\n",
       "      <td>0.000347</td>\n",
       "      <td>1.683295e-06</td>\n",
       "      <td>1.366893e-06</td>\n",
       "    </tr>\n",
       "    <tr>\n",
       "      <th>4</th>\n",
       "      <td>0.000099</td>\n",
       "      <td>0.000097</td>\n",
       "      <td>0.000001</td>\n",
       "      <td>0.000001</td>\n",
       "      <td>0.000180</td>\n",
       "      <td>0.000195</td>\n",
       "      <td>0.000005</td>\n",
       "      <td>0.000005</td>\n",
       "      <td>0.000281</td>\n",
       "      <td>0.000282</td>\n",
       "      <td>1.565394e-06</td>\n",
       "      <td>1.415085e-06</td>\n",
       "    </tr>\n",
       "    <tr>\n",
       "      <th>...</th>\n",
       "      <td>...</td>\n",
       "      <td>...</td>\n",
       "      <td>...</td>\n",
       "      <td>...</td>\n",
       "      <td>...</td>\n",
       "      <td>...</td>\n",
       "      <td>...</td>\n",
       "      <td>...</td>\n",
       "      <td>...</td>\n",
       "      <td>...</td>\n",
       "      <td>...</td>\n",
       "      <td>...</td>\n",
       "    </tr>\n",
       "    <tr>\n",
       "      <th>699995</th>\n",
       "      <td>NaN</td>\n",
       "      <td>NaN</td>\n",
       "      <td>NaN</td>\n",
       "      <td>NaN</td>\n",
       "      <td>NaN</td>\n",
       "      <td>NaN</td>\n",
       "      <td>NaN</td>\n",
       "      <td>NaN</td>\n",
       "      <td>NaN</td>\n",
       "      <td>NaN</td>\n",
       "      <td>1.795515e-06</td>\n",
       "      <td>1.688864e-06</td>\n",
       "    </tr>\n",
       "    <tr>\n",
       "      <th>699996</th>\n",
       "      <td>NaN</td>\n",
       "      <td>NaN</td>\n",
       "      <td>NaN</td>\n",
       "      <td>NaN</td>\n",
       "      <td>NaN</td>\n",
       "      <td>NaN</td>\n",
       "      <td>NaN</td>\n",
       "      <td>NaN</td>\n",
       "      <td>NaN</td>\n",
       "      <td>NaN</td>\n",
       "      <td>0.000000e+00</td>\n",
       "      <td>0.000000e+00</td>\n",
       "    </tr>\n",
       "    <tr>\n",
       "      <th>699997</th>\n",
       "      <td>NaN</td>\n",
       "      <td>NaN</td>\n",
       "      <td>NaN</td>\n",
       "      <td>NaN</td>\n",
       "      <td>NaN</td>\n",
       "      <td>NaN</td>\n",
       "      <td>NaN</td>\n",
       "      <td>NaN</td>\n",
       "      <td>NaN</td>\n",
       "      <td>NaN</td>\n",
       "      <td>6.675633e-07</td>\n",
       "      <td>8.324030e-07</td>\n",
       "    </tr>\n",
       "    <tr>\n",
       "      <th>699998</th>\n",
       "      <td>NaN</td>\n",
       "      <td>NaN</td>\n",
       "      <td>NaN</td>\n",
       "      <td>NaN</td>\n",
       "      <td>NaN</td>\n",
       "      <td>NaN</td>\n",
       "      <td>NaN</td>\n",
       "      <td>NaN</td>\n",
       "      <td>NaN</td>\n",
       "      <td>NaN</td>\n",
       "      <td>1.228065e-06</td>\n",
       "      <td>1.364717e-06</td>\n",
       "    </tr>\n",
       "    <tr>\n",
       "      <th>699999</th>\n",
       "      <td>NaN</td>\n",
       "      <td>NaN</td>\n",
       "      <td>NaN</td>\n",
       "      <td>NaN</td>\n",
       "      <td>NaN</td>\n",
       "      <td>NaN</td>\n",
       "      <td>NaN</td>\n",
       "      <td>NaN</td>\n",
       "      <td>NaN</td>\n",
       "      <td>NaN</td>\n",
       "      <td>1.477660e-06</td>\n",
       "      <td>1.263453e-06</td>\n",
       "    </tr>\n",
       "  </tbody>\n",
       "</table>\n",
       "<p>700000 rows × 12 columns</p>\n",
       "</div>"
      ],
      "text/plain": [
       "        10K-GNAD_spacy  10K-GNAD_stanza  DBP-14_spacy  DBP-14_stanza  \\\n",
       "0             0.000134         0.000119      0.000002       0.000002   \n",
       "1             0.000081         0.000082      0.000002       0.000002   \n",
       "2             0.000086         0.000085      0.000002       0.000002   \n",
       "3             0.000133         0.000128      0.000002       0.000002   \n",
       "4             0.000099         0.000097      0.000001       0.000001   \n",
       "...                ...              ...           ...            ...   \n",
       "699995             NaN              NaN           NaN            NaN   \n",
       "699996             NaN              NaN           NaN            NaN   \n",
       "699997             NaN              NaN           NaN            NaN   \n",
       "699998             NaN              NaN           NaN            NaN   \n",
       "699999             NaN              NaN           NaN            NaN   \n",
       "\n",
       "        GERMEVAL-2018_spacy  GERMEVAL-2018_stanza  GERMEVAL-2020_spacy  \\\n",
       "0                  0.000190              0.000195             0.000006   \n",
       "1                  0.000000              0.000000             0.000000   \n",
       "2                  0.000142              0.000160             0.000000   \n",
       "3                  0.000074              0.000073             0.000005   \n",
       "4                  0.000180              0.000195             0.000005   \n",
       "...                     ...                   ...                  ...   \n",
       "699995                  NaN                   NaN                  NaN   \n",
       "699996                  NaN                   NaN                  NaN   \n",
       "699997                  NaN                   NaN                  NaN   \n",
       "699998                  NaN                   NaN                  NaN   \n",
       "699999                  NaN                   NaN                  NaN   \n",
       "\n",
       "        GERMEVAL-2020_stanza  TREC-6_spacy  TREC-6_stanza  YELP-5_spacy  \\\n",
       "0                   0.000012      0.000000       0.000226  1.867726e-06   \n",
       "1                   0.000000      0.000000       0.000000  1.534204e-06   \n",
       "2                   0.000000      0.000187       0.000188  2.350379e-06   \n",
       "3                   0.000005      0.000346       0.000347  1.683295e-06   \n",
       "4                   0.000005      0.000281       0.000282  1.565394e-06   \n",
       "...                      ...           ...            ...           ...   \n",
       "699995                   NaN           NaN            NaN  1.795515e-06   \n",
       "699996                   NaN           NaN            NaN  0.000000e+00   \n",
       "699997                   NaN           NaN            NaN  6.675633e-07   \n",
       "699998                   NaN           NaN            NaN  1.228065e-06   \n",
       "699999                   NaN           NaN            NaN  1.477660e-06   \n",
       "\n",
       "        YELP-5_stanza  \n",
       "0        1.429595e-06  \n",
       "1        1.464529e-06  \n",
       "2        2.344602e-06  \n",
       "3        1.366893e-06  \n",
       "4        1.415085e-06  \n",
       "...               ...  \n",
       "699995   1.688864e-06  \n",
       "699996   0.000000e+00  \n",
       "699997   8.324030e-07  \n",
       "699998   1.364717e-06  \n",
       "699999   1.263453e-06  \n",
       "\n",
       "[700000 rows x 12 columns]"
      ]
     },
     "execution_count": 4,
     "metadata": {},
     "output_type": "execute_result"
    }
   ],
   "source": [
    "dfs = []\n",
    "for dataset in files.keys():\n",
    "    print(f'Analyzing {dataset}...')\n",
    "    path = f'pf_score/{dataset}_spacy.csv'\n",
    "    if os.path.exists(path):\n",
    "        s = pd.read_csv(path)[dataset+'_spacy']\n",
    "    else:\n",
    "        s = get_scores(files[dataset], PrepositionFrequencyScore(language=get_ds_language(dataset), pos_method=PosMethod.SPACY), f'{dataset}_spacy')\n",
    "        s.to_csv(path, index=False)\n",
    "    dfs.append(s)\n",
    "    \n",
    "    path = f'pf_score/{dataset}_stanza.csv'\n",
    "    if os.path.exists(path):\n",
    "        s = pd.read_csv(path)[dataset+'_stanza']\n",
    "    else:\n",
    "        s = get_scores(files[dataset], PrepositionFrequencyScore(language=get_ds_language(dataset), pos_method=PosMethod.STANZA), f'{dataset}_stanza')\n",
    "        s.to_csv(path, index=False)\n",
    "    dfs.append(s)\n",
    "\n",
    "df = pd.concat(dfs, axis=1)\n",
    "df_rel = df/df.sum(axis=0)\n",
    "df_rel"
   ]
  },
  {
   "cell_type": "code",
   "execution_count": 5,
   "id": "e6a4c99f-c6ec-4ae2-bcae-b10a1d40ca24",
   "metadata": {},
   "outputs": [
    {
     "data": {
      "image/png": "[encoded data removed]",
      "text/plain": [
       "<Figure size 1008x432 with 6 Axes>"
      ]
     },
     "metadata": {},
     "output_type": "display_data"
    }
   ],
   "source": [
    "fig,a =  plt.subplots(2,3, figsize=(14,6))\n",
    "fig.suptitle('Adpositions detected by Stanza vs spaCy', fontsize=16)\n",
    "for i, ds in enumerate(['DBP-14', 'TREC-6', 'YELP-5', '10K-GNAD', 'GERMEVAL-2018', 'GERMEVAL-2020']):\n",
    "    df.sample(10000).plot(kind='scatter', x=f'{ds}_spacy', y=f'{ds}_stanza', ax=a[i//3, i%3], alpha=.25)\n",
    "    \n",
    "plt.savefig(f'pf_score/012_adpos_stanza_spacy.pdf')"
   ]
  },
  {
   "cell_type": "code",
   "execution_count": 6,
   "id": "0ab51ae8-d1ed-4a10-b58e-fc29676799cd",
   "metadata": {},
   "outputs": [
    {
     "name": "stdout",
     "output_type": "stream",
     "text": [
      "DBP-14 0.9743473112968889\n",
      "TREC-6 0.974554534016028\n",
      "YELP-5 0.9320513975247406\n",
      "10K-GNAD 0.9633061332574212\n",
      "GERMEVAL-2018 0.9258605948835823\n",
      "GERMEVAL-2020 0.8792540403831097\n"
     ]
    }
   ],
   "source": [
    "for ds in ['DBP-14', 'TREC-6', 'YELP-5', '10K-GNAD', 'GERMEVAL-2018', 'GERMEVAL-2020']:\n",
    "    print(ds, df[f'{ds}_spacy'].corr(df[f'{ds}_stanza']))"
   ]
  },
  {
   "cell_type": "code",
   "execution_count": 7,
   "id": "761a7c7c-8209-47b6-91a1-2c618deddf62",
   "metadata": {},
   "outputs": [
    {
     "data": {
      "text/plain": [
       "1089   -166.666667\n",
       "100    -166.666667\n",
       "4912   -142.857143\n",
       "3171   -142.857143\n",
       "4856   -125.000000\n",
       "           ...    \n",
       "4082    142.857143\n",
       "4854    142.857143\n",
       "2997    142.857143\n",
       "2237    142.857143\n",
       "3848    181.818182\n",
       "Length: 5000, dtype: float64"
      ]
     },
     "execution_count": 7,
     "metadata": {},
     "output_type": "execute_result"
    }
   ],
   "source": [
    "idxs = (df['TREC-6_spacy'] - df['TREC-6_stanza']).sort_values()\n",
    "idxs[idxs.index < 5000]"
   ]
  },
  {
   "cell_type": "code",
   "execution_count": 8,
   "id": "279449ed-8feb-4e9b-af42-9cdeaa758710",
   "metadata": {},
   "outputs": [],
   "source": [
    "txts = pd.read_csv(files['TREC-6'][0]).text"
   ]
  },
  {
   "cell_type": "code",
   "execution_count": 9,
   "id": "d987002d-4f03-4e22-a6f8-dd0cf166e69e",
   "metadata": {},
   "outputs": [
    {
     "data": {
      "text/plain": [
       "'What river is Pocahontas buried along ?'"
      ]
     },
     "execution_count": 9,
     "metadata": {},
     "output_type": "execute_result"
    }
   ],
   "source": [
    "txts.loc[2237]"
   ]
  },
  {
   "cell_type": "markdown",
   "id": "8b37d55e-7a39-4327-82d6-39c529d5cbe9",
   "metadata": {},
   "source": [
    "### English qualitative analysis"
   ]
  },
  {
   "cell_type": "code",
   "execution_count": 10,
   "id": "c262c0c9-1e34-4584-94a8-91a858c741cd",
   "metadata": {},
   "outputs": [
    {
     "data": {
      "application/vnd.jupyter.widget-view+json": {
       "model_id": "fe4e70d775314d07b51329044fde0815",
       "version_major": 2,
       "version_minor": 0
      },
      "text/plain": [
       "Downloading https://raw.githubusercontent.com/stanfordnlp/stanza-resources/main/resources_1.4.0.json:   0%|   …"
      ]
     },
     "metadata": {},
     "output_type": "display_data"
    },
    {
     "name": "stderr",
     "output_type": "stream",
     "text": [
      "2022-07-10 19:21:25 INFO: Downloading default packages for language: en (English)...\n",
      "2022-07-10 19:21:27 INFO: File exists: C:\\Users\\Martin\\stanza_resources\\en\\default.zip\n",
      "2022-07-10 19:21:32 INFO: Finished downloading models and saved to C:\\Users\\Martin\\stanza_resources.\n"
     ]
    },
    {
     "data": {
      "application/vnd.jupyter.widget-view+json": {
       "model_id": "468543f92d6d4acb941a3f83fff1f195",
       "version_major": 2,
       "version_minor": 0
      },
      "text/plain": [
       "Downloading https://raw.githubusercontent.com/stanfordnlp/stanza-resources/main/resources_1.4.0.json:   0%|   …"
      ]
     },
     "metadata": {},
     "output_type": "display_data"
    },
    {
     "name": "stderr",
     "output_type": "stream",
     "text": [
      "2022-07-10 19:21:32 INFO: Loading these models for language: en (English):\n",
      "========================\n",
      "| Processor | Package  |\n",
      "------------------------\n",
      "| tokenize  | combined |\n",
      "| pos       | combined |\n",
      "========================\n",
      "\n",
      "2022-07-10 19:21:32 INFO: Use device: cpu\n",
      "2022-07-10 19:21:32 INFO: Loading: tokenize\n",
      "2022-07-10 19:21:32 INFO: Loading: pos\n",
      "2022-07-10 19:21:33 INFO: Done loading processors!\n"
     ]
    }
   ],
   "source": [
    "spacy_model = PrepositionFrequencyScore(language='english', pos_method=PosMethod.SPACY).prep_extractor.base_model\n",
    "stanza_model = PrepositionFrequencyScore(language='english', pos_method=PosMethod.STANZA).prep_extractor.base_model\n",
    "\n",
    "def qual_analysis(txt):\n",
    "    sp_toks = spacy_model(txt)\n",
    "    st_toks = [w for s in stanza_model(txt).sentences for w in s.words]\n",
    "    print('SPACY:', [t.text + '--' + t.pos_ for t in sp_toks])\n",
    "    print('STANZA:', [t.text + '--' + t.upos for t in st_toks])"
   ]
  },
  {
   "cell_type": "code",
   "execution_count": 11,
   "id": "4436d094-bc1f-41e9-9cc3-20049149fa91",
   "metadata": {},
   "outputs": [
    {
     "name": "stdout",
     "output_type": "stream",
     "text": [
      "SPACY: ['What--DET', 'generation--NOUN', 'am--AUX', 'I--PRON', 'in--ADV', '?--PUNCT']\n",
      "STANZA: ['What--DET', 'generation--NOUN', 'am--AUX', 'I--PRON', 'in--ADP', '?--PUNCT']\n"
     ]
    }
   ],
   "source": [
    "qual_analysis('What generation am I in ?')\n",
    "# stanza right"
   ]
  },
  {
   "cell_type": "code",
   "execution_count": 12,
   "id": "23898fee-9cd0-43ff-b0c9-4634fdd2f9f7",
   "metadata": {},
   "outputs": [
    {
     "name": "stdout",
     "output_type": "stream",
     "text": [
      "SPACY: ['Who--PRON', 'invented--VERB', 'Make--PROPN', '---PUNCT', 'up--NOUN', '?--PUNCT']\n",
      "STANZA: ['Who--PRON', 'invented--VERB', 'Make--VERB', '---PUNCT', 'up--ADP', '?--PUNCT']\n"
     ]
    }
   ],
   "source": [
    "qual_analysis('Who invented Make-up ?')\n",
    "# spacy right"
   ]
  },
  {
   "cell_type": "code",
   "execution_count": 13,
   "id": "570dc515-82d9-4358-ba4f-e5ab2eb3399d",
   "metadata": {},
   "outputs": [
    {
     "name": "stdout",
     "output_type": "stream",
     "text": [
      "SPACY: ['Who--PRON', 'loved--VERB', 'Flash--PROPN', 'Gordon--PROPN', 'besides--SCONJ', 'Dale--PROPN', '?--PUNCT']\n",
      "STANZA: ['Who--PRON', 'loved--VERB', 'Flash--PROPN', 'Gordon--PROPN', 'besides--ADP', 'Dale--PROPN', '?--PUNCT']\n"
     ]
    }
   ],
   "source": [
    "qual_analysis('Who loved Flash Gordon besides Dale?')\n",
    "# stanza right?"
   ]
  },
  {
   "cell_type": "code",
   "execution_count": 14,
   "id": "bfbef54e-4d24-4139-beb3-c026529dcf75",
   "metadata": {},
   "outputs": [
    {
     "name": "stdout",
     "output_type": "stream",
     "text": [
      "SPACY: ['What--PRON', 'happens--VERB', 'to--PART', 'used--VERB', 'motor--NOUN', 'oil--NOUN', '?--PUNCT']\n",
      "STANZA: ['What--PRON', 'happens--VERB', 'to--ADP', 'used--VERB', 'motor--NOUN', 'oil--NOUN', '?--PUNCT']\n"
     ]
    }
   ],
   "source": [
    "qual_analysis('What happens to used motor oil?')\n",
    "# spacy right? "
   ]
  },
  {
   "cell_type": "code",
   "execution_count": 15,
   "id": "ecdd503b-ecd3-4039-a4d7-35dcf59b2dc1",
   "metadata": {},
   "outputs": [
    {
     "name": "stdout",
     "output_type": "stream",
     "text": [
      "SPACY: ['Why--SCONJ', 'do--AUX', 'airliners--VERB', 'crash--VERB', 'vs.--ADP', 'gliding--VERB', 'down--ADV', '?--PUNCT']\n",
      "STANZA: ['Why--ADV', 'do--AUX', 'airliners--NOUN', 'crash--VERB', 'vs.--ADP', 'gliding--VERB', 'down--ADP', '?--PUNCT']\n"
     ]
    }
   ],
   "source": [
    "qual_analysis('Why do airliners crash vs. gliding down ?')\n",
    "# stanza right"
   ]
  },
  {
   "cell_type": "code",
   "execution_count": 16,
   "id": "03727a45-0f26-4f4f-89cc-760463e7843e",
   "metadata": {},
   "outputs": [
    {
     "name": "stdout",
     "output_type": "stream",
     "text": [
      "SPACY: ['What--PRON', 'is--AUX', 'a--DET', 'fear--NOUN', 'of--ADP', 'sinning--VERB', '?--PUNCT']\n",
      "STANZA: ['What--PRON', 'is--AUX', 'a--DET', 'fear--NOUN', 'of--SCONJ', 'sinning--VERB', '?--PUNCT']\n"
     ]
    }
   ],
   "source": [
    "qual_analysis('What is a fear of sinning?')"
   ]
  },
  {
   "cell_type": "code",
   "execution_count": 17,
   "id": "2e02d180-57c4-4876-b098-cd6dca038daf",
   "metadata": {},
   "outputs": [
    {
     "name": "stdout",
     "output_type": "stream",
     "text": [
      "SPACY: ['What--PRON', 'can--AUX', 'be--AUX', 'done--VERB', 'about--ADP', 'snoring--VERB', '?--PUNCT']\n",
      "STANZA: ['What--PRON', 'can--AUX', 'be--AUX', 'done--VERB', 'about--SCONJ', 'snoring--VERB', '?--PUNCT']\n"
     ]
    }
   ],
   "source": [
    "qual_analysis('What can be done about snoring?')"
   ]
  },
  {
   "cell_type": "code",
   "execution_count": 18,
   "id": "029836bb-3502-490e-a928-38ce2306b359",
   "metadata": {},
   "outputs": [
    {
     "name": "stdout",
     "output_type": "stream",
     "text": [
      "SPACY: ['What--DET', 'river--NOUN', 'is--AUX', 'Pocahontas--PROPN', 'buried--VERB', 'along--ADP', '?--PUNCT']\n",
      "STANZA: ['What--DET', 'river--NOUN', 'is--AUX', 'Pocahontas--PROPN', 'buried--VERB', 'along--ADV', '?--PUNCT']\n"
     ]
    }
   ],
   "source": [
    "qual_analysis('What river is Pocahontas buried along?')"
   ]
  },
  {
   "cell_type": "markdown",
   "id": "772c2aa4-81f3-4652-9b76-242e8337455d",
   "metadata": {},
   "source": [
    "### German qualitative analysis "
   ]
  },
  {
   "cell_type": "code",
   "execution_count": 19,
   "id": "a63e5904-c829-4cfd-8669-5ad40c10dc95",
   "metadata": {},
   "outputs": [
    {
     "data": {
      "application/vnd.jupyter.widget-view+json": {
       "model_id": "f6e00a4309ca4d5fa15f7f7bab59df84",
       "version_major": 2,
       "version_minor": 0
      },
      "text/plain": [
       "Downloading https://raw.githubusercontent.com/stanfordnlp/stanza-resources/main/resources_1.4.0.json:   0%|   …"
      ]
     },
     "metadata": {},
     "output_type": "display_data"
    },
    {
     "name": "stderr",
     "output_type": "stream",
     "text": [
      "2022-07-10 19:21:36 INFO: Downloading default packages for language: de (German)...\n",
      "2022-07-10 19:21:39 INFO: File exists: C:\\Users\\Martin\\stanza_resources\\de\\default.zip\n",
      "2022-07-10 19:21:44 INFO: Finished downloading models and saved to C:\\Users\\Martin\\stanza_resources.\n"
     ]
    },
    {
     "data": {
      "application/vnd.jupyter.widget-view+json": {
       "model_id": "e5725f975bfa45d493d4f77d09a2d517",
       "version_major": 2,
       "version_minor": 0
      },
      "text/plain": [
       "Downloading https://raw.githubusercontent.com/stanfordnlp/stanza-resources/main/resources_1.4.0.json:   0%|   …"
      ]
     },
     "metadata": {},
     "output_type": "display_data"
    },
    {
     "name": "stderr",
     "output_type": "stream",
     "text": [
      "2022-07-10 19:21:44 WARNING: Language de package default expects mwt, which has been added\n",
      "2022-07-10 19:21:44 INFO: Loading these models for language: de (German):\n",
      "=======================\n",
      "| Processor | Package |\n",
      "-----------------------\n",
      "| tokenize  | gsd     |\n",
      "| mwt       | gsd     |\n",
      "| pos       | gsd     |\n",
      "=======================\n",
      "\n",
      "2022-07-10 19:21:44 INFO: Use device: cpu\n",
      "2022-07-10 19:21:44 INFO: Loading: tokenize\n",
      "2022-07-10 19:21:44 INFO: Loading: mwt\n",
      "2022-07-10 19:21:45 INFO: Loading: pos\n",
      "2022-07-10 19:21:45 INFO: Done loading processors!\n"
     ]
    }
   ],
   "source": [
    "spacy_model = PrepositionFrequencyScore(language='german', pos_method=PosMethod.SPACY).prep_extractor.base_model\n",
    "stanza_model = PrepositionFrequencyScore(language='german', pos_method=PosMethod.STANZA).prep_extractor.base_model\n",
    "\n",
    "def qual_analysis(txt):\n",
    "    sp_toks = spacy_model(txt)\n",
    "    st_toks = [w for s in stanza_model(txt).sentences for w in s.words]\n",
    "    print('SPACY:', [t.text + '--' + t.pos_ for t in sp_toks])\n",
    "    print('STANZA:', [t.text + '--' + t.upos for t in st_toks])"
   ]
  },
  {
   "cell_type": "code",
   "execution_count": 20,
   "id": "2d47cc85-5e9f-4f52-b7f0-fa8e4cdd8e00",
   "metadata": {},
   "outputs": [
    {
     "name": "stdout",
     "output_type": "stream",
     "text": [
      "SPACY: ['@SKoerzell--PROPN', 'Gratuliere--NOUN', 'ihm--PRON', 'herzlich--ADV', 'von--ADP', 'mit--ADV', '!--PUNCT']\n",
      "STANZA: ['@SKoerzell--PROPN', 'Gratuliere--VERB', 'ihm--PRON', 'herzlich--ADJ', 'von--ADP', 'mit--ADP', '!--PUNCT']\n"
     ]
    }
   ],
   "source": [
    "qual_analysis('@SKoerzell Gratuliere ihm herzlich von mit!')\n",
    "# stanza misclassifies 'mit' as adv"
   ]
  },
  {
   "cell_type": "code",
   "execution_count": 21,
   "id": "28dfa551-bbb0-4354-a00e-f5144bfe3341",
   "metadata": {},
   "outputs": [
    {
     "name": "stdout",
     "output_type": "stream",
     "text": [
      "SPACY: ['@Dagobert95--NOUN', 'Das--DET', 'Badnerlied--NOUN', 'ist--AUX', 'am--PART', 'besten--ADV', '!--PUNCT']\n",
      "STANZA: ['@Dagobert95--NUM', 'Das--DET', 'Badnerlied--NOUN', 'ist--AUX', 'an--ADP', 'dem--DET', 'besten--ADJ', '!--PUNCT']\n"
     ]
    }
   ],
   "source": [
    "qual_analysis('@Dagobert95 Das Badnerlied ist am besten!')\n",
    "# stanza misclassifies 'am besten'"
   ]
  },
  {
   "cell_type": "code",
   "execution_count": 22,
   "id": "565a9204-e9ef-42d8-8396-19739e504627",
   "metadata": {},
   "outputs": [
    {
     "name": "stdout",
     "output_type": "stream",
     "text": [
      "SPACY: ['US-Experte--NOUN', 'sagt--VERB', 'Deutschlands--PROPN', 'Untergang--NOUN', 'voraus--ADP']\n",
      "STANZA: ['US--PROPN', '---PUNCT', 'Experte--NOUN', 'sagt--VERB', 'Deutschlands--PROPN', 'Untergang--NOUN', 'voraus--ADV']\n"
     ]
    }
   ],
   "source": [
    "qual_analysis('US-Experte sagt Deutschlands Untergang voraus')\n",
    "# stanza correctly classifies 'voraus' as adverb"
   ]
  },
  {
   "cell_type": "code",
   "execution_count": 23,
   "id": "1a4d0583-409f-4c56-a749-41152933eff8",
   "metadata": {},
   "outputs": [
    {
     "name": "stdout",
     "output_type": "stream",
     "text": [
      "SPACY: ['Er--PRON', 'lacht--VERB', 'zu--PART', 'viel--PRON']\n",
      "STANZA: ['Er--PRON', 'lacht--VERB', 'zu--ADV', 'viel--ADV']\n"
     ]
    }
   ],
   "source": [
    "qual_analysis('Er lacht zu viel')"
   ]
  },
  {
   "cell_type": "code",
   "execution_count": 24,
   "id": "98aa6d27-dd78-4d4d-8a55-27e263dbfe50",
   "metadata": {},
   "outputs": [
    {
     "name": "stdout",
     "output_type": "stream",
     "text": [
      "SPACY: ['Doitsche--NOUN', 'kauft--VERB', 'nicht--PART', 'bai--ADP', 'Türken--NOUN']\n",
      "STANZA: ['Doitsche--NOUN', 'kauft--VERB', 'nicht--PART', 'bai--ADJ', 'Türken--NOUN']\n"
     ]
    }
   ],
   "source": [
    "qual_analysis('Doitsche kauft nicht bai Türken')\n",
    "# spacy correctly classifies as ADP"
   ]
  },
  {
   "cell_type": "code",
   "execution_count": 25,
   "id": "645a0a8e-165c-4062-97fc-b2c5562a7cc1",
   "metadata": {},
   "outputs": [
    {
     "name": "stdout",
     "output_type": "stream",
     "text": [
      "SPACY: ['@lizvlx--PROPN', '@msulzbacher--ADJ', 'Weshalb--NOUN', '?--PUNCT', 'Antisemitismus--NOUN', ',--PUNCT', 'der--PRON', 'sich--PRON', 'auf--ADP', 'auf--ADP', 'Israel--PROPN', 'bezieht--VERB', 'ist--AUX', 'nach--ADV', 'wie--CCONJ', 'vor--ADP', 'Antisemitismus--NOUN']\n",
      "STANZA: ['@lizvlx--ADJ', '@msulzbacher--ADJ', 'Weshalb--ADV', '?--PUNCT', 'Antisemitismus--NOUN', ',--PUNCT', 'der--PRON', 'sich--PRON', 'auf--ADP', 'auf--ADP', 'Israel--PROPN', 'bezieht--VERB', 'ist--AUX', 'nach--ADP', 'wie--ADP', 'vor--ADP', 'Antisemitismus--NOUN']\n"
     ]
    }
   ],
   "source": [
    "qual_analysis('@lizvlx @msulzbacher Weshalb? Antisemitismus, der sich auf auf Israel bezieht ist nach wie vor Antisemitismus')\n",
    "# both wron?? adverb?"
   ]
  },
  {
   "cell_type": "code",
   "execution_count": 26,
   "id": "9c1b3e20-e2d9-4e5f-95cd-604ed2e7728f",
   "metadata": {},
   "outputs": [
    {
     "name": "stdout",
     "output_type": "stream",
     "text": [
      "SPACY: ['Wohl--ADV', 'zu--PART', 'viel--DET', 'Weihwasser--NOUN', 'gesoffen--VERB', '.--PUNCT']\n",
      "STANZA: ['Wohl--ADV', 'zu--ADP', 'viel--PRON', 'Weihwasser--NOUN', 'gesoffen--VERB', '.--PUNCT']\n"
     ]
    }
   ],
   "source": [
    "qual_analysis('Wohl zu viel Weihwasser gesoffen.')\n",
    "# spacy feels right?"
   ]
  },
  {
   "cell_type": "code",
   "execution_count": 27,
   "id": "d6c9592a-df65-420c-9d8c-fe84f4870902",
   "metadata": {},
   "outputs": [
    {
     "name": "stdout",
     "output_type": "stream",
     "text": [
      "SPACY: ['@BILD--NOUN', 'Gut--NOUN', 'gemacht--VERB', 'Mr--ADP', 'Präsident--NOUN', '👍--NOUN', '👍--NOUN']\n",
      "STANZA: ['@BILD--PROPN', 'Gut--PROPN', 'gemacht--VERB', 'Mr--PROPN', 'Präsident--NOUN', '👍👍--PUNCT']\n"
     ]
    }
   ],
   "source": [
    "qual_analysis('@BILD Gut gemacht Mr Präsident 👍👍')\n",
    "# spacy is wrong"
   ]
  },
  {
   "cell_type": "code",
   "execution_count": 28,
   "id": "8cbdff11-9adb-4337-847a-b1987f451e67",
   "metadata": {},
   "outputs": [
    {
     "name": "stdout",
     "output_type": "stream",
     "text": [
      "SPACY: ['@drumheadberlin--PROPN', '@MatthiasLE45--PROPN', '@China_Welt_News--PROPN', 'Ich--PRON', 'bin--AUX', '60--NUM', 'u.--ADP', 'solche--DET', 'Typen--NOUN', 'sind--AUX', 'f.--ADP', 'mich--PRON', 'das--DET', 'ALLERLETZTE--PROPN', ',--PUNCT', 'leider--ADV', 'aber--ADV', 'typisch--ADV', 'f.--ADP', 'unsere--DET', 'Medien--NOUN']\n",
      "STANZA: ['@drumheadberlin--ADJ', '@--X', 'MatthiasLE45--PROPN', '@China--PROPN', '_Welt--PROPN', '_News--PROPN', 'Ich--PRON', 'bin--AUX', '60--NUM', 'u--NOUN', '.--PUNCT', 'solche--PRON', 'Typen--NOUN', 'sind--AUX', 'f.--VERB', 'mich--PRON', 'das--DET', 'ALLERLETZTE--NOUN', ',--PUNCT', 'leider--ADV', 'aber--CCONJ', 'typisch--ADV', 'f.--ADV', 'unsere--DET', 'Medien--NOUN']\n"
     ]
    }
   ],
   "source": [
    "qual_analysis('@drumheadberlin @MatthiasLE45 @China_Welt_News Ich bin 60 u. solche Typen sind f. mich das ALLERLETZTE, leider aber typisch f. unsere Medien')\n",
    "# spacy correct with f. but wrong with u."
   ]
  },
  {
   "cell_type": "code",
   "execution_count": 29,
   "id": "408025c5-53e8-41c0-8248-4e7c0bd76588",
   "metadata": {},
   "outputs": [
    {
     "name": "stdout",
     "output_type": "stream",
     "text": [
      "SPACY: ['@66Freedom66--ADP', 'Stoppt--PROPN', 'denn--ADV', 'keiner--PRON', 'diese--DET', 'Dummbacke--NOUN', '!--PUNCT']\n",
      "STANZA: ['@66Freedom66--NUM', 'Stoppt--VERB', 'denn--ADV', 'keiner--PRON', 'diese--PRON', 'Dummbacke--NOUN', '!--PUNCT']\n"
     ]
    }
   ],
   "source": [
    "qual_analysis('@66Freedom66 Stoppt denn keiner diese Dummbacke!')\n",
    "# spacy wrong"
   ]
  }
 ],
 "metadata": {
  "kernelspec": {
   "display_name": "Python 3 (ipykernel)",
   "language": "python",
   "name": "python3"
  },
  "language_info": {
   "codemirror_mode": {
    "name": "ipython",
    "version": 3
   },
   "file_extension": ".py",
   "mimetype": "text/x-python",
   "name": "python",
   "nbconvert_exporter": "python",
   "pygments_lexer": "ipython3",
   "version": "3.8.12"
  }
 },
 "nbformat": 4,
 "nbformat_minor": 5
}
