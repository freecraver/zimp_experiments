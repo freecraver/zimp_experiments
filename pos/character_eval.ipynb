{
 "cells": [
  {
   "cell_type": "code",
   "execution_count": 17,
   "id": "41fdf9e3-d93e-4069-8c18-11f8f1df1176",
   "metadata": {},
   "outputs": [
    {
     "name": "stderr",
     "output_type": "stream",
     "text": [
      "[nltk_data] Downloading package wordnet to\n",
      "[nltk_data]     C:\\Users\\Martin\\AppData\\Roaming\\nltk_data...\n",
      "[nltk_data]   Package wordnet is already up-to-date!\n",
      "[nltk_data] Downloading package punkt to\n",
      "[nltk_data]     C:\\Users\\Martin\\AppData\\Roaming\\nltk_data...\n",
      "[nltk_data]   Package punkt is already up-to-date!\n",
      "[nltk_data] Downloading package perluniprops to\n",
      "[nltk_data]     C:\\Users\\Martin\\AppData\\Roaming\\nltk_data...\n",
      "[nltk_data]   Package perluniprops is already up-to-date!\n"
     ]
    }
   ],
   "source": [
    "import pandas as pd\n",
    "import numpy as np\n",
    "import matplotlib.pyplot as plt\n",
    "import os\n",
    "from zimp.pos.statistics_analyzer import TextLengthAnalyzer\n",
    "from zimp.pos.countvectorizer_analyzer import SymbolCountVectorizerAnalyzer\n",
    "from glob import glob\n",
    "\n",
    "plt.style.use('seaborn-whitegrid')"
   ]
  },
  {
   "cell_type": "code",
   "execution_count": 2,
   "id": "f1915528-9f30-4066-b37b-3a373001a713",
   "metadata": {},
   "outputs": [],
   "source": [
    "source_dir = '../../zimp_orchestrator/orch/resources'\n",
    "files = {}\n",
    "for ds_path in glob(source_dir + '/*'):\n",
    "    if not os.path.isdir(ds_path):\n",
    "        continue\n",
    "    ds_name = os.path.basename(ds_path)\n",
    "    files[ds_name] = [os.path.join(ds_path, 'train.csv'), os.path.join(ds_path, 'test.csv')]"
   ]
  },
  {
   "cell_type": "code",
   "execution_count": 3,
   "id": "0c284120-a311-4f17-abac-f3a65573c788",
   "metadata": {},
   "outputs": [],
   "source": [
    "def get_ds_stats(paths, analyzer_builder, track_name):\n",
    "    texts = pd.read_csv(paths[0]).text.append(pd.read_csv(paths[1]).text)\n",
    "    df =  analyzer_builder(texts).extract_dataset_metric().rename(columns={'count': track_name})\n",
    "    return df"
   ]
  },
  {
   "cell_type": "code",
   "execution_count": 4,
   "id": "bab1a667-12ec-4d0a-b44e-ab5d0f1b28ee",
   "metadata": {},
   "outputs": [
    {
     "data": {
      "text/html": [
       "<div>\n",
       "<style scoped>\n",
       "    .dataframe tbody tr th:only-of-type {\n",
       "        vertical-align: middle;\n",
       "    }\n",
       "\n",
       "    .dataframe tbody tr th {\n",
       "        vertical-align: top;\n",
       "    }\n",
       "\n",
       "    .dataframe thead th {\n",
       "        text-align: right;\n",
       "    }\n",
       "</style>\n",
       "<table border=\"1\" class=\"dataframe\">\n",
       "  <thead>\n",
       "    <tr style=\"text-align: right;\">\n",
       "      <th></th>\n",
       "      <th>10K-GNAD</th>\n",
       "      <th>DBP-14</th>\n",
       "      <th>GERMEVAL-2018</th>\n",
       "      <th>GERMEVAL-2020</th>\n",
       "      <th>TREC-6</th>\n",
       "      <th>YELP-5</th>\n",
       "    </tr>\n",
       "  </thead>\n",
       "  <tbody>\n",
       "    <tr>\n",
       "      <th>1</th>\n",
       "      <td>NaN</td>\n",
       "      <td>NaN</td>\n",
       "      <td>NaN</td>\n",
       "      <td>NaN</td>\n",
       "      <td>NaN</td>\n",
       "      <td>0.000023</td>\n",
       "    </tr>\n",
       "    <tr>\n",
       "      <th>2</th>\n",
       "      <td>NaN</td>\n",
       "      <td>NaN</td>\n",
       "      <td>NaN</td>\n",
       "      <td>NaN</td>\n",
       "      <td>NaN</td>\n",
       "      <td>0.000030</td>\n",
       "    </tr>\n",
       "    <tr>\n",
       "      <th>3</th>\n",
       "      <td>NaN</td>\n",
       "      <td>NaN</td>\n",
       "      <td>NaN</td>\n",
       "      <td>NaN</td>\n",
       "      <td>NaN</td>\n",
       "      <td>0.000043</td>\n",
       "    </tr>\n",
       "    <tr>\n",
       "      <th>4</th>\n",
       "      <td>NaN</td>\n",
       "      <td>NaN</td>\n",
       "      <td>NaN</td>\n",
       "      <td>NaN</td>\n",
       "      <td>NaN</td>\n",
       "      <td>0.000047</td>\n",
       "    </tr>\n",
       "    <tr>\n",
       "      <th>5</th>\n",
       "      <td>NaN</td>\n",
       "      <td>NaN</td>\n",
       "      <td>NaN</td>\n",
       "      <td>NaN</td>\n",
       "      <td>NaN</td>\n",
       "      <td>0.000064</td>\n",
       "    </tr>\n",
       "    <tr>\n",
       "      <th>...</th>\n",
       "      <td>...</td>\n",
       "      <td>...</td>\n",
       "      <td>...</td>\n",
       "      <td>...</td>\n",
       "      <td>...</td>\n",
       "      <td>...</td>\n",
       "    </tr>\n",
       "    <tr>\n",
       "      <th>18814</th>\n",
       "      <td>0.000097</td>\n",
       "      <td>NaN</td>\n",
       "      <td>NaN</td>\n",
       "      <td>NaN</td>\n",
       "      <td>NaN</td>\n",
       "      <td>NaN</td>\n",
       "    </tr>\n",
       "    <tr>\n",
       "      <th>18847</th>\n",
       "      <td>0.000097</td>\n",
       "      <td>NaN</td>\n",
       "      <td>NaN</td>\n",
       "      <td>NaN</td>\n",
       "      <td>NaN</td>\n",
       "      <td>NaN</td>\n",
       "    </tr>\n",
       "    <tr>\n",
       "      <th>19011</th>\n",
       "      <td>0.000097</td>\n",
       "      <td>NaN</td>\n",
       "      <td>NaN</td>\n",
       "      <td>NaN</td>\n",
       "      <td>NaN</td>\n",
       "      <td>NaN</td>\n",
       "    </tr>\n",
       "    <tr>\n",
       "      <th>22120</th>\n",
       "      <td>0.000097</td>\n",
       "      <td>NaN</td>\n",
       "      <td>NaN</td>\n",
       "      <td>NaN</td>\n",
       "      <td>NaN</td>\n",
       "      <td>NaN</td>\n",
       "    </tr>\n",
       "    <tr>\n",
       "      <th>32600</th>\n",
       "      <td>0.000097</td>\n",
       "      <td>NaN</td>\n",
       "      <td>NaN</td>\n",
       "      <td>NaN</td>\n",
       "      <td>NaN</td>\n",
       "      <td>NaN</td>\n",
       "    </tr>\n",
       "  </tbody>\n",
       "</table>\n",
       "<p>5726 rows × 6 columns</p>\n",
       "</div>"
      ],
      "text/plain": [
       "       10K-GNAD  DBP-14  GERMEVAL-2018  GERMEVAL-2020  TREC-6    YELP-5\n",
       "1           NaN     NaN            NaN            NaN     NaN  0.000023\n",
       "2           NaN     NaN            NaN            NaN     NaN  0.000030\n",
       "3           NaN     NaN            NaN            NaN     NaN  0.000043\n",
       "4           NaN     NaN            NaN            NaN     NaN  0.000047\n",
       "5           NaN     NaN            NaN            NaN     NaN  0.000064\n",
       "...         ...     ...            ...            ...     ...       ...\n",
       "18814  0.000097     NaN            NaN            NaN     NaN       NaN\n",
       "18847  0.000097     NaN            NaN            NaN     NaN       NaN\n",
       "19011  0.000097     NaN            NaN            NaN     NaN       NaN\n",
       "22120  0.000097     NaN            NaN            NaN     NaN       NaN\n",
       "32600  0.000097     NaN            NaN            NaN     NaN       NaN\n",
       "\n",
       "[5726 rows x 6 columns]"
      ]
     },
     "execution_count": 4,
     "metadata": {},
     "output_type": "execute_result"
    }
   ],
   "source": [
    "dfs = []\n",
    "for dataset in files.keys():\n",
    "    dfs.append(get_ds_stats(files[dataset], lambda texts: TextLengthAnalyzer(texts), dataset))\n",
    "df = pd.concat(dfs, axis=1)\n",
    "df_rel = df/df.sum(axis=0)\n",
    "df_rel"
   ]
  },
  {
   "cell_type": "code",
   "execution_count": 15,
   "id": "8bb6fe16-5942-4e1e-a9b9-ad70b3ebd2e9",
   "metadata": {},
   "outputs": [],
   "source": [
    "def cropped_line_plot(df, allow_crop=True):\n",
    "    \n",
    "    if allow_crop and len(df.index) > 250:\n",
    "        # remove all values above 95-percentile\n",
    "        cs = df.sum(axis=1).cumsum()\n",
    "        max_idx = min(max(cs[cs< cs.iloc[-1]*.95].idxmax(),200), df.index.max())\n",
    "        df_plot = df[df.index <= max_idx]\n",
    "        # resample to 100 equal-size intervals\n",
    "        df_plot = df_plot.groupby(pd.cut(df_plot.index, 100))\\\n",
    "            .agg(lambda s: s.sum())\\\n",
    "            .rename(lambda idx: max(idx.left, 0))\\\n",
    "            .fillna(0)\n",
    "    else:\n",
    "        df_plot = df\n",
    "    \n",
    "    df_plot.plot(\n",
    "        figsize=(10,5),\n",
    "        color=plt.cm.jet(np.linspace(0, 1, len(df_plot.columns))),\n",
    "        alpha=.5,\n",
    "        title=f'Length of observations',\n",
    "        xlabel='Number of characters',\n",
    "        ylabel='Ratio'\n",
    "    )\n",
    "    \n",
    "    plt.savefig(f'text_statistics/005_character_count.pdf')\n",
    "    plt.show()"
   ]
  },
  {
   "cell_type": "code",
   "execution_count": 10,
   "id": "3353c62f-e349-4c48-83b7-63c3fff3fd7f",
   "metadata": {},
   "outputs": [],
   "source": [
    "def violin_plot(df):\n",
    "    \n",
    "    if len(df.index) > 250:\n",
    "        # remove all values above 98-percentile\n",
    "        cs = df.sum(axis=1).cumsum()\n",
    "        df_plot = df[cs< cs.iloc[-1]*.98]\n",
    "    else:\n",
    "        df_plot = df\n",
    "        \n",
    "    fig, axes = plt.subplots(figsize=(15,5))\n",
    "\n",
    "    v_parts = axes.violinplot(dataset = [df_plot.index.repeat(df_plot[col].fillna(0)) for col in df_plot.columns], showmedians=True)\n",
    "\n",
    "    colors=plt.cm.jet(np.linspace(0, 1, len(df.columns)))\n",
    "\n",
    "    for partname in ('cbars','cmins','cmaxes','cmedians'):\n",
    "        vp = v_parts[partname]\n",
    "        vp.set_edgecolor('#000000')\n",
    "        vp.set_linewidth(.5 if partname == 'cbars' else 1)\n",
    "        vp.set_alpha(.5 if partname == 'cbars' else 1)\n",
    "\n",
    "    # Make the violin body blue with a red border:\n",
    "    for idx, vp in enumerate(v_parts['bodies']):\n",
    "        vp.set_facecolor(colors[idx])\n",
    "        vp.set_edgecolor(colors[idx])\n",
    "        vp.set_linewidth(1)\n",
    "        vp.set_alpha(0.5)\n",
    "\n",
    "    axes.set_title(f'Text length for different datasets')\n",
    "    axes.yaxis.grid(True)\n",
    "    axes.set_xlabel('Dataset')\n",
    "    axes.set_ylabel('Count of Characters')\n",
    "    axes.set_xticks(np.arange(1, len(df_plot.columns) + 1), labels=df_plot.columns, fontsize=8)\n",
    "    \n",
    "    plt.savefig(f'text_statistics/005_violinplot_text_length.pdf')\n",
    "    plt.show()"
   ]
  },
  {
   "cell_type": "code",
   "execution_count": 13,
   "id": "19bcea20-9194-4f7a-9c42-4a6a7b3e56ab",
   "metadata": {},
   "outputs": [
    {
     "data": {
      "image/png": "[encoded data removed]",
      "text/plain": [
       "<Figure size 1080x360 with 1 Axes>"
      ]
     },
     "metadata": {},
     "output_type": "display_data"
    }
   ],
   "source": [
    "violin_plot(df)"
   ]
  },
  {
   "cell_type": "code",
   "execution_count": 16,
   "id": "6dcc7ccb-1560-4415-89c6-519ada49b5ce",
   "metadata": {},
   "outputs": [
    {
     "data": {
      "image/png": "[encoded data removed]",
      "text/plain": [
       "<Figure size 720x360 with 1 Axes>"
      ]
     },
     "metadata": {},
     "output_type": "display_data"
    }
   ],
   "source": [
    "cropped_line_plot(df_rel)"
   ]
  },
  {
   "cell_type": "markdown",
   "id": "a8815094-8071-485a-9c2b-091cc4718294",
   "metadata": {},
   "source": [
    "### Symbol Analysis"
   ]
  },
  {
   "cell_type": "code",
   "execution_count": 18,
   "id": "3f919702-b06e-4825-b2e2-9cf41cd73aed",
   "metadata": {},
   "outputs": [
    {
     "name": "stderr",
     "output_type": "stream",
     "text": [
      "E:\\Python\\miniconda3\\envs\\zimp\\lib\\site-packages\\sklearn\\utils\\deprecation.py:87: FutureWarning: Function get_feature_names is deprecated; get_feature_names is deprecated in 1.0 and will be removed in 1.2. Please use get_feature_names_out instead.\n",
      "  warnings.warn(msg, category=FutureWarning)\n"
     ]
    }
   ],
   "source": [
    "dfs = []\n",
    "for dataset in files.keys():\n",
    "    dfs.append(get_ds_stats(files[dataset], lambda texts: SymbolCountVectorizerAnalyzer(texts, remove_whitespace=False), dataset+'_all'))\n",
    "    dfs.append(get_ds_stats(files[dataset], lambda texts: SymbolCountVectorizerAnalyzer(texts, lowercase=True, only_alphabetic=True), dataset+'_alpha_lower'))\n",
    "df = pd.concat(dfs, axis=1)"
   ]
  },
  {
   "cell_type": "code",
   "execution_count": 42,
   "id": "353228cc-a7f1-493e-a90a-ed78f931068c",
   "metadata": {},
   "outputs": [],
   "source": [
    "df.to_csv('text_statistics/character_stats.csv')"
   ]
  },
  {
   "cell_type": "code",
   "execution_count": 48,
   "id": "0381113c-cb08-489d-9dc6-7e9dc5b3e8e9",
   "metadata": {},
   "outputs": [],
   "source": [
    "df_all = df.loc[:, [col for col in df.columns if col.endswith('_all')]]\n",
    "df_low = df.loc[:, [col for col in df.columns if not col.endswith('_all')]]"
   ]
  },
  {
   "cell_type": "code",
   "execution_count": 27,
   "id": "f439800b-39ec-4690-a2d7-63a48bd1fd7a",
   "metadata": {},
   "outputs": [
    {
     "data": {
      "text/plain": [
       "10K-GNAD_all          378\n",
       "DBP-14_all           7327\n",
       "GERMEVAL-2018_all     344\n",
       "GERMEVAL-2020_all     140\n",
       "TREC-6_all             81\n",
       "YELP-5_all             93\n",
       "dtype: int64"
      ]
     },
     "execution_count": 27,
     "metadata": {},
     "output_type": "execute_result"
    }
   ],
   "source": [
    "df_all.count()"
   ]
  },
  {
   "cell_type": "code",
   "execution_count": 39,
   "id": "3c2ed7ff-a95e-470e-8d1c-18a09514d773",
   "metadata": {},
   "outputs": [
    {
     "data": {
      "text/plain": [
       "1.0       0.224376\n",
       "2.0       0.338338\n",
       "3.0       0.406305\n",
       "4.0       0.458441\n",
       "5.0       0.496383\n",
       "            ...   \n",
       "291.0     0.999454\n",
       "1953.0    0.999591\n",
       "406.0     0.999727\n",
       "2007.0    0.999864\n",
       "3943.0    1.000000\n",
       "Name: DBP-14_all, Length: 692, dtype: float64"
      ]
     },
     "execution_count": 39,
     "metadata": {},
     "output_type": "execute_result"
    }
   ],
   "source": [
    "vc = df_all['DBP-14_all'].value_counts()\n",
    "vc.cumsum()/vc.sum()"
   ]
  },
  {
   "cell_type": "code",
   "execution_count": 40,
   "id": "9d91d3af-a4a3-4308-8779-5a48867f467b",
   "metadata": {},
   "outputs": [
    {
     "data": {
      "text/plain": [
       "10K-GNAD_alpha_lower          219\n",
       "DBP-14_alpha_lower           6462\n",
       "GERMEVAL-2018_alpha_lower      44\n",
       "GERMEVAL-2020_alpha_lower      48\n",
       "TREC-6_alpha_lower             27\n",
       "YELP-5_alpha_lower             26\n",
       "dtype: int64"
      ]
     },
     "execution_count": 40,
     "metadata": {},
     "output_type": "execute_result"
    }
   ],
   "source": [
    "df_low.count()"
   ]
  },
  {
   "cell_type": "code",
   "execution_count": 51,
   "id": "9839d4cc-13ff-4cff-a8a5-bd792a7eb8dc",
   "metadata": {},
   "outputs": [
    {
     "data": {
      "text/plain": [
       "e    73236275.0\n",
       "t    51570933.0\n",
       "a    50042586.0\n",
       "i    43800231.0\n",
       "n    42078798.0\n",
       "o    41700872.0\n",
       "s    38082143.0\n",
       "r    36130756.0\n",
       "h    28538822.0\n",
       "l    24646844.0\n",
       "d    23836129.0\n",
       "c    17498566.0\n",
       "u    17285403.0\n",
       "m    14371375.0\n",
       "w    12765053.0\n",
       "g    12512805.0\n",
       "f    12353628.0\n",
       "y    11404237.0\n",
       "p    11175172.0\n",
       "b    10356897.0\n",
       "v     6592062.0\n",
       "k     6128615.0\n",
       "z     1487424.0\n",
       "j     1240693.0\n",
       "x     1032663.0\n",
       "q      503317.0\n",
       "ü      333791.0\n",
       "ä      252975.0\n",
       "ö      174680.0\n",
       "ß       57571.0\n",
       "é       38900.0\n",
       "ā       37667.0\n",
       "ó       28997.0\n",
       "ا       27856.0\n",
       "ˈ       23749.0\n",
       "ł       21022.0\n",
       "á       20113.0\n",
       "а       18260.0\n",
       "ī       16096.0\n",
       "и       15939.0\n",
       "dtype: float64"
      ]
     },
     "execution_count": 51,
     "metadata": {},
     "output_type": "execute_result"
    }
   ],
   "source": [
    "df_low.sum(axis=1).sort_values(ascending=False).head(n=40)"
   ]
  },
  {
   "cell_type": "code",
   "execution_count": null,
   "id": "1ea1ae49-5eab-437c-a49e-87d5131d94b2",
   "metadata": {},
   "outputs": [],
   "source": []
  }
 ],
 "metadata": {
  "kernelspec": {
   "display_name": "Python 3 (ipykernel)",
   "language": "python",
   "name": "python3"
  },
  "language_info": {
   "codemirror_mode": {
    "name": "ipython",
    "version": 3
   },
   "file_extension": ".py",
   "mimetype": "text/x-python",
   "name": "python",
   "nbconvert_exporter": "python",
   "pygments_lexer": "ipython3",
   "version": "3.8.12"
  }
 },
 "nbformat": 4,
 "nbformat_minor": 5
}
