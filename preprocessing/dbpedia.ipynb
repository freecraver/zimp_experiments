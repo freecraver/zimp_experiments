{
 "cells": [
  {
   "cell_type": "markdown",
   "metadata": {},
   "source": [
    "# DBPedia Topic Classification Dataset\n",
    "\n",
    "Obtained from http://goo.gl/JyCnZq via [github](https://github.com/zhangxiangxiao/Crepe)\n",
    "```\n",
    "@misc{zhang2015characterlevel,\n",
    "    title={Character-level Convolutional Networks for Text Classification},\n",
    "    author={Xiang Zhang and Junbo Zhao and Yann LeCun},\n",
    "    year={2015},\n",
    "    eprint={1509.01626},\n",
    "    archivePrefix={arXiv},\n",
    "    primaryClass={cs.LG}\n",
    "}\n",
    "```"
   ]
  },
  {
   "cell_type": "code",
   "execution_count": 1,
   "metadata": {},
   "outputs": [],
   "source": [
    "import pandas as pd\n",
    "import os\n",
    "from tqdm import tqdm\n",
    "import hashlib\n",
    "\n",
    "TRAIN_DATASET_LOCATION = \"../datasets/dbpedia/train.csv\"\n",
    "TEST_DATASET_LOCATION = \"../datasets/dbpedia/test.csv\""
   ]
  },
  {
   "cell_type": "markdown",
   "metadata": {},
   "source": [
    "### Validity check"
   ]
  },
  {
   "cell_type": "code",
   "execution_count": 2,
   "metadata": {},
   "outputs": [],
   "source": [
    "VERIFY_CHECKSUM = True"
   ]
  },
  {
   "cell_type": "code",
   "execution_count": 3,
   "metadata": {},
   "outputs": [
    {
     "name": "stdout",
     "output_type": "stream",
     "text": [
      "Checksum matches\n",
      "Checksum matches\n"
     ]
    }
   ],
   "source": [
    "assert os.path.exists(TRAIN_DATASET_LOCATION)\n",
    "assert os.path.exists(TEST_DATASET_LOCATION)\n",
    "\n",
    "def verify_checksum(file, checksum):\n",
    "    with open(file, \"rb\") as f:\n",
    "        file_hash = hashlib.md5()\n",
    "        while chunk := f.read(8192):\n",
    "            file_hash.update(chunk)\n",
    "    assert checksum == file_hash.hexdigest()\n",
    "    print(\"Checksum matches\")\n",
    "    \n",
    "if VERIFY_CHECKSUM:\n",
    "    verify_checksum(TRAIN_DATASET_LOCATION, '9d6e9d329cd387303ccf24dd9a3d480a')\n",
    "    verify_checksum(TEST_DATASET_LOCATION, '7d92b1d7727fb9d891d7888d46dee63c')"
   ]
  },
  {
   "cell_type": "markdown",
   "metadata": {},
   "source": [
    "### Read data"
   ]
  },
  {
   "cell_type": "markdown",
   "metadata": {},
   "source": [
    "##### For the analysis only `text` and `stars` will be used"
   ]
  },
  {
   "cell_type": "code",
   "execution_count": 4,
   "metadata": {},
   "outputs": [
    {
     "data": {
      "text/html": [
       "<div>\n",
       "<style scoped>\n",
       "    .dataframe tbody tr th:only-of-type {\n",
       "        vertical-align: middle;\n",
       "    }\n",
       "\n",
       "    .dataframe tbody tr th {\n",
       "        vertical-align: top;\n",
       "    }\n",
       "\n",
       "    .dataframe thead th {\n",
       "        text-align: right;\n",
       "    }\n",
       "</style>\n",
       "<table border=\"1\" class=\"dataframe\">\n",
       "  <thead>\n",
       "    <tr style=\"text-align: right;\">\n",
       "      <th></th>\n",
       "      <th>target</th>\n",
       "      <th>text</th>\n",
       "    </tr>\n",
       "  </thead>\n",
       "  <tbody>\n",
       "    <tr>\n",
       "      <th>0</th>\n",
       "      <td>Company</td>\n",
       "      <td>E. D. Abbott Ltd -  Abbott of Farnham E D Abbo...</td>\n",
       "    </tr>\n",
       "    <tr>\n",
       "      <th>1</th>\n",
       "      <td>Company</td>\n",
       "      <td>Schwan-Stabilo -  Schwan-STABILO is a German m...</td>\n",
       "    </tr>\n",
       "    <tr>\n",
       "      <th>2</th>\n",
       "      <td>Company</td>\n",
       "      <td>Q-workshop -  Q-workshop is a Polish company l...</td>\n",
       "    </tr>\n",
       "    <tr>\n",
       "      <th>3</th>\n",
       "      <td>Company</td>\n",
       "      <td>Marvell Software Solutions Israel -  Marvell S...</td>\n",
       "    </tr>\n",
       "    <tr>\n",
       "      <th>4</th>\n",
       "      <td>Company</td>\n",
       "      <td>Bergan Mercy Medical Center -  Bergan Mercy Me...</td>\n",
       "    </tr>\n",
       "    <tr>\n",
       "      <th>5</th>\n",
       "      <td>Company</td>\n",
       "      <td>The Unsigned Guide -  The Unsigned Guide is an...</td>\n",
       "    </tr>\n",
       "    <tr>\n",
       "      <th>6</th>\n",
       "      <td>Company</td>\n",
       "      <td>Rest of the world -  Within sports and games p...</td>\n",
       "    </tr>\n",
       "    <tr>\n",
       "      <th>7</th>\n",
       "      <td>Company</td>\n",
       "      <td>Globoforce -  Globoforce is a multinational co...</td>\n",
       "    </tr>\n",
       "    <tr>\n",
       "      <th>8</th>\n",
       "      <td>Company</td>\n",
       "      <td>Rompetrol -  The Rompetrol Group N.V. is a Rom...</td>\n",
       "    </tr>\n",
       "    <tr>\n",
       "      <th>9</th>\n",
       "      <td>Company</td>\n",
       "      <td>Wave Accounting -  Wave is the brand name for ...</td>\n",
       "    </tr>\n",
       "  </tbody>\n",
       "</table>\n",
       "</div>"
      ],
      "text/plain": [
       "    target                                               text\n",
       "0  Company  E. D. Abbott Ltd -  Abbott of Farnham E D Abbo...\n",
       "1  Company  Schwan-Stabilo -  Schwan-STABILO is a German m...\n",
       "2  Company  Q-workshop -  Q-workshop is a Polish company l...\n",
       "3  Company  Marvell Software Solutions Israel -  Marvell S...\n",
       "4  Company  Bergan Mercy Medical Center -  Bergan Mercy Me...\n",
       "5  Company  The Unsigned Guide -  The Unsigned Guide is an...\n",
       "6  Company  Rest of the world -  Within sports and games p...\n",
       "7  Company  Globoforce -  Globoforce is a multinational co...\n",
       "8  Company  Rompetrol -  The Rompetrol Group N.V. is a Rom...\n",
       "9  Company  Wave Accounting -  Wave is the brand name for ..."
      ]
     },
     "execution_count": 4,
     "metadata": {},
     "output_type": "execute_result"
    }
   ],
   "source": [
    "def read_dbpedia(file, nrows=None):\n",
    "    labels = ['Company', 'EducationalInstitution', 'Artist', 'Athlete', 'OfficeHolder', 'MeanOfTransportation', 'Building', 'NaturalPlace', 'Village', 'Animal', 'Plant', 'Album', 'Film', 'WrittenWork']\n",
    "    df = pd.read_csv(file, nrows=nrows, header=None)\n",
    "    df.columns = ['target', 'title', 'text']\n",
    "    df.text = df.title.str.cat(df.text, sep=' - ')\n",
    "    df.target = df.target.apply(lambda cl_idx: labels[cl_idx-1])\n",
    "    df = df.drop(['title'], axis=1)\n",
    "    return df\n",
    "\n",
    "read_dbpedia(TRAIN_DATASET_LOCATION, nrows=10)"
   ]
  },
  {
   "cell_type": "code",
   "execution_count": 5,
   "metadata": {},
   "outputs": [
    {
     "data": {
      "text/plain": [
       "(560000, 2)"
      ]
     },
     "execution_count": 5,
     "metadata": {},
     "output_type": "execute_result"
    }
   ],
   "source": [
    "df_train = read_dbpedia(TRAIN_DATASET_LOCATION)\n",
    "df_train.shape"
   ]
  },
  {
   "cell_type": "code",
   "execution_count": 6,
   "metadata": {},
   "outputs": [
    {
     "data": {
      "text/html": [
       "<div>\n",
       "<style scoped>\n",
       "    .dataframe tbody tr th:only-of-type {\n",
       "        vertical-align: middle;\n",
       "    }\n",
       "\n",
       "    .dataframe tbody tr th {\n",
       "        vertical-align: top;\n",
       "    }\n",
       "\n",
       "    .dataframe thead th {\n",
       "        text-align: right;\n",
       "    }\n",
       "</style>\n",
       "<table border=\"1\" class=\"dataframe\">\n",
       "  <thead>\n",
       "    <tr style=\"text-align: right;\">\n",
       "      <th></th>\n",
       "      <th>target</th>\n",
       "      <th>text</th>\n",
       "    </tr>\n",
       "  </thead>\n",
       "  <tbody>\n",
       "    <tr>\n",
       "      <th>0</th>\n",
       "      <td>Company</td>\n",
       "      <td>E. D. Abbott Ltd -  Abbott of Farnham E D Abbo...</td>\n",
       "    </tr>\n",
       "    <tr>\n",
       "      <th>1</th>\n",
       "      <td>Company</td>\n",
       "      <td>Schwan-Stabilo -  Schwan-STABILO is a German m...</td>\n",
       "    </tr>\n",
       "    <tr>\n",
       "      <th>2</th>\n",
       "      <td>Company</td>\n",
       "      <td>Q-workshop -  Q-workshop is a Polish company l...</td>\n",
       "    </tr>\n",
       "    <tr>\n",
       "      <th>3</th>\n",
       "      <td>Company</td>\n",
       "      <td>Marvell Software Solutions Israel -  Marvell S...</td>\n",
       "    </tr>\n",
       "    <tr>\n",
       "      <th>4</th>\n",
       "      <td>Company</td>\n",
       "      <td>Bergan Mercy Medical Center -  Bergan Mercy Me...</td>\n",
       "    </tr>\n",
       "  </tbody>\n",
       "</table>\n",
       "</div>"
      ],
      "text/plain": [
       "    target                                               text\n",
       "0  Company  E. D. Abbott Ltd -  Abbott of Farnham E D Abbo...\n",
       "1  Company  Schwan-Stabilo -  Schwan-STABILO is a German m...\n",
       "2  Company  Q-workshop -  Q-workshop is a Polish company l...\n",
       "3  Company  Marvell Software Solutions Israel -  Marvell S...\n",
       "4  Company  Bergan Mercy Medical Center -  Bergan Mercy Me..."
      ]
     },
     "execution_count": 6,
     "metadata": {},
     "output_type": "execute_result"
    }
   ],
   "source": [
    "df_train.head()"
   ]
  },
  {
   "cell_type": "code",
   "execution_count": 7,
   "metadata": {},
   "outputs": [
    {
     "data": {
      "text/plain": [
       "Text(0.5, 0, 'Count')"
      ]
     },
     "execution_count": 7,
     "metadata": {},
     "output_type": "execute_result"
    },
    {
     "data": {
      "image/png": "[encoded data removed]",
      "text/plain": [
       "<Figure size 720x360 with 1 Axes>"
      ]
     },
     "metadata": {
      "needs_background": "light"
     },
     "output_type": "display_data"
    }
   ],
   "source": [
    "vc = df_train.target.value_counts().sort_index()\n",
    "ax = vc.plot(kind='barh', title='Number of observations per category', figsize=(10,5))\n",
    "[ax.text(v, i, v) for i, v in enumerate(vc)]\n",
    "ax.set_xlim(0, vc.max()*1.25)\n",
    "ax.set_ylabel('Category')\n",
    "ax.set_xlabel('Count')"
   ]
  },
  {
   "cell_type": "markdown",
   "metadata": {},
   "source": [
    "### Export file"
   ]
  },
  {
   "cell_type": "code",
   "execution_count": 8,
   "metadata": {},
   "outputs": [],
   "source": [
    "PREPROCESSED_FILE = '../datasets/preprocessed/dbpedia_train.csv'\n",
    "df_train.to_csv(PREPROCESSED_FILE, index=False)"
   ]
  },
  {
   "cell_type": "markdown",
   "metadata": {},
   "source": [
    "### Detect Non-English texts"
   ]
  },
  {
   "cell_type": "code",
   "execution_count": 9,
   "metadata": {},
   "outputs": [
    {
     "name": "stderr",
     "output_type": "stream",
     "text": [
      "Warning : `load_model` does not return WordVectorModel or SupervisedModel any more, but a `FastText` object which is very similar.\n"
     ]
    }
   ],
   "source": [
    "import fasttext\n",
    "import numpy as np\n",
    "from tqdm.notebook import tqdm_notebook\n",
    "\n",
    "tqdm_notebook.pandas()\n",
    "\n",
    "LANGUAGE_DETECTION_MODEL = \"../fasttext/language_identification/lid.176.bin\" #https://fasttext.cc/docs/en/language-identification.html\n",
    "model = fasttext.load_model(LANGUAGE_DETECTION_MODEL)"
   ]
  },
  {
   "cell_type": "code",
   "execution_count": 10,
   "metadata": {},
   "outputs": [],
   "source": [
    "def get_language(paragraph, k=None, return_all=False, min_certainty=0.25):\n",
    "    if pd.isna(paragraph):\n",
    "        return np.nan\n",
    "    sentences = [line for line in paragraph.split(\"\\n\") if line != '']\n",
    "    if len(sentences) < 1:\n",
    "        return np.nan\n",
    "    class_labels, certainties = model.predict(sentences, k)\n",
    "    # sum certainties per class label and then divide by length -> avg certainty\n",
    "    class_lookup, indexed_lang = np.unique(np.hstack(class_labels), return_inverse=True)\n",
    "    summed_certainties = np.bincount(indexed_lang, weights=np.hstack(certainties))/len(sentences)\n",
    "    if return_all:\n",
    "        return dict(zip(class_lookup, summed_certainties))\n",
    "    \n",
    "    # get most likely lang\n",
    "    lang_id = np.argmax(summed_certainties)\n",
    "    if summed_certainties[lang_id] < min_certainty:\n",
    "        return np.nan\n",
    "    return class_lookup[lang_id]        "
   ]
  },
  {
   "cell_type": "code",
   "execution_count": 11,
   "metadata": {
    "tags": []
   },
   "outputs": [
    {
     "data": {
      "application/vnd.jupyter.widget-view+json": {
       "model_id": "b0cfba53e771476f8f924b7ddd6ae145",
       "version_major": 2,
       "version_minor": 0
      },
      "text/plain": [
       "  0%|          | 0/560000 [00:00<?, ?it/s]"
      ]
     },
     "metadata": {},
     "output_type": "display_data"
    }
   ],
   "source": [
    "df_train['lang'] = df_train.text.progress_apply(lambda review: get_language(review, k=5))"
   ]
  },
  {
   "cell_type": "code",
   "execution_count": 12,
   "metadata": {},
   "outputs": [
    {
     "data": {
      "text/plain": [
       "Text(0.5, 0, 'Count')"
      ]
     },
     "execution_count": 12,
     "metadata": {},
     "output_type": "execute_result"
    },
    {
     "data": {
      "image/png": "[encoded data removed]",
      "text/plain": [
       "<Figure size 720x360 with 1 Axes>"
      ]
     },
     "metadata": {
      "needs_background": "light"
     },
     "output_type": "display_data"
    }
   ],
   "source": [
    "vc = df_train.lang.value_counts().sort_index()\n",
    "ax = vc.plot(kind='barh', title='Number of observations per language', figsize=(10,5))\n",
    "[ax.text(v, i, v) for i, v in enumerate(vc)]\n",
    "ax.set_xlim(0, vc.max()*1.25)\n",
    "ax.set_ylabel('Language')\n",
    "ax.set_xlabel('Count')"
   ]
  },
  {
   "cell_type": "code",
   "execution_count": 13,
   "metadata": {},
   "outputs": [
    {
     "data": {
      "text/plain": [
       "__label__en    558803\n",
       "__label__es       226\n",
       "__label__it       132\n",
       "__label__fr       119\n",
       "__label__de       113\n",
       "Name: lang, dtype: int64"
      ]
     },
     "execution_count": 13,
     "metadata": {},
     "output_type": "execute_result"
    }
   ],
   "source": [
    "vc.nlargest(5)"
   ]
  },
  {
   "cell_type": "code",
   "execution_count": 14,
   "metadata": {},
   "outputs": [
    {
     "data": {
      "text/plain": [
       "'99.7862% of samples are english'"
      ]
     },
     "execution_count": 14,
     "metadata": {},
     "output_type": "execute_result"
    }
   ],
   "source": [
    "f\"{vc['__label__en']/df_train.shape[0]*100:.4f}% of samples are english\" "
   ]
  },
  {
   "cell_type": "markdown",
   "metadata": {},
   "source": [
    "### Test Set analysis"
   ]
  },
  {
   "cell_type": "code",
   "execution_count": 15,
   "metadata": {},
   "outputs": [
    {
     "data": {
      "text/plain": [
       "(70000, 2)"
      ]
     },
     "execution_count": 15,
     "metadata": {},
     "output_type": "execute_result"
    }
   ],
   "source": [
    "df_test = read_dbpedia(TEST_DATASET_LOCATION)\n",
    "df_test.shape"
   ]
  },
  {
   "cell_type": "code",
   "execution_count": 16,
   "metadata": {},
   "outputs": [
    {
     "data": {
      "text/html": [
       "<div>\n",
       "<style scoped>\n",
       "    .dataframe tbody tr th:only-of-type {\n",
       "        vertical-align: middle;\n",
       "    }\n",
       "\n",
       "    .dataframe tbody tr th {\n",
       "        vertical-align: top;\n",
       "    }\n",
       "\n",
       "    .dataframe thead th {\n",
       "        text-align: right;\n",
       "    }\n",
       "</style>\n",
       "<table border=\"1\" class=\"dataframe\">\n",
       "  <thead>\n",
       "    <tr style=\"text-align: right;\">\n",
       "      <th></th>\n",
       "      <th>target</th>\n",
       "      <th>text</th>\n",
       "    </tr>\n",
       "  </thead>\n",
       "  <tbody>\n",
       "    <tr>\n",
       "      <th>0</th>\n",
       "      <td>Company</td>\n",
       "      <td>TY KU -  TY KU /taɪkuː/ is an American alcohol...</td>\n",
       "    </tr>\n",
       "    <tr>\n",
       "      <th>1</th>\n",
       "      <td>Company</td>\n",
       "      <td>Odd Lot Entertainment -  OddLot Entertainment ...</td>\n",
       "    </tr>\n",
       "    <tr>\n",
       "      <th>2</th>\n",
       "      <td>Company</td>\n",
       "      <td>Henkel -  Henkel AG &amp; Company KGaA operates wo...</td>\n",
       "    </tr>\n",
       "    <tr>\n",
       "      <th>3</th>\n",
       "      <td>Company</td>\n",
       "      <td>GOAT Store -  The GOAT Store (Games Of All Typ...</td>\n",
       "    </tr>\n",
       "    <tr>\n",
       "      <th>4</th>\n",
       "      <td>Company</td>\n",
       "      <td>RagWing Aircraft Designs -  RagWing Aircraft D...</td>\n",
       "    </tr>\n",
       "  </tbody>\n",
       "</table>\n",
       "</div>"
      ],
      "text/plain": [
       "    target                                               text\n",
       "0  Company  TY KU -  TY KU /taɪkuː/ is an American alcohol...\n",
       "1  Company  Odd Lot Entertainment -  OddLot Entertainment ...\n",
       "2  Company  Henkel -  Henkel AG & Company KGaA operates wo...\n",
       "3  Company  GOAT Store -  The GOAT Store (Games Of All Typ...\n",
       "4  Company  RagWing Aircraft Designs -  RagWing Aircraft D..."
      ]
     },
     "execution_count": 16,
     "metadata": {},
     "output_type": "execute_result"
    }
   ],
   "source": [
    "df_test.head()"
   ]
  },
  {
   "cell_type": "code",
   "execution_count": 17,
   "metadata": {},
   "outputs": [
    {
     "data": {
      "text/plain": [
       "Text(0.5, 0, 'Count')"
      ]
     },
     "execution_count": 17,
     "metadata": {},
     "output_type": "execute_result"
    },
    {
     "data": {
      "image/png": "[encoded data removed]",
      "text/plain": [
       "<Figure size 720x360 with 1 Axes>"
      ]
     },
     "metadata": {
      "needs_background": "light"
     },
     "output_type": "display_data"
    }
   ],
   "source": [
    "vc = df_test.target.value_counts().sort_index()\n",
    "ax = vc.plot(kind='barh', title='Number of observations per category', figsize=(10,5))\n",
    "[ax.text(v, i, v) for i, v in enumerate(vc)]\n",
    "ax.set_xlim(0, vc.max()*1.25)\n",
    "ax.set_ylabel('Category')\n",
    "ax.set_xlabel('Count')"
   ]
  },
  {
   "cell_type": "markdown",
   "metadata": {},
   "source": [
    "### Export file"
   ]
  },
  {
   "cell_type": "code",
   "execution_count": 18,
   "metadata": {},
   "outputs": [],
   "source": [
    "PREPROCESSED_FILE = '../datasets/preprocessed/dbpedia_test.csv'\n",
    "df_test.to_csv(PREPROCESSED_FILE, index=False)"
   ]
  },
  {
   "cell_type": "code",
   "execution_count": 19,
   "metadata": {},
   "outputs": [
    {
     "data": {
      "application/vnd.jupyter.widget-view+json": {
       "model_id": "42d569dbd91f48028b1bc559df6cede1",
       "version_major": 2,
       "version_minor": 0
      },
      "text/plain": [
       "  0%|          | 0/70000 [00:00<?, ?it/s]"
      ]
     },
     "metadata": {},
     "output_type": "display_data"
    }
   ],
   "source": [
    "df_test['lang'] = df_test.text.progress_apply(lambda review: get_language(review, k=5))"
   ]
  },
  {
   "cell_type": "code",
   "execution_count": 20,
   "metadata": {},
   "outputs": [
    {
     "data": {
      "text/plain": [
       "Text(0.5, 0, 'Count')"
      ]
     },
     "execution_count": 20,
     "metadata": {},
     "output_type": "execute_result"
    },
    {
     "data": {
      "image/png": "[encoded data removed]",
      "text/plain": [
       "<Figure size 720x360 with 1 Axes>"
      ]
     },
     "metadata": {
      "needs_background": "light"
     },
     "output_type": "display_data"
    }
   ],
   "source": [
    "vc = df_test.lang.value_counts().sort_index()\n",
    "ax = vc.plot(kind='barh', title='Number of observations per language', figsize=(10,5))\n",
    "[ax.text(v, i, v) for i, v in enumerate(vc)]\n",
    "ax.set_xlim(0, vc.max()*1.25)\n",
    "ax.set_ylabel('Language')\n",
    "ax.set_xlabel('Count')"
   ]
  },
  {
   "cell_type": "code",
   "execution_count": 21,
   "metadata": {},
   "outputs": [
    {
     "data": {
      "text/plain": [
       "__label__en    69844\n",
       "__label__es       39\n",
       "__label__it       15\n",
       "__label__de       13\n",
       "__label__fr       10\n",
       "Name: lang, dtype: int64"
      ]
     },
     "execution_count": 21,
     "metadata": {},
     "output_type": "execute_result"
    }
   ],
   "source": [
    "vc.nlargest(5)"
   ]
  },
  {
   "cell_type": "code",
   "execution_count": 22,
   "metadata": {},
   "outputs": [
    {
     "data": {
      "text/plain": [
       "'99.7771% of samples are english'"
      ]
     },
     "execution_count": 22,
     "metadata": {},
     "output_type": "execute_result"
    }
   ],
   "source": [
    "f\"{vc['__label__en']/df_test.shape[0]*100:.4f}% of samples are english\" "
   ]
  },
  {
   "cell_type": "code",
   "execution_count": null,
   "metadata": {},
   "outputs": [],
   "source": []
  }
 ],
 "metadata": {
  "kernelspec": {
   "display_name": "Python 3",
   "language": "python",
   "name": "python3"
  },
  "language_info": {
   "codemirror_mode": {
    "name": "ipython",
    "version": 3
   },
   "file_extension": ".py",
   "mimetype": "text/x-python",
   "name": "python",
   "nbconvert_exporter": "python",
   "pygments_lexer": "ipython3",
   "version": "3.8.8"
  }
 },
 "nbformat": 4,
 "nbformat_minor": 4
}
