{
 "cells": [
  {
   "cell_type": "markdown",
   "metadata": {},
   "source": [
    "# GermEval-2020 German Motivational Style Detection Dataset\n",
    "\n",
    "Obtained from https://www.inf.uni-hamburg.de/en/inst/ab/lt/resources/data/germeval-2020-cognitive-motive.html via [this link](https://www.inf.uni-hamburg.de/en/inst/ab/lt/resources/data/germeval-2020-cognitive-motive/public-data.zip)\n",
    "\n",
    "```\n",
    "@article{johannssengermeval,\n",
    "  title={GermEval 2020 Task 1 on the Classification and Regression of Cognitive and Motivational Style from Text: Companion Paper},\n",
    "  author={Johann{\\ss}en, Dirk and Biemann, Chris and Remus, Steffen and Baumann, Timo and Scheffer, David}\n",
    "}\n",
    "```"
   ]
  },
  {
   "cell_type": "code",
   "execution_count": 1,
   "metadata": {},
   "outputs": [],
   "source": [
    "import pandas as pd\n",
    "import os\n",
    "from tqdm import tqdm\n",
    "import hashlib\n",
    "\n",
    "TRAIN_DATASET_LOCATION = \"../datasets/germeval2020/public-data/train_data_sets/psychopred_task2_train_texts.tsv\"\n",
    "TRAIN_LABELS_LOCATION = \"../datasets/germeval2020/public-data/train_data_sets/psychopred_task2_train_labels.tsv\"\n",
    "TEST_DATASET_LOCATION = \"../datasets/germeval2020/public-data/test_data_sets/psychopred_task2_test_texts.tsv\"\n",
    "TEST_LABELS_LOCATION = \"../datasets/germeval2020/public-data/test_data_sets/psychopred_task2_test_labels.tsv\""
   ]
  },
  {
   "cell_type": "markdown",
   "metadata": {},
   "source": [
    "### Validity check"
   ]
  },
  {
   "cell_type": "code",
   "execution_count": 2,
   "metadata": {},
   "outputs": [],
   "source": [
    "VERIFY_CHECKSUM = True"
   ]
  },
  {
   "cell_type": "code",
   "execution_count": 3,
   "metadata": {},
   "outputs": [
    {
     "name": "stdout",
     "output_type": "stream",
     "text": [
      "Checksum matches\n",
      "Checksum matches\n",
      "Checksum matches\n",
      "Checksum matches\n"
     ]
    }
   ],
   "source": [
    "assert os.path.exists(TRAIN_DATASET_LOCATION)\n",
    "assert os.path.exists(TEST_DATASET_LOCATION)\n",
    "assert os.path.exists(TRAIN_LABELS_LOCATION)\n",
    "assert os.path.exists(TEST_LABELS_LOCATION)\n",
    "\n",
    "def verify_checksum(file, checksum):\n",
    "    with open(file, \"rb\") as f:\n",
    "        file_hash = hashlib.md5()\n",
    "        while chunk := f.read(8192):\n",
    "            file_hash.update(chunk)\n",
    "    assert checksum == file_hash.hexdigest()\n",
    "    print(\"Checksum matches\")\n",
    "    \n",
    "if VERIFY_CHECKSUM:\n",
    "    verify_checksum(TRAIN_DATASET_LOCATION, 'a170030e566210e4925a06dd573bd15a')\n",
    "    verify_checksum(TEST_DATASET_LOCATION, 'bfaef21744d2e35ef4f9ff90f0feb4ac')\n",
    "    verify_checksum(TRAIN_LABELS_LOCATION, 'c4fbbce6a1bbf2ca81a457a121ed02c2')\n",
    "    verify_checksum(TEST_LABELS_LOCATION, '40943b24e22e667998f3e4fe70674ca8')"
   ]
  },
  {
   "cell_type": "markdown",
   "metadata": {},
   "source": [
    "### Read data\n",
    "Please note that the training set contains some illegal entries with motive '\\\\N'"
   ]
  },
  {
   "cell_type": "code",
   "execution_count": 4,
   "metadata": {},
   "outputs": [
    {
     "data": {
      "text/html": [
       "<div>\n",
       "<style scoped>\n",
       "    .dataframe tbody tr th:only-of-type {\n",
       "        vertical-align: middle;\n",
       "    }\n",
       "\n",
       "    .dataframe tbody tr th {\n",
       "        vertical-align: top;\n",
       "    }\n",
       "\n",
       "    .dataframe thead th {\n",
       "        text-align: right;\n",
       "    }\n",
       "</style>\n",
       "<table border=\"1\" class=\"dataframe\">\n",
       "  <thead>\n",
       "    <tr style=\"text-align: right;\">\n",
       "      <th></th>\n",
       "      <th>text</th>\n",
       "      <th>target</th>\n",
       "    </tr>\n",
       "  </thead>\n",
       "  <tbody>\n",
       "    <tr>\n",
       "      <th>0</th>\n",
       "      <td>ignorieren des Getuschels.angespannt.geht es s...</td>\n",
       "      <td>F</td>\n",
       "    </tr>\n",
       "    <tr>\n",
       "      <th>1</th>\n",
       "      <td>Nähe, umarmen.gut, wertgeschätzt.weil sie der ...</td>\n",
       "      <td>M</td>\n",
       "    </tr>\n",
       "    <tr>\n",
       "      <th>2</th>\n",
       "      <td>seine Stärke zeigen.stark.weil sie stark ist.</td>\n",
       "      <td>F</td>\n",
       "    </tr>\n",
       "    <tr>\n",
       "      <th>3</th>\n",
       "      <td>Sie flüstern. Sie wollen Ihrer Wut Luft machen...</td>\n",
       "      <td>M</td>\n",
       "    </tr>\n",
       "    <tr>\n",
       "      <th>4</th>\n",
       "      <td>sie hat eine Aufgabe erfolgreich bewältigt, de...</td>\n",
       "      <td>F</td>\n",
       "    </tr>\n",
       "    <tr>\n",
       "      <th>5</th>\n",
       "      <td>Sie ist führend, dominierend.überlegen.Weil si...</td>\n",
       "      <td>M</td>\n",
       "    </tr>\n",
       "    <tr>\n",
       "      <th>6</th>\n",
       "      <td>der eine sagt dem anderen die Lösung vor.versc...</td>\n",
       "      <td>A</td>\n",
       "    </tr>\n",
       "    <tr>\n",
       "      <th>7</th>\n",
       "      <td>sie versucht ihre freunde zu überzeugen, sie h...</td>\n",
       "      <td>M</td>\n",
       "    </tr>\n",
       "    <tr>\n",
       "      <th>8</th>\n",
       "      <td>die personen reparieren etwas am fließband. si...</td>\n",
       "      <td>M</td>\n",
       "    </tr>\n",
       "    <tr>\n",
       "      <th>9</th>\n",
       "      <td>sich bejubeln zu lassen.stolz.weil sie bejubel...</td>\n",
       "      <td>F</td>\n",
       "    </tr>\n",
       "  </tbody>\n",
       "</table>\n",
       "</div>"
      ],
      "text/plain": [
       "                                                text target\n",
       "0  ignorieren des Getuschels.angespannt.geht es s...      F\n",
       "1  Nähe, umarmen.gut, wertgeschätzt.weil sie der ...      M\n",
       "2      seine Stärke zeigen.stark.weil sie stark ist.      F\n",
       "3  Sie flüstern. Sie wollen Ihrer Wut Luft machen...      M\n",
       "4  sie hat eine Aufgabe erfolgreich bewältigt, de...      F\n",
       "5  Sie ist führend, dominierend.überlegen.Weil si...      M\n",
       "6  der eine sagt dem anderen die Lösung vor.versc...      A\n",
       "7  sie versucht ihre freunde zu überzeugen, sie h...      M\n",
       "8  die personen reparieren etwas am fließband. si...      M\n",
       "9  sich bejubeln zu lassen.stolz.weil sie bejubel...      F"
      ]
     },
     "execution_count": 4,
     "metadata": {},
     "output_type": "execute_result"
    }
   ],
   "source": [
    "def read_germeval_2020(text_location, label_location, nrows=None):\n",
    "    df = pd.read_csv(text_location, nrows=nrows, sep=\"\\t\", escapechar=\"\\\\\").merge(pd.read_csv(label_location, nrows=nrows, sep=\"\\t\", escapechar=\"\\\\\"), on='UUID')\n",
    "    df['target'] = df.motive\n",
    "    #df['target'] = df.motive.str.cat(df.level.map(str), sep='-')\n",
    "    df = df.rename(columns={'OMT_text':'text'})\n",
    "    df = df[df.target != '\\\\N']\n",
    "    return df[['text', 'target']]\n",
    "\n",
    "read_germeval_2020(TRAIN_DATASET_LOCATION, TRAIN_LABELS_LOCATION, nrows=10)"
   ]
  },
  {
   "cell_type": "code",
   "execution_count": 5,
   "metadata": {},
   "outputs": [
    {
     "data": {
      "text/plain": [
       "(167187, 2)"
      ]
     },
     "execution_count": 5,
     "metadata": {},
     "output_type": "execute_result"
    }
   ],
   "source": [
    "df_train = read_germeval_2020(TRAIN_DATASET_LOCATION, TRAIN_LABELS_LOCATION)\n",
    "df_train.shape # 167200 with '\\\\N' entries"
   ]
  },
  {
   "cell_type": "code",
   "execution_count": 6,
   "metadata": {},
   "outputs": [
    {
     "data": {
      "text/html": [
       "<div>\n",
       "<style scoped>\n",
       "    .dataframe tbody tr th:only-of-type {\n",
       "        vertical-align: middle;\n",
       "    }\n",
       "\n",
       "    .dataframe tbody tr th {\n",
       "        vertical-align: top;\n",
       "    }\n",
       "\n",
       "    .dataframe thead th {\n",
       "        text-align: right;\n",
       "    }\n",
       "</style>\n",
       "<table border=\"1\" class=\"dataframe\">\n",
       "  <thead>\n",
       "    <tr style=\"text-align: right;\">\n",
       "      <th></th>\n",
       "      <th>text</th>\n",
       "      <th>target</th>\n",
       "    </tr>\n",
       "  </thead>\n",
       "  <tbody>\n",
       "    <tr>\n",
       "      <th>0</th>\n",
       "      <td>ignorieren des Getuschels.angespannt.geht es s...</td>\n",
       "      <td>F</td>\n",
       "    </tr>\n",
       "    <tr>\n",
       "      <th>1</th>\n",
       "      <td>Nähe, umarmen.gut, wertgeschätzt.weil sie der ...</td>\n",
       "      <td>M</td>\n",
       "    </tr>\n",
       "    <tr>\n",
       "      <th>2</th>\n",
       "      <td>seine Stärke zeigen.stark.weil sie stark ist.</td>\n",
       "      <td>F</td>\n",
       "    </tr>\n",
       "    <tr>\n",
       "      <th>3</th>\n",
       "      <td>Sie flüstern. Sie wollen Ihrer Wut Luft machen...</td>\n",
       "      <td>M</td>\n",
       "    </tr>\n",
       "    <tr>\n",
       "      <th>4</th>\n",
       "      <td>sie hat eine Aufgabe erfolgreich bewältigt, de...</td>\n",
       "      <td>F</td>\n",
       "    </tr>\n",
       "  </tbody>\n",
       "</table>\n",
       "</div>"
      ],
      "text/plain": [
       "                                                text target\n",
       "0  ignorieren des Getuschels.angespannt.geht es s...      F\n",
       "1  Nähe, umarmen.gut, wertgeschätzt.weil sie der ...      M\n",
       "2      seine Stärke zeigen.stark.weil sie stark ist.      F\n",
       "3  Sie flüstern. Sie wollen Ihrer Wut Luft machen...      M\n",
       "4  sie hat eine Aufgabe erfolgreich bewältigt, de...      F"
      ]
     },
     "execution_count": 6,
     "metadata": {},
     "output_type": "execute_result"
    }
   ],
   "source": [
    "df_train.head()"
   ]
  },
  {
   "cell_type": "code",
   "execution_count": 7,
   "metadata": {},
   "outputs": [
    {
     "data": {
      "text/plain": [
       "Text(0.5, 0, 'Count')"
      ]
     },
     "execution_count": 7,
     "metadata": {},
     "output_type": "execute_result"
    },
    {
     "data": {
      "image/png": "[encoded data removed]",
      "text/plain": [
       "<Figure size 720x360 with 1 Axes>"
      ]
     },
     "metadata": {
      "needs_background": "light"
     },
     "output_type": "display_data"
    }
   ],
   "source": [
    "vc = df_train.target.value_counts().sort_index()\n",
    "ax = vc.plot(kind='barh', title='Number of observations per category', figsize=(10,5))\n",
    "[ax.text(v, i, v) for i, v in enumerate(vc)]\n",
    "ax.set_xlim(0, vc.max()*1.25)\n",
    "ax.set_ylabel('Category')\n",
    "ax.set_xlabel('Count')"
   ]
  },
  {
   "cell_type": "markdown",
   "metadata": {},
   "source": [
    "### Export file"
   ]
  },
  {
   "cell_type": "code",
   "execution_count": 8,
   "metadata": {},
   "outputs": [],
   "source": [
    "PREPROCESSED_FILE = '../datasets/preprocessed/germeval2020_train.csv'\n",
    "df_train.to_csv(PREPROCESSED_FILE, index=False)"
   ]
  },
  {
   "cell_type": "markdown",
   "metadata": {},
   "source": [
    "### Detect Non-German texts"
   ]
  },
  {
   "cell_type": "code",
   "execution_count": 9,
   "metadata": {},
   "outputs": [
    {
     "name": "stderr",
     "output_type": "stream",
     "text": [
      "Warning : `load_model` does not return WordVectorModel or SupervisedModel any more, but a `FastText` object which is very similar.\n"
     ]
    }
   ],
   "source": [
    "import fasttext\n",
    "import numpy as np\n",
    "from tqdm.notebook import tqdm_notebook\n",
    "\n",
    "tqdm_notebook.pandas()\n",
    "\n",
    "LANGUAGE_DETECTION_MODEL = \"../fasttext/language_identification/lid.176.bin\" #https://fasttext.cc/docs/en/language-identification.html\n",
    "model = fasttext.load_model(LANGUAGE_DETECTION_MODEL)"
   ]
  },
  {
   "cell_type": "code",
   "execution_count": 10,
   "metadata": {},
   "outputs": [],
   "source": [
    "def get_language(paragraph, k=None, return_all=False, min_certainty=0.25):\n",
    "    if pd.isna(paragraph):\n",
    "        return np.nan\n",
    "    sentences = [line for line in paragraph.split(\"\\n\") if line != '']\n",
    "    if len(sentences) < 1:\n",
    "        return np.nan\n",
    "    class_labels, certainties = model.predict(sentences, k)\n",
    "    # sum certainties per class label and then divide by length -> avg certainty\n",
    "    class_lookup, indexed_lang = np.unique(np.hstack(class_labels), return_inverse=True)\n",
    "    summed_certainties = np.bincount(indexed_lang, weights=np.hstack(certainties))/len(sentences)\n",
    "    if return_all:\n",
    "        return dict(zip(class_lookup, summed_certainties))\n",
    "    \n",
    "    # get most likely lang\n",
    "    lang_id = np.argmax(summed_certainties)\n",
    "    if summed_certainties[lang_id] < min_certainty:\n",
    "        return np.nan\n",
    "    return class_lookup[lang_id]        "
   ]
  },
  {
   "cell_type": "code",
   "execution_count": 11,
   "metadata": {
    "tags": []
   },
   "outputs": [
    {
     "data": {
      "application/vnd.jupyter.widget-view+json": {
       "model_id": "1ff1fd33b0044009bacefa4e249f9c0c",
       "version_major": 2,
       "version_minor": 0
      },
      "text/plain": [
       "  0%|          | 0/167187 [00:00<?, ?it/s]"
      ]
     },
     "metadata": {},
     "output_type": "display_data"
    }
   ],
   "source": [
    "df_train['lang'] = df_train.text.progress_apply(lambda review: get_language(review, k=5))"
   ]
  },
  {
   "cell_type": "code",
   "execution_count": 12,
   "metadata": {},
   "outputs": [
    {
     "data": {
      "text/plain": [
       "Text(0.5, 0, 'Count')"
      ]
     },
     "execution_count": 12,
     "metadata": {},
     "output_type": "execute_result"
    },
    {
     "data": {
      "image/png": "[encoded data removed]",
      "text/plain": [
       "<Figure size 720x360 with 1 Axes>"
      ]
     },
     "metadata": {
      "needs_background": "light"
     },
     "output_type": "display_data"
    }
   ],
   "source": [
    "vc = df_train.lang.value_counts().sort_index()\n",
    "ax = vc.plot(kind='barh', title='Number of observations per language', figsize=(10,5))\n",
    "[ax.text(v, i, v) for i, v in enumerate(vc)]\n",
    "ax.set_xlim(0, vc.max()*1.25)\n",
    "ax.set_ylabel('Language')\n",
    "ax.set_xlabel('Count')"
   ]
  },
  {
   "cell_type": "code",
   "execution_count": 13,
   "metadata": {},
   "outputs": [
    {
     "data": {
      "text/plain": [
       "__label__de    166613\n",
       "__label__fr       306\n",
       "__label__en       171\n",
       "__label__sv         9\n",
       "__label__nl         7\n",
       "Name: lang, dtype: int64"
      ]
     },
     "execution_count": 13,
     "metadata": {},
     "output_type": "execute_result"
    }
   ],
   "source": [
    "vc.nlargest(5)"
   ]
  },
  {
   "cell_type": "code",
   "execution_count": 14,
   "metadata": {},
   "outputs": [
    {
     "data": {
      "text/plain": [
       "'99.6567% of samples are german'"
      ]
     },
     "execution_count": 14,
     "metadata": {},
     "output_type": "execute_result"
    }
   ],
   "source": [
    "f\"{vc['__label__de']/df_train.shape[0]*100:.4f}% of samples are german\" "
   ]
  },
  {
   "cell_type": "markdown",
   "metadata": {},
   "source": [
    "### Test Set analysis"
   ]
  },
  {
   "cell_type": "code",
   "execution_count": 15,
   "metadata": {},
   "outputs": [],
   "source": [
    "df_test = read_germeval_2020(TEST_DATASET_LOCATION, TEST_LABELS_LOCATION)"
   ]
  },
  {
   "cell_type": "code",
   "execution_count": 16,
   "metadata": {},
   "outputs": [
    {
     "data": {
      "text/html": [
       "<div>\n",
       "<style scoped>\n",
       "    .dataframe tbody tr th:only-of-type {\n",
       "        vertical-align: middle;\n",
       "    }\n",
       "\n",
       "    .dataframe tbody tr th {\n",
       "        vertical-align: top;\n",
       "    }\n",
       "\n",
       "    .dataframe thead th {\n",
       "        text-align: right;\n",
       "    }\n",
       "</style>\n",
       "<table border=\"1\" class=\"dataframe\">\n",
       "  <thead>\n",
       "    <tr style=\"text-align: right;\">\n",
       "      <th></th>\n",
       "      <th>text</th>\n",
       "      <th>target</th>\n",
       "    </tr>\n",
       "  </thead>\n",
       "  <tbody>\n",
       "    <tr>\n",
       "      <th>0</th>\n",
       "      <td>sie wollen, dass sich die andere person ihnen ...</td>\n",
       "      <td>0</td>\n",
       "    </tr>\n",
       "    <tr>\n",
       "      <th>1</th>\n",
       "      <td>Schadensbegrenzung durch Rechtfertigung. Schle...</td>\n",
       "      <td>F</td>\n",
       "    </tr>\n",
       "    <tr>\n",
       "      <th>2</th>\n",
       "      <td>Ausgeglichenheit und Ruhe. Ein Geständnis anhö...</td>\n",
       "      <td>M</td>\n",
       "    </tr>\n",
       "    <tr>\n",
       "      <th>3</th>\n",
       "      <td>Es ist im egal was die anderen über ihn sprech...</td>\n",
       "      <td>F</td>\n",
       "    </tr>\n",
       "    <tr>\n",
       "      <th>4</th>\n",
       "      <td>Die Person ist dabei einen Berg zu besteigen u...</td>\n",
       "      <td>L</td>\n",
       "    </tr>\n",
       "  </tbody>\n",
       "</table>\n",
       "</div>"
      ],
      "text/plain": [
       "                                                text target\n",
       "0  sie wollen, dass sich die andere person ihnen ...      0\n",
       "1  Schadensbegrenzung durch Rechtfertigung. Schle...      F\n",
       "2  Ausgeglichenheit und Ruhe. Ein Geständnis anhö...      M\n",
       "3  Es ist im egal was die anderen über ihn sprech...      F\n",
       "4  Die Person ist dabei einen Berg zu besteigen u...      L"
      ]
     },
     "execution_count": 16,
     "metadata": {},
     "output_type": "execute_result"
    }
   ],
   "source": [
    "df_test.head()"
   ]
  },
  {
   "cell_type": "code",
   "execution_count": 17,
   "metadata": {},
   "outputs": [
    {
     "data": {
      "text/plain": [
       "Text(0.5, 0, 'Count')"
      ]
     },
     "execution_count": 17,
     "metadata": {},
     "output_type": "execute_result"
    },
    {
     "data": {
      "image/png": "[encoded data removed]",
      "text/plain": [
       "<Figure size 720x360 with 1 Axes>"
      ]
     },
     "metadata": {
      "needs_background": "light"
     },
     "output_type": "display_data"
    }
   ],
   "source": [
    "vc = df_test.target.value_counts().sort_index()\n",
    "ax = vc.plot(kind='barh', title='Number of observations per category', figsize=(10,5))\n",
    "[ax.text(v, i, v) for i, v in enumerate(vc)]\n",
    "ax.set_xlim(0, vc.max()*1.25)\n",
    "ax.set_ylabel('Category')\n",
    "ax.set_xlabel('Count')"
   ]
  },
  {
   "cell_type": "markdown",
   "metadata": {},
   "source": [
    "### Export file"
   ]
  },
  {
   "cell_type": "code",
   "execution_count": 18,
   "metadata": {},
   "outputs": [],
   "source": [
    "PREPROCESSED_FILE = '../datasets/preprocessed/germeval2020_test.csv'\n",
    "df_test.to_csv(PREPROCESSED_FILE, index=False)"
   ]
  },
  {
   "cell_type": "code",
   "execution_count": 19,
   "metadata": {},
   "outputs": [
    {
     "data": {
      "application/vnd.jupyter.widget-view+json": {
       "model_id": "e81ed0620cfd4478861dcaedbf816993",
       "version_major": 2,
       "version_minor": 0
      },
      "text/plain": [
       "  0%|          | 0/20900 [00:00<?, ?it/s]"
      ]
     },
     "metadata": {},
     "output_type": "display_data"
    }
   ],
   "source": [
    "df_test['lang'] = df_test.text.progress_apply(lambda review: get_language(review, k=5))"
   ]
  },
  {
   "cell_type": "code",
   "execution_count": 20,
   "metadata": {},
   "outputs": [
    {
     "data": {
      "text/plain": [
       "Text(0.5, 0, 'Count')"
      ]
     },
     "execution_count": 20,
     "metadata": {},
     "output_type": "execute_result"
    },
    {
     "data": {
      "image/png": "[encoded data removed]",
      "text/plain": [
       "<Figure size 720x360 with 1 Axes>"
      ]
     },
     "metadata": {
      "needs_background": "light"
     },
     "output_type": "display_data"
    }
   ],
   "source": [
    "vc = df_test.lang.value_counts().sort_index()\n",
    "ax = vc.plot(kind='barh', title='Number of observations per language', figsize=(10,5))\n",
    "[ax.text(v, i, v) for i, v in enumerate(vc)]\n",
    "ax.set_xlim(0, vc.max()*1.25)\n",
    "ax.set_ylabel('Language')\n",
    "ax.set_xlabel('Count')"
   ]
  },
  {
   "cell_type": "code",
   "execution_count": 21,
   "metadata": {},
   "outputs": [
    {
     "data": {
      "text/plain": [
       "__label__de    20828\n",
       "__label__fr       38\n",
       "__label__en       22\n",
       "__label__nl        2\n",
       "__label__da        1\n",
       "Name: lang, dtype: int64"
      ]
     },
     "execution_count": 21,
     "metadata": {},
     "output_type": "execute_result"
    }
   ],
   "source": [
    "vc.nlargest(5)"
   ]
  },
  {
   "cell_type": "code",
   "execution_count": 22,
   "metadata": {},
   "outputs": [
    {
     "data": {
      "text/plain": [
       "'99.6555% of samples are german'"
      ]
     },
     "execution_count": 22,
     "metadata": {},
     "output_type": "execute_result"
    }
   ],
   "source": [
    "f\"{vc['__label__de']/df_test.shape[0]*100:.4f}% of samples are german\" "
   ]
  },
  {
   "cell_type": "code",
   "execution_count": null,
   "metadata": {},
   "outputs": [],
   "source": []
  }
 ],
 "metadata": {
  "kernelspec": {
   "display_name": "Python 3",
   "language": "python",
   "name": "python3"
  },
  "language_info": {
   "codemirror_mode": {
    "name": "ipython",
    "version": 3
   },
   "file_extension": ".py",
   "mimetype": "text/x-python",
   "name": "python",
   "nbconvert_exporter": "python",
   "pygments_lexer": "ipython3",
   "version": "3.8.8"
  }
 },
 "nbformat": 4,
 "nbformat_minor": 4
}
