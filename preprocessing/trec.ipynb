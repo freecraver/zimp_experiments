{
 "cells": [
  {
   "cell_type": "markdown",
   "metadata": {},
   "source": [
    "# TREC-6 question classification Dataset\n",
    "\n",
    "Obtained from https://cogcomp.seas.upenn.edu/Data/QA/QC/ (Training set 5 + Test set)\n",
    "```\n",
    "@inproceedings{li2002learning,\n",
    "  title={Learning question classifiers},\n",
    "  author={Li, Xin and Roth, Dan},\n",
    "  booktitle={COLING 2002: The 19th International Conference on Computational Linguistics},\n",
    "  year={2002}\n",
    "}\n",
    "```"
   ]
  },
  {
   "cell_type": "code",
   "execution_count": 1,
   "metadata": {},
   "outputs": [],
   "source": [
    "import pandas as pd\n",
    "import os\n",
    "from tqdm import tqdm\n",
    "import hashlib\n",
    "\n",
    "TRAIN_DATASET_LOCATION = \"../datasets/trec/train_5500.label\"\n",
    "TEST_DATASET_LOCATION = \"../datasets/trec/TREC_10.label\""
   ]
  },
  {
   "cell_type": "markdown",
   "metadata": {},
   "source": [
    "### Validity check"
   ]
  },
  {
   "cell_type": "code",
   "execution_count": 2,
   "metadata": {},
   "outputs": [],
   "source": [
    "VERIFY_CHECKSUM = True"
   ]
  },
  {
   "cell_type": "code",
   "execution_count": 3,
   "metadata": {},
   "outputs": [
    {
     "name": "stdout",
     "output_type": "stream",
     "text": [
      "Checksum matches\n",
      "Checksum matches\n"
     ]
    }
   ],
   "source": [
    "assert os.path.exists(TRAIN_DATASET_LOCATION)\n",
    "assert os.path.exists(TEST_DATASET_LOCATION)\n",
    "\n",
    "def verify_checksum(file, checksum):\n",
    "    with open(file, \"rb\") as f:\n",
    "        file_hash = hashlib.md5()\n",
    "        while chunk := f.read(8192):\n",
    "            file_hash.update(chunk)\n",
    "    assert checksum == file_hash.hexdigest()\n",
    "    print(\"Checksum matches\")\n",
    "    \n",
    "if VERIFY_CHECKSUM:\n",
    "    verify_checksum(TRAIN_DATASET_LOCATION, '073462e3fcefaae31e00edb1f18d2d02')\n",
    "    verify_checksum(TEST_DATASET_LOCATION, '323a3554401d86e650717e2d2f942589')"
   ]
  },
  {
   "cell_type": "markdown",
   "metadata": {},
   "source": [
    "### Read data"
   ]
  },
  {
   "cell_type": "code",
   "execution_count": 4,
   "metadata": {},
   "outputs": [
    {
     "data": {
      "text/html": [
       "<div>\n",
       "<style scoped>\n",
       "    .dataframe tbody tr th:only-of-type {\n",
       "        vertical-align: middle;\n",
       "    }\n",
       "\n",
       "    .dataframe tbody tr th {\n",
       "        vertical-align: top;\n",
       "    }\n",
       "\n",
       "    .dataframe thead th {\n",
       "        text-align: right;\n",
       "    }\n",
       "</style>\n",
       "<table border=\"1\" class=\"dataframe\">\n",
       "  <thead>\n",
       "    <tr style=\"text-align: right;\">\n",
       "      <th></th>\n",
       "      <th>0</th>\n",
       "      <th>1</th>\n",
       "    </tr>\n",
       "  </thead>\n",
       "  <tbody>\n",
       "    <tr>\n",
       "      <th>0</th>\n",
       "      <td>DESC:manner</td>\n",
       "      <td>How did serfdom develop in and then leave Russ...</td>\n",
       "    </tr>\n",
       "    <tr>\n",
       "      <th>1</th>\n",
       "      <td>ENTY:cremat</td>\n",
       "      <td>What films featured the character Popeye Doyle ?</td>\n",
       "    </tr>\n",
       "    <tr>\n",
       "      <th>2</th>\n",
       "      <td>DESC:manner</td>\n",
       "      <td>How can I find a list of celebrities ' real na...</td>\n",
       "    </tr>\n",
       "    <tr>\n",
       "      <th>3</th>\n",
       "      <td>ENTY:animal</td>\n",
       "      <td>What fowl grabs the spotlight after the Chines...</td>\n",
       "    </tr>\n",
       "    <tr>\n",
       "      <th>4</th>\n",
       "      <td>ABBR:exp</td>\n",
       "      <td>What is the full form of .com ?</td>\n",
       "    </tr>\n",
       "    <tr>\n",
       "      <th>5</th>\n",
       "      <td>HUM:ind</td>\n",
       "      <td>What contemptible scoundrel stole the cork fro...</td>\n",
       "    </tr>\n",
       "    <tr>\n",
       "      <th>6</th>\n",
       "      <td>HUM:gr</td>\n",
       "      <td>What team did baseball 's St. Louis Browns bec...</td>\n",
       "    </tr>\n",
       "    <tr>\n",
       "      <th>7</th>\n",
       "      <td>HUM:title</td>\n",
       "      <td>What is the oldest profession ?</td>\n",
       "    </tr>\n",
       "    <tr>\n",
       "      <th>8</th>\n",
       "      <td>DESC:def</td>\n",
       "      <td>What are liver enzymes ?</td>\n",
       "    </tr>\n",
       "    <tr>\n",
       "      <th>9</th>\n",
       "      <td>HUM:ind</td>\n",
       "      <td>Name the scar-faced bounty hunter of The Old W...</td>\n",
       "    </tr>\n",
       "  </tbody>\n",
       "</table>\n",
       "</div>"
      ],
      "text/plain": [
       "             0                                                  1\n",
       "0  DESC:manner  How did serfdom develop in and then leave Russ...\n",
       "1  ENTY:cremat   What films featured the character Popeye Doyle ?\n",
       "2  DESC:manner  How can I find a list of celebrities ' real na...\n",
       "3  ENTY:animal  What fowl grabs the spotlight after the Chines...\n",
       "4     ABBR:exp                    What is the full form of .com ?\n",
       "5      HUM:ind  What contemptible scoundrel stole the cork fro...\n",
       "6       HUM:gr  What team did baseball 's St. Louis Browns bec...\n",
       "7    HUM:title                    What is the oldest profession ?\n",
       "8     DESC:def                           What are liver enzymes ?\n",
       "9      HUM:ind  Name the scar-faced bounty hunter of The Old W..."
      ]
     },
     "execution_count": 4,
     "metadata": {},
     "output_type": "execute_result"
    }
   ],
   "source": [
    "def read_trec(path, nrows=None, remove_subcategory=True):\n",
    "    with open(path, \"r\") as f:\n",
    "        lines = []\n",
    "        nrow = 0\n",
    "        for line in f:\n",
    "            category, text = line.strip().split(\" \", 1)\n",
    "            category = category.split(\":\")[0] if remove_subcategory else category\n",
    "            lines.append([category, text])\n",
    "            nrow += 1\n",
    "            if nrows and nrow >= nrows:\n",
    "                break\n",
    "            \n",
    "    return pd.DataFrame(lines)\n",
    "\n",
    "read_trec(TRAIN_DATASET_LOCATION, 10, remove_subcategory=False)"
   ]
  },
  {
   "cell_type": "code",
   "execution_count": 5,
   "metadata": {},
   "outputs": [
    {
     "data": {
      "text/plain": [
       "(5452, 2)"
      ]
     },
     "execution_count": 5,
     "metadata": {},
     "output_type": "execute_result"
    }
   ],
   "source": [
    "df_trec_train = read_trec(TRAIN_DATASET_LOCATION)\n",
    "df_trec_train.columns = ['target', 'text']\n",
    "df_trec_train.shape"
   ]
  },
  {
   "cell_type": "code",
   "execution_count": 6,
   "metadata": {},
   "outputs": [
    {
     "data": {
      "text/html": [
       "<div>\n",
       "<style scoped>\n",
       "    .dataframe tbody tr th:only-of-type {\n",
       "        vertical-align: middle;\n",
       "    }\n",
       "\n",
       "    .dataframe tbody tr th {\n",
       "        vertical-align: top;\n",
       "    }\n",
       "\n",
       "    .dataframe thead th {\n",
       "        text-align: right;\n",
       "    }\n",
       "</style>\n",
       "<table border=\"1\" class=\"dataframe\">\n",
       "  <thead>\n",
       "    <tr style=\"text-align: right;\">\n",
       "      <th></th>\n",
       "      <th>target</th>\n",
       "      <th>text</th>\n",
       "    </tr>\n",
       "  </thead>\n",
       "  <tbody>\n",
       "    <tr>\n",
       "      <th>0</th>\n",
       "      <td>DESC</td>\n",
       "      <td>How did serfdom develop in and then leave Russ...</td>\n",
       "    </tr>\n",
       "    <tr>\n",
       "      <th>1</th>\n",
       "      <td>ENTY</td>\n",
       "      <td>What films featured the character Popeye Doyle ?</td>\n",
       "    </tr>\n",
       "    <tr>\n",
       "      <th>2</th>\n",
       "      <td>DESC</td>\n",
       "      <td>How can I find a list of celebrities ' real na...</td>\n",
       "    </tr>\n",
       "    <tr>\n",
       "      <th>3</th>\n",
       "      <td>ENTY</td>\n",
       "      <td>What fowl grabs the spotlight after the Chines...</td>\n",
       "    </tr>\n",
       "    <tr>\n",
       "      <th>4</th>\n",
       "      <td>ABBR</td>\n",
       "      <td>What is the full form of .com ?</td>\n",
       "    </tr>\n",
       "  </tbody>\n",
       "</table>\n",
       "</div>"
      ],
      "text/plain": [
       "  target                                               text\n",
       "0   DESC  How did serfdom develop in and then leave Russ...\n",
       "1   ENTY   What films featured the character Popeye Doyle ?\n",
       "2   DESC  How can I find a list of celebrities ' real na...\n",
       "3   ENTY  What fowl grabs the spotlight after the Chines...\n",
       "4   ABBR                    What is the full form of .com ?"
      ]
     },
     "execution_count": 6,
     "metadata": {},
     "output_type": "execute_result"
    }
   ],
   "source": [
    "df_trec_train.head()"
   ]
  },
  {
   "cell_type": "code",
   "execution_count": 25,
   "metadata": {},
   "outputs": [
    {
     "data": {
      "text/plain": [
       "0.2292736610418195"
      ]
     },
     "execution_count": 25,
     "metadata": {},
     "output_type": "execute_result"
    }
   ],
   "source": [
    "1250/5452"
   ]
  },
  {
   "cell_type": "code",
   "execution_count": 7,
   "metadata": {},
   "outputs": [
    {
     "data": {
      "text/plain": [
       "Text(0.5, 0, 'Count')"
      ]
     },
     "execution_count": 7,
     "metadata": {},
     "output_type": "execute_result"
    },
    {
     "data": {
      "image/png": "[encoded data removed]",
      "text/plain": [
       "<Figure size 720x360 with 1 Axes>"
      ]
     },
     "metadata": {
      "needs_background": "light"
     },
     "output_type": "display_data"
    }
   ],
   "source": [
    "vc = df_trec_train.target.value_counts().sort_index()\n",
    "ax = vc.plot(kind='barh', title='Number of observations per question category', figsize=(10,5))\n",
    "[ax.text(v, i, v) for i, v in enumerate(vc)]\n",
    "ax.set_xlim(0, vc.max()*1.25)\n",
    "ax.set_ylabel('Category')\n",
    "ax.set_xlabel('Count')"
   ]
  },
  {
   "cell_type": "markdown",
   "metadata": {},
   "source": [
    "### Export File"
   ]
  },
  {
   "cell_type": "code",
   "execution_count": 8,
   "metadata": {},
   "outputs": [],
   "source": [
    "PREPROCESSED_FILE = '../datasets/preprocessed/trec_train.csv'\n",
    "df_trec_train.to_csv(PREPROCESSED_FILE, index=False)"
   ]
  },
  {
   "cell_type": "markdown",
   "metadata": {},
   "source": [
    "### Detect Non-English texts"
   ]
  },
  {
   "cell_type": "code",
   "execution_count": 9,
   "metadata": {},
   "outputs": [
    {
     "name": "stderr",
     "output_type": "stream",
     "text": [
      "Warning : `load_model` does not return WordVectorModel or SupervisedModel any more, but a `FastText` object which is very similar.\n"
     ]
    }
   ],
   "source": [
    "import fasttext\n",
    "import numpy as np\n",
    "from tqdm.notebook import tqdm_notebook\n",
    "\n",
    "tqdm_notebook.pandas()\n",
    "\n",
    "LANGUAGE_DETECTION_MODEL = \"../fasttext/language_identification/lid.176.bin\" #https://fasttext.cc/docs/en/language-identification.html\n",
    "model = fasttext.load_model(LANGUAGE_DETECTION_MODEL)"
   ]
  },
  {
   "cell_type": "code",
   "execution_count": 10,
   "metadata": {},
   "outputs": [],
   "source": [
    "def get_language(paragraph, k=None, return_all=False, min_certainty=0.25):\n",
    "    if pd.isna(paragraph):\n",
    "        return np.nan\n",
    "    sentences = [line for line in paragraph.split(\"\\n\") if line != '']\n",
    "    if len(sentences) < 1:\n",
    "        return np.nan\n",
    "    class_labels, certainties = model.predict(sentences, k)\n",
    "    # sum certainties per class label and then divide by length -> avg certainty\n",
    "    class_lookup, indexed_lang = np.unique(np.hstack(class_labels), return_inverse=True)\n",
    "    summed_certainties = np.bincount(indexed_lang, weights=np.hstack(certainties))/len(sentences)\n",
    "    if return_all:\n",
    "        return dict(zip(class_lookup, summed_certainties))\n",
    "    \n",
    "    # get most likely lang\n",
    "    lang_id = np.argmax(summed_certainties)\n",
    "    if summed_certainties[lang_id] < min_certainty:\n",
    "        return np.nan\n",
    "    return class_lookup[lang_id]        "
   ]
  },
  {
   "cell_type": "code",
   "execution_count": 11,
   "metadata": {
    "tags": []
   },
   "outputs": [
    {
     "data": {
      "application/vnd.jupyter.widget-view+json": {
       "model_id": "35035c27d60549b8bd9eda56b15db22d",
       "version_major": 2,
       "version_minor": 0
      },
      "text/plain": [
       "  0%|          | 0/5452 [00:00<?, ?it/s]"
      ]
     },
     "metadata": {},
     "output_type": "display_data"
    }
   ],
   "source": [
    "df_trec_train['lang'] = df_trec_train.text.progress_apply(lambda review: get_language(review, k=5))"
   ]
  },
  {
   "cell_type": "code",
   "execution_count": 12,
   "metadata": {},
   "outputs": [
    {
     "data": {
      "text/plain": [
       "Text(0.5, 0, 'Count')"
      ]
     },
     "execution_count": 12,
     "metadata": {},
     "output_type": "execute_result"
    },
    {
     "data": {
      "image/png": "[encoded data removed]",
      "text/plain": [
       "<Figure size 720x360 with 1 Axes>"
      ]
     },
     "metadata": {
      "needs_background": "light"
     },
     "output_type": "display_data"
    }
   ],
   "source": [
    "vc = df_trec_train.lang.value_counts().sort_index()\n",
    "ax = vc.plot(kind='barh', title='Number of observations per language', figsize=(10,5))\n",
    "[ax.text(v, i, v) for i, v in enumerate(vc)]\n",
    "ax.set_xlim(0, vc.max()*1.25)\n",
    "ax.set_ylabel('Language')\n",
    "ax.set_xlabel('Count')"
   ]
  },
  {
   "cell_type": "code",
   "execution_count": 13,
   "metadata": {},
   "outputs": [
    {
     "data": {
      "text/plain": [
       "__label__en     5431\n",
       "__label__fr        6\n",
       "__label__eml       1\n",
       "__label__es        1\n",
       "__label__pt        1\n",
       "Name: lang, dtype: int64"
      ]
     },
     "execution_count": 13,
     "metadata": {},
     "output_type": "execute_result"
    }
   ],
   "source": [
    "vc.nlargest(5)"
   ]
  },
  {
   "cell_type": "code",
   "execution_count": 14,
   "metadata": {},
   "outputs": [
    {
     "data": {
      "text/plain": [
       "'99.6148% of samples are english'"
      ]
     },
     "execution_count": 14,
     "metadata": {},
     "output_type": "execute_result"
    }
   ],
   "source": [
    "f\"{vc['__label__en']/df_trec_train.shape[0]*100:.4f}% of samples are english\" "
   ]
  },
  {
   "cell_type": "code",
   "execution_count": 15,
   "metadata": {},
   "outputs": [
    {
     "data": {
      "text/html": [
       "<div>\n",
       "<style scoped>\n",
       "    .dataframe tbody tr th:only-of-type {\n",
       "        vertical-align: middle;\n",
       "    }\n",
       "\n",
       "    .dataframe tbody tr th {\n",
       "        vertical-align: top;\n",
       "    }\n",
       "\n",
       "    .dataframe thead th {\n",
       "        text-align: right;\n",
       "    }\n",
       "</style>\n",
       "<table border=\"1\" class=\"dataframe\">\n",
       "  <thead>\n",
       "    <tr style=\"text-align: right;\">\n",
       "      <th></th>\n",
       "      <th>target</th>\n",
       "      <th>text</th>\n",
       "      <th>lang</th>\n",
       "    </tr>\n",
       "  </thead>\n",
       "  <tbody>\n",
       "    <tr>\n",
       "      <th>148</th>\n",
       "      <td>HUM</td>\n",
       "      <td>Who produces Spumante ?</td>\n",
       "      <td>NaN</td>\n",
       "    </tr>\n",
       "    <tr>\n",
       "      <th>200</th>\n",
       "      <td>HUM</td>\n",
       "      <td>Name Alvin 's brothers</td>\n",
       "      <td>NaN</td>\n",
       "    </tr>\n",
       "    <tr>\n",
       "      <th>325</th>\n",
       "      <td>NUM</td>\n",
       "      <td>What is the latitude and longitude of El Paso ...</td>\n",
       "      <td>__label__fr</td>\n",
       "    </tr>\n",
       "    <tr>\n",
       "      <th>361</th>\n",
       "      <td>DESC</td>\n",
       "      <td>Define the Pheonix Club ?</td>\n",
       "      <td>NaN</td>\n",
       "    </tr>\n",
       "    <tr>\n",
       "      <th>470</th>\n",
       "      <td>LOC</td>\n",
       "      <td>Where do hyenas live ?</td>\n",
       "      <td>__label__pt</td>\n",
       "    </tr>\n",
       "    <tr>\n",
       "      <th>1360</th>\n",
       "      <td>HUM</td>\n",
       "      <td>Who sells Viagra ?</td>\n",
       "      <td>NaN</td>\n",
       "    </tr>\n",
       "    <tr>\n",
       "      <th>1422</th>\n",
       "      <td>ENTY</td>\n",
       "      <td>Name Li 'l Abner 's favorite Indian drink .</td>\n",
       "      <td>NaN</td>\n",
       "    </tr>\n",
       "    <tr>\n",
       "      <th>1535</th>\n",
       "      <td>NUM</td>\n",
       "      <td>What is the latitude and longitude of El Paso ...</td>\n",
       "      <td>__label__fr</td>\n",
       "    </tr>\n",
       "    <tr>\n",
       "      <th>1943</th>\n",
       "      <td>DESC</td>\n",
       "      <td>What 's the Red Planet ?</td>\n",
       "      <td>NaN</td>\n",
       "    </tr>\n",
       "    <tr>\n",
       "      <th>2164</th>\n",
       "      <td>DESC</td>\n",
       "      <td>Why can 't ostriches fly ?</td>\n",
       "      <td>__label__eml</td>\n",
       "    </tr>\n",
       "    <tr>\n",
       "      <th>2400</th>\n",
       "      <td>HUM</td>\n",
       "      <td>Who says , `` If you don 't look good , we don...</td>\n",
       "      <td>NaN</td>\n",
       "    </tr>\n",
       "    <tr>\n",
       "      <th>2593</th>\n",
       "      <td>DESC</td>\n",
       "      <td>What 's a short ton ?</td>\n",
       "      <td>NaN</td>\n",
       "    </tr>\n",
       "    <tr>\n",
       "      <th>2731</th>\n",
       "      <td>NUM</td>\n",
       "      <td>How long do hermit crabs live ?</td>\n",
       "      <td>NaN</td>\n",
       "    </tr>\n",
       "    <tr>\n",
       "      <th>2913</th>\n",
       "      <td>NUM</td>\n",
       "      <td>What 's men 's par on a 455-yard golf hole ?</td>\n",
       "      <td>__label__fr</td>\n",
       "    </tr>\n",
       "    <tr>\n",
       "      <th>3363</th>\n",
       "      <td>HUM</td>\n",
       "      <td>What is Li 'l Abner 's last name ?</td>\n",
       "      <td>NaN</td>\n",
       "    </tr>\n",
       "    <tr>\n",
       "      <th>3833</th>\n",
       "      <td>DESC</td>\n",
       "      <td>What does N est-ce pas mean ?</td>\n",
       "      <td>__label__fr</td>\n",
       "    </tr>\n",
       "    <tr>\n",
       "      <th>4579</th>\n",
       "      <td>NUM</td>\n",
       "      <td>What is the latitude and longitude of El Paso ...</td>\n",
       "      <td>__label__fr</td>\n",
       "    </tr>\n",
       "    <tr>\n",
       "      <th>4656</th>\n",
       "      <td>LOC</td>\n",
       "      <td>Where 's the Bernini-Bristol Hotel ?</td>\n",
       "      <td>NaN</td>\n",
       "    </tr>\n",
       "    <tr>\n",
       "      <th>4826</th>\n",
       "      <td>LOC</td>\n",
       "      <td>Where 's Montenegro ?</td>\n",
       "      <td>NaN</td>\n",
       "    </tr>\n",
       "    <tr>\n",
       "      <th>4987</th>\n",
       "      <td>NUM</td>\n",
       "      <td>What 's men 's par on a 455-yard golf hole ?</td>\n",
       "      <td>__label__fr</td>\n",
       "    </tr>\n",
       "    <tr>\n",
       "      <th>5011</th>\n",
       "      <td>DESC</td>\n",
       "      <td>Define Spumante .</td>\n",
       "      <td>__label__es</td>\n",
       "    </tr>\n",
       "  </tbody>\n",
       "</table>\n",
       "</div>"
      ],
      "text/plain": [
       "     target                                               text          lang\n",
       "148     HUM                            Who produces Spumante ?           NaN\n",
       "200     HUM                             Name Alvin 's brothers           NaN\n",
       "325     NUM  What is the latitude and longitude of El Paso ...   __label__fr\n",
       "361    DESC                          Define the Pheonix Club ?           NaN\n",
       "470     LOC                             Where do hyenas live ?   __label__pt\n",
       "1360    HUM                                 Who sells Viagra ?           NaN\n",
       "1422   ENTY        Name Li 'l Abner 's favorite Indian drink .           NaN\n",
       "1535    NUM  What is the latitude and longitude of El Paso ...   __label__fr\n",
       "1943   DESC                           What 's the Red Planet ?           NaN\n",
       "2164   DESC                         Why can 't ostriches fly ?  __label__eml\n",
       "2400    HUM  Who says , `` If you don 't look good , we don...           NaN\n",
       "2593   DESC                              What 's a short ton ?           NaN\n",
       "2731    NUM                    How long do hermit crabs live ?           NaN\n",
       "2913    NUM       What 's men 's par on a 455-yard golf hole ?   __label__fr\n",
       "3363    HUM                 What is Li 'l Abner 's last name ?           NaN\n",
       "3833   DESC                      What does N est-ce pas mean ?   __label__fr\n",
       "4579    NUM  What is the latitude and longitude of El Paso ...   __label__fr\n",
       "4656    LOC               Where 's the Bernini-Bristol Hotel ?           NaN\n",
       "4826    LOC                              Where 's Montenegro ?           NaN\n",
       "4987    NUM       What 's men 's par on a 455-yard golf hole ?   __label__fr\n",
       "5011   DESC                                  Define Spumante .   __label__es"
      ]
     },
     "execution_count": 15,
     "metadata": {},
     "output_type": "execute_result"
    }
   ],
   "source": [
    "df_trec_train[df_trec_train.lang != '__label__en']"
   ]
  },
  {
   "cell_type": "markdown",
   "metadata": {},
   "source": [
    "### Test Set analysis"
   ]
  },
  {
   "cell_type": "code",
   "execution_count": 16,
   "metadata": {},
   "outputs": [
    {
     "data": {
      "text/plain": [
       "(500, 2)"
      ]
     },
     "execution_count": 16,
     "metadata": {},
     "output_type": "execute_result"
    }
   ],
   "source": [
    "df_trec_test = read_trec(TEST_DATASET_LOCATION)\n",
    "df_trec_test.columns = ['target', 'text']\n",
    "df_trec_test.shape"
   ]
  },
  {
   "cell_type": "code",
   "execution_count": 17,
   "metadata": {},
   "outputs": [
    {
     "data": {
      "text/html": [
       "<div>\n",
       "<style scoped>\n",
       "    .dataframe tbody tr th:only-of-type {\n",
       "        vertical-align: middle;\n",
       "    }\n",
       "\n",
       "    .dataframe tbody tr th {\n",
       "        vertical-align: top;\n",
       "    }\n",
       "\n",
       "    .dataframe thead th {\n",
       "        text-align: right;\n",
       "    }\n",
       "</style>\n",
       "<table border=\"1\" class=\"dataframe\">\n",
       "  <thead>\n",
       "    <tr style=\"text-align: right;\">\n",
       "      <th></th>\n",
       "      <th>target</th>\n",
       "      <th>text</th>\n",
       "    </tr>\n",
       "  </thead>\n",
       "  <tbody>\n",
       "    <tr>\n",
       "      <th>0</th>\n",
       "      <td>NUM</td>\n",
       "      <td>How far is it from Denver to Aspen ?</td>\n",
       "    </tr>\n",
       "    <tr>\n",
       "      <th>1</th>\n",
       "      <td>LOC</td>\n",
       "      <td>What county is Modesto , California in ?</td>\n",
       "    </tr>\n",
       "    <tr>\n",
       "      <th>2</th>\n",
       "      <td>HUM</td>\n",
       "      <td>Who was Galileo ?</td>\n",
       "    </tr>\n",
       "    <tr>\n",
       "      <th>3</th>\n",
       "      <td>DESC</td>\n",
       "      <td>What is an atom ?</td>\n",
       "    </tr>\n",
       "    <tr>\n",
       "      <th>4</th>\n",
       "      <td>NUM</td>\n",
       "      <td>When did Hawaii become a state ?</td>\n",
       "    </tr>\n",
       "  </tbody>\n",
       "</table>\n",
       "</div>"
      ],
      "text/plain": [
       "  target                                      text\n",
       "0    NUM      How far is it from Denver to Aspen ?\n",
       "1    LOC  What county is Modesto , California in ?\n",
       "2    HUM                         Who was Galileo ?\n",
       "3   DESC                         What is an atom ?\n",
       "4    NUM          When did Hawaii become a state ?"
      ]
     },
     "execution_count": 17,
     "metadata": {},
     "output_type": "execute_result"
    }
   ],
   "source": [
    "df_trec_test.head()"
   ]
  },
  {
   "cell_type": "code",
   "execution_count": 18,
   "metadata": {},
   "outputs": [
    {
     "data": {
      "text/plain": [
       "Text(0.5, 0, 'Count')"
      ]
     },
     "execution_count": 18,
     "metadata": {},
     "output_type": "execute_result"
    },
    {
     "data": {
      "image/png": "[encoded data removed]",
      "text/plain": [
       "<Figure size 720x360 with 1 Axes>"
      ]
     },
     "metadata": {
      "needs_background": "light"
     },
     "output_type": "display_data"
    }
   ],
   "source": [
    "vc = df_trec_test.target.value_counts().sort_index()\n",
    "ax = vc.plot(kind='barh', title='Number of observations per question category', figsize=(10,5))\n",
    "[ax.text(v, i, v) for i, v in enumerate(vc)]\n",
    "ax.set_xlim(0, vc.max()*1.25)\n",
    "ax.set_ylabel('Category')\n",
    "ax.set_xlabel('Count')"
   ]
  },
  {
   "cell_type": "markdown",
   "metadata": {},
   "source": [
    "### Export file"
   ]
  },
  {
   "cell_type": "code",
   "execution_count": 19,
   "metadata": {},
   "outputs": [],
   "source": [
    "PREPROCESSED_FILE = '../datasets/preprocessed/trec_test.csv'\n",
    "df_trec_test.to_csv(PREPROCESSED_FILE, index=False)"
   ]
  },
  {
   "cell_type": "code",
   "execution_count": 20,
   "metadata": {},
   "outputs": [
    {
     "data": {
      "application/vnd.jupyter.widget-view+json": {
       "model_id": "49c6654967f043949a6f6c27cc4b1a3d",
       "version_major": 2,
       "version_minor": 0
      },
      "text/plain": [
       "  0%|          | 0/500 [00:00<?, ?it/s]"
      ]
     },
     "metadata": {},
     "output_type": "display_data"
    }
   ],
   "source": [
    "df_trec_test['lang'] = df_trec_test.text.progress_apply(lambda review: get_language(review, k=5))"
   ]
  },
  {
   "cell_type": "code",
   "execution_count": 21,
   "metadata": {},
   "outputs": [
    {
     "data": {
      "text/plain": [
       "Text(0.5, 0, 'Count')"
      ]
     },
     "execution_count": 21,
     "metadata": {},
     "output_type": "execute_result"
    },
    {
     "data": {
      "image/png": "[encoded data removed]",
      "text/plain": [
       "<Figure size 720x360 with 1 Axes>"
      ]
     },
     "metadata": {
      "needs_background": "light"
     },
     "output_type": "display_data"
    }
   ],
   "source": [
    "vc = df_trec_test.lang.value_counts().sort_index()\n",
    "ax = vc.plot(kind='barh', title='Number of observations per language', figsize=(10,5))\n",
    "[ax.text(v, i, v) for i, v in enumerate(vc)]\n",
    "ax.set_xlim(0, vc.max()*1.25)\n",
    "ax.set_ylabel('Language')\n",
    "ax.set_xlabel('Count')"
   ]
  },
  {
   "cell_type": "code",
   "execution_count": 22,
   "metadata": {},
   "outputs": [
    {
     "data": {
      "text/plain": [
       "__label__en    499\n",
       "Name: lang, dtype: int64"
      ]
     },
     "execution_count": 22,
     "metadata": {},
     "output_type": "execute_result"
    }
   ],
   "source": [
    "vc.nlargest(5)"
   ]
  },
  {
   "cell_type": "code",
   "execution_count": 23,
   "metadata": {},
   "outputs": [
    {
     "data": {
      "text/plain": [
       "'99.8000% of samples are english'"
      ]
     },
     "execution_count": 23,
     "metadata": {},
     "output_type": "execute_result"
    }
   ],
   "source": [
    "f\"{vc['__label__en']/df_trec_test.shape[0]*100:.4f}% of samples are english\" "
   ]
  }
 ],
 "metadata": {
  "kernelspec": {
   "display_name": "Python 3",
   "language": "python",
   "name": "python3"
  },
  "language_info": {
   "codemirror_mode": {
    "name": "ipython",
    "version": 3
   },
   "file_extension": ".py",
   "mimetype": "text/x-python",
   "name": "python",
   "nbconvert_exporter": "python",
   "pygments_lexer": "ipython3",
   "version": "3.8.8"
  }
 },
 "nbformat": 4,
 "nbformat_minor": 4
}
