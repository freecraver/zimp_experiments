{
 "cells": [
  {
   "cell_type": "markdown",
   "id": "3491f026-26b6-4a97-a9a8-a522f06706b4",
   "metadata": {},
   "source": [
    "This notebook is used to remove artifacts for no longer existing runs in Mlflow"
   ]
  },
  {
   "cell_type": "code",
   "execution_count": 1,
   "id": "dce34947-87cb-4bdd-ab97-425858ae7e2f",
   "metadata": {},
   "outputs": [],
   "source": [
    "import mlflow\n",
    "import pandas as pd\n",
    "import os\n",
    "import shutil\n",
    "\n",
    "from glob import glob\n",
    "\n",
    "artifact_dir = 'H:\\\\mlruns_2\\\\'\n",
    "experiment_name = 'Baseline-async'\n",
    "mlflow.set_tracking_uri('http://localhost/')"
   ]
  },
  {
   "cell_type": "code",
   "execution_count": 2,
   "id": "aeb06cab-af4e-408f-819b-b90fd6eee5b8",
   "metadata": {},
   "outputs": [
    {
     "data": {
      "text/plain": [
       "333"
      ]
     },
     "execution_count": 2,
     "metadata": {},
     "output_type": "execute_result"
    }
   ],
   "source": [
    "runs_with_artficats = []\n",
    "for f in glob(artifact_dir + '*'):\n",
    "    runs_with_artficats.append(os.path.basename(f))\n",
    "len(runs_with_artficats)"
   ]
  },
  {
   "cell_type": "code",
   "execution_count": 3,
   "id": "fc8fcc82-a9b8-47ca-bf0e-93a26b248ffa",
   "metadata": {},
   "outputs": [
    {
     "data": {
      "text/plain": [
       "0      32c6c37a0bab47a0aa9ac7781b7bf6f1\n",
       "1      98835f555a34424082c805cabdd44d15\n",
       "2      e477a4ba4dac4717b2d51da6beb0bc9f\n",
       "3      abebe1eb2560436f9a5a4db6a79e10fe\n",
       "4      5c5ed70970754259a0538395a85a1a61\n",
       "                     ...               \n",
       "241    52b3ce034aa64cef9c70b30c91a75405\n",
       "242    8af23752f0a040dcb93939e0926a6c8f\n",
       "243    3594b51440bc449b9129a27199488c1c\n",
       "244    8de36d8d26ec4bcb9c62983934487f65\n",
       "245    856299f856b04c1db2a0fb54dd57eff9\n",
       "Name: run_id, Length: 246, dtype: object"
      ]
     },
     "execution_count": 3,
     "metadata": {},
     "output_type": "execute_result"
    }
   ],
   "source": [
    "experiment = mlflow.get_experiment_by_name(experiment_name)\n",
    "df_exp = mlflow.search_runs(experiment_ids=[experiment.experiment_id], filter_string='attributes.status=\"FINISHED\"')\n",
    "finished_runs = df_exp.run_id\n",
    "finished_runs"
   ]
  },
  {
   "cell_type": "code",
   "execution_count": 4,
   "id": "b4783f5d-3b2a-4b3a-ba5c-be5605d297fa",
   "metadata": {},
   "outputs": [
    {
     "data": {
      "text/plain": [
       "[]"
      ]
     },
     "execution_count": 4,
     "metadata": {},
     "output_type": "execute_result"
    }
   ],
   "source": [
    "[run for run in finished_runs if run not in runs_with_artficats]"
   ]
  },
  {
   "cell_type": "code",
   "execution_count": 5,
   "id": "46af3fea-6105-4477-94fd-8048e8e38594",
   "metadata": {},
   "outputs": [
    {
     "name": "stdout",
     "output_type": "stream",
     "text": [
      "Found directories to delete: 87\n",
      "Expected directories to be deleted: 87\n"
     ]
    }
   ],
   "source": [
    "folders_to_delete = [run for run in runs_with_artficats if run not in finished_runs.values]\n",
    "print('Found directories to delete:', len(folders_to_delete))\n",
    "print('Expected directories to be deleted:', len(runs_with_artficats)-finished_runs.size)"
   ]
  },
  {
   "cell_type": "code",
   "execution_count": 6,
   "id": "ced2db67-3be5-4790-9a45-6c670117134d",
   "metadata": {},
   "outputs": [],
   "source": [
    "for folder in folders_to_delete:\n",
    "    shutil.rmtree(artifact_dir + folder)"
   ]
  }
 ],
 "metadata": {
  "kernelspec": {
   "display_name": "Python 3 (ipykernel)",
   "language": "python",
   "name": "python3"
  },
  "language_info": {
   "codemirror_mode": {
    "name": "ipython",
    "version": 3
   },
   "file_extension": ".py",
   "mimetype": "text/x-python",
   "name": "python",
   "nbconvert_exporter": "python",
   "pygments_lexer": "ipython3",
   "version": "3.8.12"
  }
 },
 "nbformat": 4,
 "nbformat_minor": 5
}
