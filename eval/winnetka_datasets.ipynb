{
 "cells": [
  {
   "cell_type": "code",
   "execution_count": 1,
   "id": "34454b42-48fb-44a3-9b91-beda4b596bec",
   "metadata": {},
   "outputs": [
    {
     "name": "stderr",
     "output_type": "stream",
     "text": [
      "[nltk_data] Downloading package wordnet to\n",
      "[nltk_data]     C:\\Users\\Martin\\AppData\\Roaming\\nltk_data...\n",
      "[nltk_data]   Package wordnet is already up-to-date!\n",
      "[nltk_data] Downloading package punkt to\n",
      "[nltk_data]     C:\\Users\\Martin\\AppData\\Roaming\\nltk_data...\n",
      "[nltk_data]   Package punkt is already up-to-date!\n",
      "[nltk_data] Downloading package perluniprops to\n",
      "[nltk_data]     C:\\Users\\Martin\\AppData\\Roaming\\nltk_data...\n",
      "[nltk_data]   Package perluniprops is already up-to-date!\n"
     ]
    }
   ],
   "source": [
    "import pandas as pd\n",
    "import numpy as np\n",
    "import matplotlib.pyplot as plt\n",
    "import os\n",
    "import scipy.stats\n",
    "import seaborn as sns\n",
    "from glob import glob\n",
    "from zimp.readability.winnetka import WinnetkaScore\n",
    "\n",
    "plt.style.use('seaborn-whitegrid')"
   ]
  },
  {
   "cell_type": "code",
   "execution_count": 2,
   "id": "276c1154-b128-44be-a140-7de0f6435118",
   "metadata": {},
   "outputs": [],
   "source": [
    "def get_ds_language(ds):\n",
    "    if ds in ['10K-GNAD', 'GERMEVAL-2018', 'GERMEVAL-2020']:\n",
    "        return 'german'\n",
    "    return 'english'\n",
    "\n",
    "source_dir = '../../zimp_orchestrator/orch/resources'\n",
    "\n",
    "def get_score(ds):\n",
    "    pass"
   ]
  },
  {
   "cell_type": "code",
   "execution_count": 3,
   "id": "208d4d2a-0a49-4638-8cad-5c287c8ea956",
   "metadata": {},
   "outputs": [
    {
     "name": "stdout",
     "output_type": "stream",
     "text": [
      "10K-GNAD 0    213.780233\n",
      "Name: 10K-GNAD, dtype: float64\n",
      "DBP-14 0    246.703101\n",
      "Name: DBP-14, dtype: float64\n",
      "GERMEVAL-2018 0    258.480217\n",
      "Name: GERMEVAL-2018, dtype: float64\n",
      "GERMEVAL-2020 0    171.401563\n",
      "Name: GERMEVAL-2020, dtype: float64\n",
      "TREC-6 0    196.772436\n",
      "Name: TREC-6, dtype: float64\n",
      "YELP-5 0    170.194108\n",
      "Name: YELP-5, dtype: float64\n"
     ]
    }
   ],
   "source": [
    "if os.path.exists('winnetka_scores.csv'):\n",
    "    df_scores = pd.read_csv('winnetka_scores.csv')\n",
    "else:\n",
    "    df_scores = pd.Series()\n",
    "\n",
    "for file in glob('winnetka/*train.csv'):\n",
    "    dataset =  os.path.basename(file.split('_')[-2])\n",
    "    if dataset in df_scores.index:\n",
    "        print(dataset, df_scores[dataset])\n",
    "        continue\n",
    "    train_file = os.path.join(source_dir, dataset, 'train.csv')\n",
    "    test_file = os.path.join(source_dir, dataset, 'test.csv')\n",
    "    texts = pd.read_csv(train_file).text.append(pd.read_csv(test_file).text)\n",
    "    lang = get_ds_language(dataset)\n",
    "    scorer = WinnetkaScore(language=lang)\n",
    "    df_scores[dataset] = scorer.get_dataset_score(texts)\n",
    "    print(dataset, df_scores[dataset])\n",
    "    df_scores.to_csv('winnetka_scores.csv')"
   ]
  }
 ],
 "metadata": {
  "kernelspec": {
   "display_name": "Python 3 (ipykernel)",
   "language": "python",
   "name": "python3"
  },
  "language_info": {
   "codemirror_mode": {
    "name": "ipython",
    "version": 3
   },
   "file_extension": ".py",
   "mimetype": "text/x-python",
   "name": "python",
   "nbconvert_exporter": "python",
   "pygments_lexer": "ipython3",
   "version": "3.8.12"
  }
 },
 "nbformat": 4,
 "nbformat_minor": 5
}
